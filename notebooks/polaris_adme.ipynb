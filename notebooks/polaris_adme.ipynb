{
 "cells": [
  {
   "cell_type": "markdown",
   "metadata": {},
   "source": [
    "# `polaris adme`\n",
    "\n",
    "This notebook demonstrates using the Mordred(-community) molecular descriptors with Neural Pairwise Regression (via `nepare`) with the `polaris` benchmarking library.\n",
    "\n",
    "## Requirements\n",
    "Python 3.10+ (originally run on 3.12)\n",
    " - polaris-lib\n",
    " - pandas\n",
    " - fastprop\n",
    " - mordredcommunity\n",
    " - rdkit\n",
    " - lightning\n",
    " - torch\n",
    " - numpy\n",
    " - ipywidgets\n",
    "\n",
    "You will also need to run `pip install .` in the repository's root directory to install `nepare`."
   ]
  },
  {
   "cell_type": "markdown",
   "metadata": {},
   "source": [
    "## `polaris` Setup\n",
    "\n",
    "After running `polaris login` on the command line, we can import everything (checking that the version is recent enough) and then download the benchmark data."
   ]
  },
  {
   "cell_type": "code",
   "execution_count": 1,
   "metadata": {},
   "outputs": [],
   "source": [
    "import polaris as po\n",
    "import pandas as pd"
   ]
  },
  {
   "cell_type": "code",
   "execution_count": 2,
   "metadata": {},
   "outputs": [],
   "source": [
    "from packaging.version import Version\n",
    "assert Version(po.__version__) >= Version(\"0.11.6\"), \"test.as_dataframe does not work in earlier versions of Polaris, please upgrade\""
   ]
  },
  {
   "cell_type": "markdown",
   "metadata": {},
   "source": [
    "`polaris` makes it really easy to run different benchmarks quickly - just change the name inside `load_benchmark` to try something else.\n",
    "I'm using this same notebook for a few different benchmarks, all from the Fang biogen ADME paper (https://pubs.acs.org/doi/abs/10.1021/acs.jcim.3c00160) which have been made conveniently available on `polaris`."
   ]
  },
  {
   "cell_type": "code",
   "execution_count": 3,
   "metadata": {},
   "outputs": [],
   "source": [
    "%%capture\n",
    "# https://polarishub.io/benchmarks/polaris/adme-fang-rppb-1\n",
    "# benchmark = po.load_benchmark(\"polaris/adme-fang-RPPB-1\")\n",
    "# https://polarishub.io/benchmarks/polaris/adme-fang-solu-1\n",
    "# benchmark = po.load_benchmark(\"polaris/adme-fang-SOLU-1\")\n",
    "# https://polarishub.io/benchmarks/polaris/adme-fang-hppb-1\n",
    "benchmark = po.load_benchmark(\"polaris/adme-fang-HPPB-1\")\n",
    "# https://polarishub.io/benchmarks/polaris/pkis1-ret-wt-mut-r-1\n",
    "# benchmark = po.load_benchmark(\"polaris/pkis1-ret-wt-mut-r-1\")\n",
    "# https://polarishub.io/benchmarks/polaris/pkis1-kit-wt-mut-r-1\n",
    "# benchmark = po.load_benchmark(\"polaris/pkis1-kit-wt-mut-r-1\")\n"
   ]
  },
  {
   "cell_type": "code",
   "execution_count": 4,
   "metadata": {},
   "outputs": [],
   "source": [
    "train, test = benchmark.get_train_test_split()\n",
    "test_df: pd.DataFrame = test.as_dataframe()\n",
    "train_df: pd.DataFrame = train.as_dataframe()"
   ]
  },
  {
   "cell_type": "markdown",
   "metadata": {},
   "source": [
    "We'll shuffle the data just for good measure."
   ]
  },
  {
   "cell_type": "code",
   "execution_count": 5,
   "metadata": {},
   "outputs": [],
   "source": [
    "train_df = train_df.sample(frac=1.0, random_state=1701)  # shuffle the training data"
   ]
  },
  {
   "cell_type": "code",
   "execution_count": 6,
   "metadata": {},
   "outputs": [
    {
     "data": {
      "text/html": [
       "<div>\n",
       "<style scoped>\n",
       "    .dataframe tbody tr th:only-of-type {\n",
       "        vertical-align: middle;\n",
       "    }\n",
       "\n",
       "    .dataframe tbody tr th {\n",
       "        vertical-align: top;\n",
       "    }\n",
       "\n",
       "    .dataframe thead th {\n",
       "        text-align: right;\n",
       "    }\n",
       "</style>\n",
       "<table border=\"1\" class=\"dataframe\">\n",
       "  <thead>\n",
       "    <tr style=\"text-align: right;\">\n",
       "      <th></th>\n",
       "      <th>smiles</th>\n",
       "      <th>LOG_HPPB</th>\n",
       "    </tr>\n",
       "  </thead>\n",
       "  <tbody>\n",
       "    <tr>\n",
       "      <th>88</th>\n",
       "      <td>CN(Cc1ccccc1)C1(C(=O)N2CCNC(=O)CC2)Cc2ccccc2C1</td>\n",
       "      <td>0.904932</td>\n",
       "    </tr>\n",
       "    <tr>\n",
       "      <th>58</th>\n",
       "      <td>Cc1cnc(C(=O)NCCc2ccc(S(=O)(=O)NC(=O)NC3CCCCC3)...</td>\n",
       "      <td>0.017451</td>\n",
       "    </tr>\n",
       "    <tr>\n",
       "      <th>79</th>\n",
       "      <td>Cc1c[nH]c2nccc(Oc3c(F)cc(Nc4cc(Cl)nc(N)n4)cc3F...</td>\n",
       "      <td>-1.221849</td>\n",
       "    </tr>\n",
       "    <tr>\n",
       "      <th>80</th>\n",
       "      <td>CNC(=O)C1(Cc2ccc(-c3cccnc3)cc2)CCN(Cc2cccc(F)c...</td>\n",
       "      <td>0.829754</td>\n",
       "    </tr>\n",
       "    <tr>\n",
       "      <th>39</th>\n",
       "      <td>NC1CC(NC(=O)c2ccc(-c3cn[nH]c3)cn2)C12CCC2</td>\n",
       "      <td>1.709702</td>\n",
       "    </tr>\n",
       "    <tr>\n",
       "      <th>...</th>\n",
       "      <td>...</td>\n",
       "      <td>...</td>\n",
       "    </tr>\n",
       "    <tr>\n",
       "      <th>26</th>\n",
       "      <td>Cc1oc2ccccc2c1CNc1nnc(-c2ccncc2)o1</td>\n",
       "      <td>0.717254</td>\n",
       "    </tr>\n",
       "    <tr>\n",
       "      <th>110</th>\n",
       "      <td>CC(=O)N1CCN(c2c(Cl)cccc2NC(=O)COc2ccccc2Cl)CC1</td>\n",
       "      <td>0.256958</td>\n",
       "    </tr>\n",
       "    <tr>\n",
       "      <th>94</th>\n",
       "      <td>COc1nn(C)cc1C(=O)Nc1cccc2cnccc12</td>\n",
       "      <td>1.504729</td>\n",
       "    </tr>\n",
       "    <tr>\n",
       "      <th>4</th>\n",
       "      <td>CC(=O)Nc1ccc(C(=O)N2CCCCC2c2nc(N)ncc2-c2ccc(Cl...</td>\n",
       "      <td>0.596927</td>\n",
       "    </tr>\n",
       "    <tr>\n",
       "      <th>46</th>\n",
       "      <td>CC(=O)Nc1ccc(O)cc1</td>\n",
       "      <td>1.887859</td>\n",
       "    </tr>\n",
       "  </tbody>\n",
       "</table>\n",
       "<p>126 rows × 2 columns</p>\n",
       "</div>"
      ],
      "text/plain": [
       "                                                smiles  LOG_HPPB\n",
       "88      CN(Cc1ccccc1)C1(C(=O)N2CCNC(=O)CC2)Cc2ccccc2C1  0.904932\n",
       "58   Cc1cnc(C(=O)NCCc2ccc(S(=O)(=O)NC(=O)NC3CCCCC3)...  0.017451\n",
       "79   Cc1c[nH]c2nccc(Oc3c(F)cc(Nc4cc(Cl)nc(N)n4)cc3F... -1.221849\n",
       "80   CNC(=O)C1(Cc2ccc(-c3cccnc3)cc2)CCN(Cc2cccc(F)c...  0.829754\n",
       "39           NC1CC(NC(=O)c2ccc(-c3cn[nH]c3)cn2)C12CCC2  1.709702\n",
       "..                                                 ...       ...\n",
       "26                  Cc1oc2ccccc2c1CNc1nnc(-c2ccncc2)o1  0.717254\n",
       "110     CC(=O)N1CCN(c2c(Cl)cccc2NC(=O)COc2ccccc2Cl)CC1  0.256958\n",
       "94                    COc1nn(C)cc1C(=O)Nc1cccc2cnccc12  1.504729\n",
       "4    CC(=O)Nc1ccc(C(=O)N2CCCCC2c2nc(N)ncc2-c2ccc(Cl...  0.596927\n",
       "46                                  CC(=O)Nc1ccc(O)cc1  1.887859\n",
       "\n",
       "[126 rows x 2 columns]"
      ]
     },
     "execution_count": 6,
     "metadata": {},
     "output_type": "execute_result"
    }
   ],
   "source": [
    "train_df"
   ]
  },
  {
   "cell_type": "markdown",
   "metadata": {},
   "source": [
    "## Featurize the Molecules with `mordred(community)`\n",
    "We use `mordred` to calculate a vector of molecular descriptors for each species in this dataset, and then do some re-scaling and imputing to prepare the data for use."
   ]
  },
  {
   "cell_type": "code",
   "execution_count": 7,
   "metadata": {},
   "outputs": [],
   "source": [
    "from mordred import Calculator, descriptors\n",
    "from rdkit.Chem import MolFromSmiles"
   ]
  },
  {
   "cell_type": "code",
   "execution_count": 8,
   "metadata": {},
   "outputs": [],
   "source": [
    "calc = Calculator(descriptors, ignore_3D=True)"
   ]
  },
  {
   "cell_type": "code",
   "execution_count": 9,
   "metadata": {},
   "outputs": [
    {
     "name": "stderr",
     "output_type": "stream",
     "text": [
      "100%|██████████| 126/126 [00:02<00:00, 51.23it/s]\n",
      "/home/jackson/neural-pairwise-regression/.venv/lib/python3.12/site-packages/mordred/_base/pandas_module.py:17: FutureWarning: DataFrame.applymap has been deprecated. Use DataFrame.map instead.\n",
      "  t[t.applymap(is_missing)] = value\n",
      "100%|██████████| 34/34 [00:00<00:00, 49.14it/s]\n",
      "/home/jackson/neural-pairwise-regression/.venv/lib/python3.12/site-packages/mordred/_base/pandas_module.py:17: FutureWarning: DataFrame.applymap has been deprecated. Use DataFrame.map instead.\n",
      "  t[t.applymap(is_missing)] = value\n"
     ]
    }
   ],
   "source": [
    "train_features = calc.pandas(map(MolFromSmiles, train_df[\"smiles\"]), nmols=len(train_df)).fill_missing()\n",
    "test_features = calc.pandas(map(MolFromSmiles, test_df[\"smiles\"]), nmols=len(test_df)).fill_missing()"
   ]
  },
  {
   "cell_type": "code",
   "execution_count": 10,
   "metadata": {},
   "outputs": [
    {
     "data": {
      "text/html": [
       "<div>\n",
       "<style scoped>\n",
       "    .dataframe tbody tr th:only-of-type {\n",
       "        vertical-align: middle;\n",
       "    }\n",
       "\n",
       "    .dataframe tbody tr th {\n",
       "        vertical-align: top;\n",
       "    }\n",
       "\n",
       "    .dataframe thead th {\n",
       "        text-align: right;\n",
       "    }\n",
       "</style>\n",
       "<table border=\"1\" class=\"dataframe\">\n",
       "  <thead>\n",
       "    <tr style=\"text-align: right;\">\n",
       "      <th></th>\n",
       "      <th>ABC</th>\n",
       "      <th>ABCGG</th>\n",
       "      <th>nAcid</th>\n",
       "      <th>nBase</th>\n",
       "      <th>SpAbs_A</th>\n",
       "      <th>SpMax_A</th>\n",
       "      <th>SpDiam_A</th>\n",
       "      <th>SpAD_A</th>\n",
       "      <th>SpMAD_A</th>\n",
       "      <th>LogEE_A</th>\n",
       "      <th>...</th>\n",
       "      <th>SRW10</th>\n",
       "      <th>TSRW10</th>\n",
       "      <th>MW</th>\n",
       "      <th>AMW</th>\n",
       "      <th>WPath</th>\n",
       "      <th>WPol</th>\n",
       "      <th>Zagreb1</th>\n",
       "      <th>Zagreb2</th>\n",
       "      <th>mZagreb1</th>\n",
       "      <th>mZagreb2</th>\n",
       "    </tr>\n",
       "  </thead>\n",
       "  <tbody>\n",
       "    <tr>\n",
       "      <th>0</th>\n",
       "      <td>22.044380</td>\n",
       "      <td>17.873084</td>\n",
       "      <td>0</td>\n",
       "      <td>1</td>\n",
       "      <td>36.754262</td>\n",
       "      <td>2.548742</td>\n",
       "      <td>4.977040</td>\n",
       "      <td>36.754262</td>\n",
       "      <td>1.312652</td>\n",
       "      <td>4.272717</td>\n",
       "      <td>...</td>\n",
       "      <td>10.317020</td>\n",
       "      <td>78.137325</td>\n",
       "      <td>377.210327</td>\n",
       "      <td>6.858370</td>\n",
       "      <td>1909</td>\n",
       "      <td>49</td>\n",
       "      <td>150.0</td>\n",
       "      <td>179.0</td>\n",
       "      <td>8.090278</td>\n",
       "      <td>6.138889</td>\n",
       "    </tr>\n",
       "    <tr>\n",
       "      <th>1</th>\n",
       "      <td>23.878481</td>\n",
       "      <td>17.487201</td>\n",
       "      <td>0</td>\n",
       "      <td>0</td>\n",
       "      <td>38.878448</td>\n",
       "      <td>2.371316</td>\n",
       "      <td>4.742632</td>\n",
       "      <td>38.878448</td>\n",
       "      <td>1.254143</td>\n",
       "      <td>4.342553</td>\n",
       "      <td>...</td>\n",
       "      <td>10.163426</td>\n",
       "      <td>66.435015</td>\n",
       "      <td>445.178375</td>\n",
       "      <td>7.675489</td>\n",
       "      <td>3430</td>\n",
       "      <td>44</td>\n",
       "      <td>156.0</td>\n",
       "      <td>176.0</td>\n",
       "      <td>10.340278</td>\n",
       "      <td>6.819444</td>\n",
       "    </tr>\n",
       "    <tr>\n",
       "      <th>2</th>\n",
       "      <td>22.265059</td>\n",
       "      <td>17.391952</td>\n",
       "      <td>0</td>\n",
       "      <td>0</td>\n",
       "      <td>35.459035</td>\n",
       "      <td>2.459516</td>\n",
       "      <td>4.869993</td>\n",
       "      <td>35.459035</td>\n",
       "      <td>1.266394</td>\n",
       "      <td>4.275317</td>\n",
       "      <td>...</td>\n",
       "      <td>10.320321</td>\n",
       "      <td>77.580074</td>\n",
       "      <td>402.080743</td>\n",
       "      <td>9.806847</td>\n",
       "      <td>2161</td>\n",
       "      <td>45</td>\n",
       "      <td>152.0</td>\n",
       "      <td>180.0</td>\n",
       "      <td>9.222222</td>\n",
       "      <td>5.972222</td>\n",
       "    </tr>\n",
       "    <tr>\n",
       "      <th>3</th>\n",
       "      <td>23.451254</td>\n",
       "      <td>17.780215</td>\n",
       "      <td>0</td>\n",
       "      <td>1</td>\n",
       "      <td>39.351058</td>\n",
       "      <td>2.469754</td>\n",
       "      <td>4.851481</td>\n",
       "      <td>39.351058</td>\n",
       "      <td>1.311702</td>\n",
       "      <td>4.334236</td>\n",
       "      <td>...</td>\n",
       "      <td>10.297453</td>\n",
       "      <td>79.689919</td>\n",
       "      <td>403.205991</td>\n",
       "      <td>7.200107</td>\n",
       "      <td>2701</td>\n",
       "      <td>46</td>\n",
       "      <td>158.0</td>\n",
       "      <td>185.0</td>\n",
       "      <td>8.590278</td>\n",
       "      <td>6.652778</td>\n",
       "    </tr>\n",
       "    <tr>\n",
       "      <th>4</th>\n",
       "      <td>17.692350</td>\n",
       "      <td>14.676448</td>\n",
       "      <td>0</td>\n",
       "      <td>1</td>\n",
       "      <td>28.110239</td>\n",
       "      <td>2.582583</td>\n",
       "      <td>5.165118</td>\n",
       "      <td>28.110239</td>\n",
       "      <td>1.277738</td>\n",
       "      <td>4.072959</td>\n",
       "      <td>...</td>\n",
       "      <td>10.540355</td>\n",
       "      <td>70.744181</td>\n",
       "      <td>297.158960</td>\n",
       "      <td>7.247780</td>\n",
       "      <td>1163</td>\n",
       "      <td>31</td>\n",
       "      <td>124.0</td>\n",
       "      <td>152.0</td>\n",
       "      <td>5.979167</td>\n",
       "      <td>4.722222</td>\n",
       "    </tr>\n",
       "    <tr>\n",
       "      <th>...</th>\n",
       "      <td>...</td>\n",
       "      <td>...</td>\n",
       "      <td>...</td>\n",
       "      <td>...</td>\n",
       "      <td>...</td>\n",
       "      <td>...</td>\n",
       "      <td>...</td>\n",
       "      <td>...</td>\n",
       "      <td>...</td>\n",
       "      <td>...</td>\n",
       "      <td>...</td>\n",
       "      <td>...</td>\n",
       "      <td>...</td>\n",
       "      <td>...</td>\n",
       "      <td>...</td>\n",
       "      <td>...</td>\n",
       "      <td>...</td>\n",
       "      <td>...</td>\n",
       "      <td>...</td>\n",
       "      <td>...</td>\n",
       "      <td>...</td>\n",
       "    </tr>\n",
       "    <tr>\n",
       "      <th>121</th>\n",
       "      <td>18.332406</td>\n",
       "      <td>14.490070</td>\n",
       "      <td>0</td>\n",
       "      <td>0</td>\n",
       "      <td>30.950737</td>\n",
       "      <td>2.445783</td>\n",
       "      <td>4.709454</td>\n",
       "      <td>30.950737</td>\n",
       "      <td>1.345684</td>\n",
       "      <td>4.089797</td>\n",
       "      <td>...</td>\n",
       "      <td>10.007983</td>\n",
       "      <td>73.401695</td>\n",
       "      <td>306.111676</td>\n",
       "      <td>8.273289</td>\n",
       "      <td>1311</td>\n",
       "      <td>33</td>\n",
       "      <td>124.0</td>\n",
       "      <td>147.0</td>\n",
       "      <td>5.527778</td>\n",
       "      <td>5.027778</td>\n",
       "    </tr>\n",
       "    <tr>\n",
       "      <th>122</th>\n",
       "      <td>21.557952</td>\n",
       "      <td>16.847265</td>\n",
       "      <td>0</td>\n",
       "      <td>0</td>\n",
       "      <td>35.432414</td>\n",
       "      <td>2.411282</td>\n",
       "      <td>4.822565</td>\n",
       "      <td>35.432414</td>\n",
       "      <td>1.265443</td>\n",
       "      <td>4.246539</td>\n",
       "      <td>...</td>\n",
       "      <td>10.140573</td>\n",
       "      <td>63.090395</td>\n",
       "      <td>421.095997</td>\n",
       "      <td>8.593796</td>\n",
       "      <td>2246</td>\n",
       "      <td>43</td>\n",
       "      <td>142.0</td>\n",
       "      <td>164.0</td>\n",
       "      <td>9.500000</td>\n",
       "      <td>6.222222</td>\n",
       "    </tr>\n",
       "    <tr>\n",
       "      <th>123</th>\n",
       "      <td>16.320475</td>\n",
       "      <td>13.753705</td>\n",
       "      <td>0</td>\n",
       "      <td>0</td>\n",
       "      <td>27.437194</td>\n",
       "      <td>2.415496</td>\n",
       "      <td>4.803374</td>\n",
       "      <td>27.437194</td>\n",
       "      <td>1.306533</td>\n",
       "      <td>3.980961</td>\n",
       "      <td>...</td>\n",
       "      <td>9.946882</td>\n",
       "      <td>68.861249</td>\n",
       "      <td>282.111676</td>\n",
       "      <td>8.060334</td>\n",
       "      <td>929</td>\n",
       "      <td>32</td>\n",
       "      <td>110.0</td>\n",
       "      <td>130.0</td>\n",
       "      <td>6.527778</td>\n",
       "      <td>4.694444</td>\n",
       "    </tr>\n",
       "    <tr>\n",
       "      <th>124</th>\n",
       "      <td>25.053046</td>\n",
       "      <td>18.938515</td>\n",
       "      <td>0</td>\n",
       "      <td>0</td>\n",
       "      <td>41.442231</td>\n",
       "      <td>2.465220</td>\n",
       "      <td>4.930439</td>\n",
       "      <td>41.442231</td>\n",
       "      <td>1.295070</td>\n",
       "      <td>4.393731</td>\n",
       "      <td>...</td>\n",
       "      <td>10.382234</td>\n",
       "      <td>68.062338</td>\n",
       "      <td>449.161853</td>\n",
       "      <td>8.020747</td>\n",
       "      <td>2975</td>\n",
       "      <td>52</td>\n",
       "      <td>168.0</td>\n",
       "      <td>197.0</td>\n",
       "      <td>10.222222</td>\n",
       "      <td>7.000000</td>\n",
       "    </tr>\n",
       "    <tr>\n",
       "      <th>125</th>\n",
       "      <td>8.106344</td>\n",
       "      <td>7.427049</td>\n",
       "      <td>0</td>\n",
       "      <td>0</td>\n",
       "      <td>13.221782</td>\n",
       "      <td>2.219936</td>\n",
       "      <td>4.439872</td>\n",
       "      <td>13.221782</td>\n",
       "      <td>1.201980</td>\n",
       "      <td>3.285958</td>\n",
       "      <td>...</td>\n",
       "      <td>8.795279</td>\n",
       "      <td>40.344003</td>\n",
       "      <td>151.063329</td>\n",
       "      <td>7.553166</td>\n",
       "      <td>166</td>\n",
       "      <td>11</td>\n",
       "      <td>50.0</td>\n",
       "      <td>53.0</td>\n",
       "      <td>4.583333</td>\n",
       "      <td>2.500000</td>\n",
       "    </tr>\n",
       "  </tbody>\n",
       "</table>\n",
       "<p>126 rows × 1613 columns</p>\n",
       "</div>"
      ],
      "text/plain": [
       "           ABC      ABCGG  nAcid  nBase    SpAbs_A   SpMax_A  SpDiam_A  \\\n",
       "0    22.044380  17.873084      0      1  36.754262  2.548742  4.977040   \n",
       "1    23.878481  17.487201      0      0  38.878448  2.371316  4.742632   \n",
       "2    22.265059  17.391952      0      0  35.459035  2.459516  4.869993   \n",
       "3    23.451254  17.780215      0      1  39.351058  2.469754  4.851481   \n",
       "4    17.692350  14.676448      0      1  28.110239  2.582583  5.165118   \n",
       "..         ...        ...    ...    ...        ...       ...       ...   \n",
       "121  18.332406  14.490070      0      0  30.950737  2.445783  4.709454   \n",
       "122  21.557952  16.847265      0      0  35.432414  2.411282  4.822565   \n",
       "123  16.320475  13.753705      0      0  27.437194  2.415496  4.803374   \n",
       "124  25.053046  18.938515      0      0  41.442231  2.465220  4.930439   \n",
       "125   8.106344   7.427049      0      0  13.221782  2.219936  4.439872   \n",
       "\n",
       "        SpAD_A   SpMAD_A   LogEE_A  ...      SRW10     TSRW10          MW  \\\n",
       "0    36.754262  1.312652  4.272717  ...  10.317020  78.137325  377.210327   \n",
       "1    38.878448  1.254143  4.342553  ...  10.163426  66.435015  445.178375   \n",
       "2    35.459035  1.266394  4.275317  ...  10.320321  77.580074  402.080743   \n",
       "3    39.351058  1.311702  4.334236  ...  10.297453  79.689919  403.205991   \n",
       "4    28.110239  1.277738  4.072959  ...  10.540355  70.744181  297.158960   \n",
       "..         ...       ...       ...  ...        ...        ...         ...   \n",
       "121  30.950737  1.345684  4.089797  ...  10.007983  73.401695  306.111676   \n",
       "122  35.432414  1.265443  4.246539  ...  10.140573  63.090395  421.095997   \n",
       "123  27.437194  1.306533  3.980961  ...   9.946882  68.861249  282.111676   \n",
       "124  41.442231  1.295070  4.393731  ...  10.382234  68.062338  449.161853   \n",
       "125  13.221782  1.201980  3.285958  ...   8.795279  40.344003  151.063329   \n",
       "\n",
       "          AMW  WPath  WPol  Zagreb1  Zagreb2   mZagreb1  mZagreb2  \n",
       "0    6.858370   1909    49    150.0    179.0   8.090278  6.138889  \n",
       "1    7.675489   3430    44    156.0    176.0  10.340278  6.819444  \n",
       "2    9.806847   2161    45    152.0    180.0   9.222222  5.972222  \n",
       "3    7.200107   2701    46    158.0    185.0   8.590278  6.652778  \n",
       "4    7.247780   1163    31    124.0    152.0   5.979167  4.722222  \n",
       "..        ...    ...   ...      ...      ...        ...       ...  \n",
       "121  8.273289   1311    33    124.0    147.0   5.527778  5.027778  \n",
       "122  8.593796   2246    43    142.0    164.0   9.500000  6.222222  \n",
       "123  8.060334    929    32    110.0    130.0   6.527778  4.694444  \n",
       "124  8.020747   2975    52    168.0    197.0  10.222222  7.000000  \n",
       "125  7.553166    166    11     50.0     53.0   4.583333  2.500000  \n",
       "\n",
       "[126 rows x 1613 columns]"
      ]
     },
     "execution_count": 10,
     "metadata": {},
     "output_type": "execute_result"
    }
   ],
   "source": [
    "train_features"
   ]
  },
  {
   "cell_type": "code",
   "execution_count": 11,
   "metadata": {},
   "outputs": [],
   "source": [
    "import lightning\n",
    "from lightning.pytorch.callbacks.early_stopping import EarlyStopping\n",
    "from lightning.pytorch.callbacks.model_checkpoint import ModelCheckpoint\n",
    "import torch\n",
    "import numpy as np"
   ]
  },
  {
   "cell_type": "code",
   "execution_count": 12,
   "metadata": {},
   "outputs": [],
   "source": [
    "X = torch.tensor(train_features.to_numpy(dtype=np.float32), dtype=torch.float32)\n",
    "y = torch.tensor(train_df[list(benchmark.target_cols)].to_numpy(dtype=np.float32), dtype=torch.float32) # keep it 2d!\n",
    "X_test = torch.tensor(test_features.to_numpy(dtype=np.float32), dtype=torch.float32)"
   ]
  },
  {
   "cell_type": "code",
   "execution_count": 13,
   "metadata": {},
   "outputs": [],
   "source": [
    "val_idx = int(len(train_df) * 0.20)  # use n/110 for validation"
   ]
  },
  {
   "cell_type": "code",
   "execution_count": 14,
   "metadata": {},
   "outputs": [],
   "source": [
    "from fastprop.data import standard_scale, inverse_standard_scale"
   ]
  },
  {
   "cell_type": "code",
   "execution_count": 15,
   "metadata": {},
   "outputs": [
    {
     "data": {
      "text/plain": [
       "tensor([[-0.1720,  0.2261, -0.2021,  ...,  0.1601, -0.0423, -0.2105],\n",
       "        [-0.6350, -0.2958, -0.2021,  ..., -0.5119, -1.2848, -0.5902],\n",
       "        [ 0.2132,  0.3225, -0.2021,  ...,  0.1825, -0.2952,  0.4091],\n",
       "        ...,\n",
       "        [-0.6659, -0.6370, -0.2021,  ..., -0.6239, -0.0610, -0.7101],\n",
       "        [-0.5371, -0.2711, -0.2021,  ..., -0.5119,  0.0513, -0.5103],\n",
       "        [-0.4327, -0.5557,  3.0000,  ..., -0.4447, -0.8977, -0.5902]])"
      ]
     },
     "execution_count": 15,
     "metadata": {},
     "output_type": "execute_result"
    }
   ],
   "source": [
    "X[val_idx:], means, vars = standard_scale(X[val_idx:])\n",
    "X[:val_idx] = standard_scale(X[:val_idx], means, vars)\n",
    "X_test = standard_scale(X_test, means, vars)\n",
    "# sorta-Winsorization\n",
    "X.clamp_(-3, 3)\n",
    "X_test.clamp_(-3, 3)"
   ]
  },
  {
   "cell_type": "code",
   "execution_count": 16,
   "metadata": {},
   "outputs": [],
   "source": [
    "y[val_idx:], target_means, target_vars = standard_scale(y[val_idx:])\n",
    "y[:val_idx] = standard_scale(y[:val_idx], target_means, target_vars)"
   ]
  },
  {
   "cell_type": "markdown",
   "metadata": {},
   "source": [
    "## Implementing Pairwise Regression\n",
    "\n",
    "`nepare` provides a number of convenience classes than handle training, validation, and testing augmentation automatically."
   ]
  },
  {
   "cell_type": "code",
   "execution_count": 17,
   "metadata": {},
   "outputs": [],
   "source": [
    "from nepare.nn import NeuralPairwiseRegressor as NPR\n",
    "from nepare.data import PairwiseAugmentedDataset, PairwiseAnchoredDataset, PairwiseInferenceDataset\n",
    "from nepare.inference import predict"
   ]
  },
  {
   "cell_type": "code",
   "execution_count": 18,
   "metadata": {},
   "outputs": [],
   "source": [
    "training_dataset = PairwiseAugmentedDataset(X[val_idx:], y[val_idx:], how='full')\n",
    "validation_dataset = PairwiseAnchoredDataset(X[val_idx:], y[val_idx:], X[:val_idx], y[:val_idx], how='full')\n",
    "predict_dataset = PairwiseInferenceDataset(X[val_idx:], y[val_idx:], X_test, how='full')\n",
    "train_loader = torch.utils.data.DataLoader(training_dataset, batch_size=64, shuffle=True)\n",
    "val_loader = torch.utils.data.DataLoader(validation_dataset, batch_size=64)\n",
    "predict_loader = torch.utils.data.DataLoader(predict_dataset, batch_size=64)"
   ]
  },
  {
   "cell_type": "markdown",
   "metadata": {},
   "source": [
    "These networks can overfit very quickly, so we will use `EarlyStopping` to stop training once we start overfitting and then reset the network to to _just before_ it overfit."
   ]
  },
  {
   "cell_type": "code",
   "execution_count": 19,
   "metadata": {},
   "outputs": [],
   "source": [
    "npr = NPR(X.shape[1], 100, 3, n_targets=len(benchmark.target_cols))\n",
    "early_stopping = EarlyStopping(monitor=\"validation/loss\", patience=6)\n",
    "model_checkpoint = ModelCheckpoint(monitor=\"validation/loss\")"
   ]
  },
  {
   "cell_type": "code",
   "execution_count": 20,
   "metadata": {},
   "outputs": [
    {
     "name": "stderr",
     "output_type": "stream",
     "text": [
      "GPU available: True (cuda), used: True\n",
      "TPU available: False, using: 0 TPU cores\n",
      "HPU available: False, using: 0 HPUs\n",
      "LOCAL_RANK: 0 - CUDA_VISIBLE_DEVICES: [0]\n",
      "\n",
      "  | Name | Type       | Params | Mode \n",
      "--------------------------------------------\n",
      "0 | fnn  | Sequential | 343 K  | train\n",
      "--------------------------------------------\n",
      "343 K     Trainable params\n",
      "0         Non-trainable params\n",
      "343 K     Total params\n",
      "1.372     Total estimated model params size (MB)\n",
      "8         Modules in train mode\n",
      "0         Modules in eval mode\n"
     ]
    },
    {
     "data": {
      "application/vnd.jupyter.widget-view+json": {
       "model_id": "5cc5e6cdc0da4402b9384a2f83a9f27c",
       "version_major": 2,
       "version_minor": 0
      },
      "text/plain": [
       "Sanity Checking: |          | 0/? [00:00<?, ?it/s]"
      ]
     },
     "metadata": {},
     "output_type": "display_data"
    },
    {
     "data": {
      "application/vnd.jupyter.widget-view+json": {
       "model_id": "f1c7a2dbbc5c478e930a10adefb865b2",
       "version_major": 2,
       "version_minor": 0
      },
      "text/plain": [
       "Training: |          | 0/? [00:00<?, ?it/s]"
      ]
     },
     "metadata": {},
     "output_type": "display_data"
    },
    {
     "data": {
      "application/vnd.jupyter.widget-view+json": {
       "model_id": "9f89a7347f254853b3ac6193d323d05a",
       "version_major": 2,
       "version_minor": 0
      },
      "text/plain": [
       "Validation: |          | 0/? [00:00<?, ?it/s]"
      ]
     },
     "metadata": {},
     "output_type": "display_data"
    },
    {
     "data": {
      "application/vnd.jupyter.widget-view+json": {
       "model_id": "c289456eab804595ab2755434dd33f99",
       "version_major": 2,
       "version_minor": 0
      },
      "text/plain": [
       "Validation: |          | 0/? [00:00<?, ?it/s]"
      ]
     },
     "metadata": {},
     "output_type": "display_data"
    },
    {
     "data": {
      "application/vnd.jupyter.widget-view+json": {
       "model_id": "588d37cc4151414597f1e87621e8c83a",
       "version_major": 2,
       "version_minor": 0
      },
      "text/plain": [
       "Validation: |          | 0/? [00:00<?, ?it/s]"
      ]
     },
     "metadata": {},
     "output_type": "display_data"
    },
    {
     "data": {
      "application/vnd.jupyter.widget-view+json": {
       "model_id": "b12bd1e0ca7340dbba68cd562df78bbf",
       "version_major": 2,
       "version_minor": 0
      },
      "text/plain": [
       "Validation: |          | 0/? [00:00<?, ?it/s]"
      ]
     },
     "metadata": {},
     "output_type": "display_data"
    },
    {
     "data": {
      "application/vnd.jupyter.widget-view+json": {
       "model_id": "d3c8279f0a6b4044bfa46dfcd49c25ef",
       "version_major": 2,
       "version_minor": 0
      },
      "text/plain": [
       "Validation: |          | 0/? [00:00<?, ?it/s]"
      ]
     },
     "metadata": {},
     "output_type": "display_data"
    },
    {
     "data": {
      "application/vnd.jupyter.widget-view+json": {
       "model_id": "c0af18850d524e169c2578b851e5b5e3",
       "version_major": 2,
       "version_minor": 0
      },
      "text/plain": [
       "Validation: |          | 0/? [00:00<?, ?it/s]"
      ]
     },
     "metadata": {},
     "output_type": "display_data"
    },
    {
     "data": {
      "application/vnd.jupyter.widget-view+json": {
       "model_id": "b9976552f8c14a10a8ba6b3da6d1b7c4",
       "version_major": 2,
       "version_minor": 0
      },
      "text/plain": [
       "Validation: |          | 0/? [00:00<?, ?it/s]"
      ]
     },
     "metadata": {},
     "output_type": "display_data"
    },
    {
     "data": {
      "application/vnd.jupyter.widget-view+json": {
       "model_id": "24f69d59842544399a663b42e5a05181",
       "version_major": 2,
       "version_minor": 0
      },
      "text/plain": [
       "Validation: |          | 0/? [00:00<?, ?it/s]"
      ]
     },
     "metadata": {},
     "output_type": "display_data"
    },
    {
     "data": {
      "application/vnd.jupyter.widget-view+json": {
       "model_id": "bccda959dc7f45a9a2bc31ccb45b2317",
       "version_major": 2,
       "version_minor": 0
      },
      "text/plain": [
       "Validation: |          | 0/? [00:00<?, ?it/s]"
      ]
     },
     "metadata": {},
     "output_type": "display_data"
    },
    {
     "data": {
      "application/vnd.jupyter.widget-view+json": {
       "model_id": "cbe13023a48946b9b3bfcaaab69913c8",
       "version_major": 2,
       "version_minor": 0
      },
      "text/plain": [
       "Validation: |          | 0/? [00:00<?, ?it/s]"
      ]
     },
     "metadata": {},
     "output_type": "display_data"
    },
    {
     "data": {
      "application/vnd.jupyter.widget-view+json": {
       "model_id": "7b7cc30cb996443590450d2791a991d8",
       "version_major": 2,
       "version_minor": 0
      },
      "text/plain": [
       "Validation: |          | 0/? [00:00<?, ?it/s]"
      ]
     },
     "metadata": {},
     "output_type": "display_data"
    },
    {
     "data": {
      "application/vnd.jupyter.widget-view+json": {
       "model_id": "7e3f07e69a6f4e4eae95b085afbcb88e",
       "version_major": 2,
       "version_minor": 0
      },
      "text/plain": [
       "Validation: |          | 0/? [00:00<?, ?it/s]"
      ]
     },
     "metadata": {},
     "output_type": "display_data"
    },
    {
     "data": {
      "application/vnd.jupyter.widget-view+json": {
       "model_id": "d2ee68dc33614827b8dee48bee06a670",
       "version_major": 2,
       "version_minor": 0
      },
      "text/plain": [
       "Validation: |          | 0/? [00:00<?, ?it/s]"
      ]
     },
     "metadata": {},
     "output_type": "display_data"
    },
    {
     "data": {
      "application/vnd.jupyter.widget-view+json": {
       "model_id": "9d6ef403838740afa05bad2b7ea6bd41",
       "version_major": 2,
       "version_minor": 0
      },
      "text/plain": [
       "Validation: |          | 0/? [00:00<?, ?it/s]"
      ]
     },
     "metadata": {},
     "output_type": "display_data"
    },
    {
     "data": {
      "application/vnd.jupyter.widget-view+json": {
       "model_id": "ff4c13c46e354602b6bd2b5171f93c36",
       "version_major": 2,
       "version_minor": 0
      },
      "text/plain": [
       "Validation: |          | 0/? [00:00<?, ?it/s]"
      ]
     },
     "metadata": {},
     "output_type": "display_data"
    },
    {
     "data": {
      "application/vnd.jupyter.widget-view+json": {
       "model_id": "afcc57024187480d98bd4c99e429fdb5",
       "version_major": 2,
       "version_minor": 0
      },
      "text/plain": [
       "Validation: |          | 0/? [00:00<?, ?it/s]"
      ]
     },
     "metadata": {},
     "output_type": "display_data"
    },
    {
     "data": {
      "application/vnd.jupyter.widget-view+json": {
       "model_id": "20a1f6616a2f492e9619ea412999119d",
       "version_major": 2,
       "version_minor": 0
      },
      "text/plain": [
       "Validation: |          | 0/? [00:00<?, ?it/s]"
      ]
     },
     "metadata": {},
     "output_type": "display_data"
    },
    {
     "data": {
      "application/vnd.jupyter.widget-view+json": {
       "model_id": "c2718a07f5e94b0abb1ea94b63089a34",
       "version_major": 2,
       "version_minor": 0
      },
      "text/plain": [
       "Validation: |          | 0/? [00:00<?, ?it/s]"
      ]
     },
     "metadata": {},
     "output_type": "display_data"
    },
    {
     "data": {
      "application/vnd.jupyter.widget-view+json": {
       "model_id": "4c189b6b77f642f6af59270bb0ffc7d9",
       "version_major": 2,
       "version_minor": 0
      },
      "text/plain": [
       "Validation: |          | 0/? [00:00<?, ?it/s]"
      ]
     },
     "metadata": {},
     "output_type": "display_data"
    },
    {
     "data": {
      "application/vnd.jupyter.widget-view+json": {
       "model_id": "9c2fde4c4b754ab08c457c2e8c240e75",
       "version_major": 2,
       "version_minor": 0
      },
      "text/plain": [
       "Validation: |          | 0/? [00:00<?, ?it/s]"
      ]
     },
     "metadata": {},
     "output_type": "display_data"
    },
    {
     "data": {
      "application/vnd.jupyter.widget-view+json": {
       "model_id": "07375799041b419f89a9c61c91006905",
       "version_major": 2,
       "version_minor": 0
      },
      "text/plain": [
       "Validation: |          | 0/? [00:00<?, ?it/s]"
      ]
     },
     "metadata": {},
     "output_type": "display_data"
    },
    {
     "data": {
      "application/vnd.jupyter.widget-view+json": {
       "model_id": "f7783ff948b645fca64296b06da66d3d",
       "version_major": 2,
       "version_minor": 0
      },
      "text/plain": [
       "Validation: |          | 0/? [00:00<?, ?it/s]"
      ]
     },
     "metadata": {},
     "output_type": "display_data"
    },
    {
     "data": {
      "application/vnd.jupyter.widget-view+json": {
       "model_id": "e8173d6eac3d40b383bfc58b3993d5fa",
       "version_major": 2,
       "version_minor": 0
      },
      "text/plain": [
       "Validation: |          | 0/? [00:00<?, ?it/s]"
      ]
     },
     "metadata": {},
     "output_type": "display_data"
    },
    {
     "data": {
      "application/vnd.jupyter.widget-view+json": {
       "model_id": "cb1dd6a04e7c46b18284439475c95d36",
       "version_major": 2,
       "version_minor": 0
      },
      "text/plain": [
       "Validation: |          | 0/? [00:00<?, ?it/s]"
      ]
     },
     "metadata": {},
     "output_type": "display_data"
    },
    {
     "data": {
      "application/vnd.jupyter.widget-view+json": {
       "model_id": "7647f426ecf142d3aee488e6f67fc8a2",
       "version_major": 2,
       "version_minor": 0
      },
      "text/plain": [
       "Validation: |          | 0/? [00:00<?, ?it/s]"
      ]
     },
     "metadata": {},
     "output_type": "display_data"
    },
    {
     "data": {
      "application/vnd.jupyter.widget-view+json": {
       "model_id": "9c58b82e39464882b27baa699815dfa9",
       "version_major": 2,
       "version_minor": 0
      },
      "text/plain": [
       "Validation: |          | 0/? [00:00<?, ?it/s]"
      ]
     },
     "metadata": {},
     "output_type": "display_data"
    },
    {
     "data": {
      "application/vnd.jupyter.widget-view+json": {
       "model_id": "25fbda5f507f46118873b167cee686e6",
       "version_major": 2,
       "version_minor": 0
      },
      "text/plain": [
       "Validation: |          | 0/? [00:00<?, ?it/s]"
      ]
     },
     "metadata": {},
     "output_type": "display_data"
    },
    {
     "data": {
      "application/vnd.jupyter.widget-view+json": {
       "model_id": "848ee1aaddf14f80b6a0fbcfa30c02d1",
       "version_major": 2,
       "version_minor": 0
      },
      "text/plain": [
       "Validation: |          | 0/? [00:00<?, ?it/s]"
      ]
     },
     "metadata": {},
     "output_type": "display_data"
    },
    {
     "data": {
      "application/vnd.jupyter.widget-view+json": {
       "model_id": "583719a495ba4ae9bc6d13e01bf264c5",
       "version_major": 2,
       "version_minor": 0
      },
      "text/plain": [
       "Validation: |          | 0/? [00:00<?, ?it/s]"
      ]
     },
     "metadata": {},
     "output_type": "display_data"
    },
    {
     "data": {
      "application/vnd.jupyter.widget-view+json": {
       "model_id": "dbd34e4d933f4774866075bbbaa9fa17",
       "version_major": 2,
       "version_minor": 0
      },
      "text/plain": [
       "Validation: |          | 0/? [00:00<?, ?it/s]"
      ]
     },
     "metadata": {},
     "output_type": "display_data"
    },
    {
     "data": {
      "application/vnd.jupyter.widget-view+json": {
       "model_id": "aeefa345d40340c0916ac52cfae1736c",
       "version_major": 2,
       "version_minor": 0
      },
      "text/plain": [
       "Validation: |          | 0/? [00:00<?, ?it/s]"
      ]
     },
     "metadata": {},
     "output_type": "display_data"
    }
   ],
   "source": [
    "trainer = lightning.Trainer(max_epochs=50, log_every_n_steps=1, callbacks=[early_stopping, model_checkpoint])\n",
    "trainer.fit(npr, train_loader, val_loader)"
   ]
  },
  {
   "cell_type": "code",
   "execution_count": 21,
   "metadata": {},
   "outputs": [],
   "source": [
    "npr = NPR.load_from_checkpoint(model_checkpoint.best_model_path)  # reload best model based on early stopping"
   ]
  },
  {
   "cell_type": "code",
   "execution_count": 22,
   "metadata": {},
   "outputs": [
    {
     "name": "stderr",
     "output_type": "stream",
     "text": [
      "GPU available: True (cuda), used: True\n",
      "TPU available: False, using: 0 TPU cores\n",
      "HPU available: False, using: 0 HPUs\n"
     ]
    },
    {
     "name": "stderr",
     "output_type": "stream",
     "text": [
      "LOCAL_RANK: 0 - CUDA_VISIBLE_DEVICES: [0]\n"
     ]
    },
    {
     "data": {
      "application/vnd.jupyter.widget-view+json": {
       "model_id": "65299c1ce6bf437cb0cf9c7647623eea",
       "version_major": 2,
       "version_minor": 0
      },
      "text/plain": [
       "Predicting: |          | 0/? [00:00<?, ?it/s]"
      ]
     },
     "metadata": {},
     "output_type": "display_data"
    }
   ],
   "source": [
    "y_pred, y_stdev = predict(npr, predict_loader, how=\"all\")"
   ]
  },
  {
   "cell_type": "code",
   "execution_count": 23,
   "metadata": {},
   "outputs": [
    {
     "name": "stderr",
     "output_type": "stream",
     "text": [
      "/tmp/ipykernel_129913/3008948553.py:1: UserWarning: To copy construct from a tensor, it is recommended to use sourceTensor.clone().detach() or sourceTensor.clone().detach().requires_grad_(True), rather than torch.tensor(sourceTensor).\n",
      "  y_pred = inverse_standard_scale(torch.tensor(y_pred), target_means, target_vars)\n"
     ]
    }
   ],
   "source": [
    "y_pred = inverse_standard_scale(torch.tensor(y_pred), target_means, target_vars)"
   ]
  },
  {
   "cell_type": "code",
   "execution_count": 24,
   "metadata": {},
   "outputs": [],
   "source": [
    "predictions = {\n",
    "    name: y_pred[:, i] for i, name in enumerate(benchmark.target_cols)\n",
    "}"
   ]
  },
  {
   "cell_type": "markdown",
   "metadata": {},
   "source": [
    "## Finally, Results!"
   ]
  },
  {
   "cell_type": "code",
   "execution_count": 25,
   "metadata": {},
   "outputs": [],
   "source": [
    "results = benchmark.evaluate(predictions if len(benchmark.target_cols) > 1 else np.array(y_pred).flatten())"
   ]
  },
  {
   "cell_type": "code",
   "execution_count": 26,
   "metadata": {},
   "outputs": [],
   "source": [
    "results.name = \"nepare\"\n",
    "results.description = \"Neural Pairwise Regression with Mordred(-community) Molecular Descriptors\"\n",
    "results.github_url = \"https://github.com/JacksonBurns/neural-pairwise-regression/blob/main/notebooks/polaris_adme.ipynb\""
   ]
  },
  {
   "cell_type": "code",
   "execution_count": 27,
   "metadata": {},
   "outputs": [
    {
     "data": {
      "text/html": [
       "<table border=\"1\"><tr><th>name</th><td>nepare</td></tr><tr><th>description</th><td>Neural Pairwise Regression with Mordred(-community) Molecular Descriptors</td></tr><tr><th>tags</th><td></td></tr><tr><th>user_attributes</th><td></td></tr><tr><th>owner</th><td>None</td></tr><tr><th>polaris_version</th><td>0.11.8</td></tr><tr><th>github_url</th><td>https://github.com/JacksonBurns/neural-pairwise-regression/blob/main/notebooks/polaris_adme.ipynb</td></tr><tr><th>paper_url</th><td>None</td></tr><tr><th>contributors</th><td></td></tr><tr><th>results</th><td><table border=\"1\"><thead><tr><th>test_set</th><th>target_label</th><th>scores</th></tr></thead><tbody><tr><td>test</td><td>LOG_HPPB</td><td><table border=\"1\"><tr><th>explained_var</th><td>0.6212714259646027</td></tr><tr><th>spearmanr</th><td>0.7806555145405341</td></tr><tr><th>mean_squared_error</th><td>0.30329107077970924</td></tr><tr><th>pearsonr</th><td>0.8094660450548139</td></tr><tr><th>r2</th><td>0.4992211495855208</td></tr><tr><th>mean_absolute_error</th><td>0.461897259822166</td></tr></table></td></tr></tbody></table></td></tr><tr><th>benchmark_artifact_id</th><td>polaris/adme-fang-hppb-1</td></tr><tr><th>benchmark_name</th><td>None</td></tr><tr><th>benchmark_owner</th><td>None</td></tr><tr><th>slug</th><td>nepare</td></tr><tr><th>artifact_id</th><td>None</td></tr><tr><th>urn</th><td>None</td></tr><tr><th>version</th><td>1</td></tr></table>"
      ],
      "text/plain": [
       "{\n",
       "  \"name\": \"nepare\",\n",
       "  \"description\": \"Neural Pairwise Regression with Mordred(-community) Molecular Descriptors\",\n",
       "  \"tags\": [],\n",
       "  \"user_attributes\": {},\n",
       "  \"owner\": null,\n",
       "  \"polaris_version\": \"0.11.8\",\n",
       "  \"github_url\": \"https://github.com/JacksonBurns/neural-pairwise-regression/blob/main/notebooks/polaris_adme.ipynb\",\n",
       "  \"paper_url\": null,\n",
       "  \"contributors\": [],\n",
       "  \"results\": [\n",
       "    {\n",
       "      \"test_set\": \"test\",\n",
       "      \"target_label\": \"LOG_HPPB\",\n",
       "      \"scores\": {\n",
       "        \"explained_var\": 0.6212714259646027,\n",
       "        \"spearmanr\": 0.7806555145405341,\n",
       "        \"mean_squared_error\": 0.30329107077970924,\n",
       "        \"pearsonr\": 0.8094660450548139,\n",
       "        \"r2\": 0.4992211495855208,\n",
       "        \"mean_absolute_error\": 0.461897259822166\n",
       "      }\n",
       "    }\n",
       "  ],\n",
       "  \"benchmark_artifact_id\": \"polaris/adme-fang-hppb-1\",\n",
       "  \"benchmark_name\": null,\n",
       "  \"benchmark_owner\": null,\n",
       "  \"slug\": \"nepare\",\n",
       "  \"artifact_id\": null,\n",
       "  \"urn\": null,\n",
       "  \"version\": 1\n",
       "}"
      ]
     },
     "execution_count": 27,
     "metadata": {},
     "output_type": "execute_result"
    }
   ],
   "source": [
    "results"
   ]
  },
  {
   "cell_type": "markdown",
   "metadata": {},
   "source": [
    "As of writing, this method lands at third on the leaderboard just barely losing out to a couple 1 _billion_ parameter MPNN-based foundation models.\n",
    "We've achieved pretty similar performance (without any tuning!) in just a few minutes - pretty good!"
   ]
  },
  {
   "cell_type": "markdown",
   "metadata": {},
   "source": [
    "This last line is commented out because it will fail (unless you are me) - you can replace the `owner` without your own name to upload your results (and also update the link, name, and description above)."
   ]
  },
  {
   "cell_type": "code",
   "execution_count": 29,
   "metadata": {},
   "outputs": [
    {
     "data": {
      "text/html": [
       "<pre style=\"white-space:pre;overflow-x:auto;line-height:normal;font-family:Menlo,'DejaVu Sans Mono',consolas,'Courier New',monospace\"><span style=\"color: #7fbfbf; text-decoration-color: #7fbfbf\">[23:18:56] </span><span style=\"color: #008000; text-decoration-color: #008000\">Your result has been successfully uploaded to the Hub. View it here: </span>                      <a href=\"file:///home/jackson/neural-pairwise-regression/.venv/lib/python3.12/site-packages/polaris/hub/client.py\" target=\"_blank\"><span style=\"color: #7f7f7f; text-decoration-color: #7f7f7f\">client.py</span></a><span style=\"color: #7f7f7f; text-decoration-color: #7f7f7f\">:</span><a href=\"file:///home/jackson/neural-pairwise-regression/.venv/lib/python3.12/site-packages/polaris/hub/client.py#532\" target=\"_blank\"><span style=\"color: #7f7f7f; text-decoration-color: #7f7f7f\">532</span></a>\n",
       "<span style=\"color: #7fbfbf; text-decoration-color: #7fbfbf\">           </span><span style=\"color: #008000; text-decoration-color: #008000; text-decoration: underline\">https://polarishub.io/benchmarks/polaris/adme-fang-hppb-1/9nneC3i3e3EG6RyMZheWx</span>            <span style=\"color: #7f7f7f; text-decoration-color: #7f7f7f\">             </span>\n",
       "</pre>\n"
      ],
      "text/plain": [
       "\u001b[2;36m[23:18:56]\u001b[0m\u001b[2;36m \u001b[0m\u001b[32mYour result has been successfully uploaded to the Hub. View it here: \u001b[0m                      \u001b]8;id=25472;file:///home/jackson/neural-pairwise-regression/.venv/lib/python3.12/site-packages/polaris/hub/client.py\u001b\\\u001b[2mclient.py\u001b[0m\u001b]8;;\u001b\\\u001b[2m:\u001b[0m\u001b]8;id=462002;file:///home/jackson/neural-pairwise-regression/.venv/lib/python3.12/site-packages/polaris/hub/client.py#532\u001b\\\u001b[2m532\u001b[0m\u001b]8;;\u001b\\\n",
       "\u001b[2;36m           \u001b[0m\u001b[4;32mhttps://polarishub.io/benchmarks/polaris/adme-fang-hppb-1/9nneC3i3e3EG6RyMZheWx\u001b[0m            \u001b[2m             \u001b[0m\n"
      ]
     },
     "metadata": {},
     "output_type": "display_data"
    },
    {
     "data": {
      "text/html": [
       "<pre style=\"white-space:pre;overflow-x:auto;line-height:normal;font-family:Menlo,'DejaVu Sans Mono',consolas,'Courier New',monospace\"><span style=\"color: #7fbfbf; text-decoration-color: #7fbfbf\">           </span><span style=\"color: #008000; text-decoration-color: #008000\"> Success: Uploading results</span>                                                                <a href=\"file:///home/jackson/neural-pairwise-regression/.venv/lib/python3.12/site-packages/polaris/utils/context.py\" target=\"_blank\"><span style=\"color: #7f7f7f; text-decoration-color: #7f7f7f\">context.py</span></a><span style=\"color: #7f7f7f; text-decoration-color: #7f7f7f\">:</span><a href=\"file:///home/jackson/neural-pairwise-regression/.venv/lib/python3.12/site-packages/polaris/utils/context.py#53\" target=\"_blank\"><span style=\"color: #7f7f7f; text-decoration-color: #7f7f7f\">53</span></a>\n",
       "</pre>\n"
      ],
      "text/plain": [
       "\u001b[2;36m          \u001b[0m\u001b[2;36m \u001b[0m\u001b[32m Success: Uploading results\u001b[0m                                                                \u001b]8;id=448902;file:///home/jackson/neural-pairwise-regression/.venv/lib/python3.12/site-packages/polaris/utils/context.py\u001b\\\u001b[2mcontext.py\u001b[0m\u001b]8;;\u001b\\\u001b[2m:\u001b[0m\u001b]8;id=112663;file:///home/jackson/neural-pairwise-regression/.venv/lib/python3.12/site-packages/polaris/utils/context.py#53\u001b\\\u001b[2m53\u001b[0m\u001b]8;;\u001b\\\n"
      ]
     },
     "metadata": {},
     "output_type": "display_data"
    },
    {
     "data": {
      "text/html": [
       "<pre style=\"white-space:pre;overflow-x:auto;line-height:normal;font-family:Menlo,'DejaVu Sans Mono',consolas,'Courier New',monospace\"></pre>\n"
      ],
      "text/plain": []
     },
     "metadata": {},
     "output_type": "display_data"
    }
   ],
   "source": [
    "# results.upload_to_hub(owner=\"jacksonburns\", access=\"public\")"
   ]
  }
 ],
 "metadata": {
  "kernelspec": {
   "display_name": ".venv",
   "language": "python",
   "name": "python3"
  },
  "language_info": {
   "codemirror_mode": {
    "name": "ipython",
    "version": 3
   },
   "file_extension": ".py",
   "mimetype": "text/x-python",
   "name": "python",
   "nbconvert_exporter": "python",
   "pygments_lexer": "ipython3",
   "version": "3.12.3"
  }
 },
 "nbformat": 4,
 "nbformat_minor": 2
}
