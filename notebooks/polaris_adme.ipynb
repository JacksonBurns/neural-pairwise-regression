{
 "cells": [
  {
   "cell_type": "markdown",
   "metadata": {},
   "source": [
    "# `polaris adme`\n",
    "\n",
    "This notebook demonstrates using the Mordred(-community) molecular descriptors with Neural Pairwise Regression (via `nepare`) with the `polaris` benchmarking library.\n",
    "\n",
    "## Requirements\n",
    "Python 3.10+ (originally run on 3.12)\n",
    " - polaris-lib\n",
    " - pandas\n",
    " - fastprop\n",
    " - mordredcommunity\n",
    " - rdkit\n",
    " - lightning\n",
    " - torch\n",
    " - numpy\n",
    " - ipywidgets\n",
    "\n",
    "You will also need to run `pip install .` in the repository's root directory to install `nepare`."
   ]
  },
  {
   "cell_type": "markdown",
   "metadata": {},
   "source": [
    "## `polaris` Setup\n",
    "\n",
    "After running `polaris login` on the command line, we can import everything (checking that the version is recent enough) and then download the benchmark data."
   ]
  },
  {
   "cell_type": "code",
   "execution_count": 1,
   "metadata": {},
   "outputs": [],
   "source": [
    "import polaris as po\n",
    "import pandas as pd"
   ]
  },
  {
   "cell_type": "code",
   "execution_count": 2,
   "metadata": {},
   "outputs": [],
   "source": [
    "from packaging.version import Version\n",
    "assert Version(po.__version__) >= Version(\"0.11.6\"), \"test.as_dataframe does not work in earlier versions of Polaris, please upgrade\""
   ]
  },
  {
   "cell_type": "markdown",
   "metadata": {},
   "source": [
    "`polaris` makes it really easy to run different benchmarks quickly - just change the name inside `load_benchmark` to try something else.\n",
    "I'm using this same notebook for a few different benchmarks, all from the Fang biogen ADME paper (https://pubs.acs.org/doi/abs/10.1021/acs.jcim.3c00160) which have been made conveniently available on `polaris`."
   ]
  },
  {
   "cell_type": "code",
   "execution_count": 3,
   "metadata": {},
   "outputs": [],
   "source": [
    "%%capture\n",
    "# https://polarishub.io/benchmarks/polaris/adme-fang-rppb-1\n",
    "benchmark = po.load_benchmark(\"polaris/adme-fang-RPPB-1\")\n",
    "# https://polarishub.io/benchmarks/polaris/adme-fang-solu-1\n",
    "# benchmark = po.load_benchmark(\"polaris/adme-fang-SOLU-1\")"
   ]
  },
  {
   "cell_type": "code",
   "execution_count": 4,
   "metadata": {},
   "outputs": [],
   "source": [
    "train, test = benchmark.get_train_test_split()\n",
    "test_df: pd.DataFrame = test.as_dataframe()\n",
    "train_df: pd.DataFrame = train.as_dataframe()"
   ]
  },
  {
   "cell_type": "markdown",
   "metadata": {},
   "source": [
    "We'll shuffle the data just for good measure."
   ]
  },
  {
   "cell_type": "code",
   "execution_count": 5,
   "metadata": {},
   "outputs": [],
   "source": [
    "train_df = train_df.sample(frac=1.0, random_state=1701)  # shuffle the training data"
   ]
  },
  {
   "cell_type": "markdown",
   "metadata": {},
   "source": [
    "## Featurize the Molecules with `mordred(community)`\n",
    "We use `mordred` to calculate a vector of molecular descriptors for each species in this dataset, and then do some re-scaling and imputing to prepare the data for use."
   ]
  },
  {
   "cell_type": "code",
   "execution_count": 6,
   "metadata": {},
   "outputs": [],
   "source": [
    "from mordred import Calculator, descriptors\n",
    "from rdkit.Chem import MolFromSmiles"
   ]
  },
  {
   "cell_type": "code",
   "execution_count": 7,
   "metadata": {},
   "outputs": [],
   "source": [
    "calc = Calculator(descriptors, ignore_3D=True)"
   ]
  },
  {
   "cell_type": "code",
   "execution_count": 8,
   "metadata": {},
   "outputs": [
    {
     "name": "stderr",
     "output_type": "stream",
     "text": [
      "100%|██████████| 111/111 [00:02<00:00, 51.88it/s]\n",
      "/home/jackson/neural-pairwise-regression/.venv/lib/python3.12/site-packages/mordred/_base/pandas_module.py:17: FutureWarning: DataFrame.applymap has been deprecated. Use DataFrame.map instead.\n",
      "  t[t.applymap(is_missing)] = value\n",
      "100%|██████████| 24/24 [00:00<00:00, 37.59it/s]\n",
      "/home/jackson/neural-pairwise-regression/.venv/lib/python3.12/site-packages/mordred/_base/pandas_module.py:17: FutureWarning: DataFrame.applymap has been deprecated. Use DataFrame.map instead.\n",
      "  t[t.applymap(is_missing)] = value\n"
     ]
    }
   ],
   "source": [
    "train_features = calc.pandas(map(MolFromSmiles, train_df[\"smiles\"]), nmols=len(train_df)).fill_missing()\n",
    "test_features = calc.pandas(map(MolFromSmiles, test_df[\"smiles\"]), nmols=len(test_df)).fill_missing()"
   ]
  },
  {
   "cell_type": "code",
   "execution_count": 9,
   "metadata": {},
   "outputs": [
    {
     "data": {
      "text/html": [
       "<div>\n",
       "<style scoped>\n",
       "    .dataframe tbody tr th:only-of-type {\n",
       "        vertical-align: middle;\n",
       "    }\n",
       "\n",
       "    .dataframe tbody tr th {\n",
       "        vertical-align: top;\n",
       "    }\n",
       "\n",
       "    .dataframe thead th {\n",
       "        text-align: right;\n",
       "    }\n",
       "</style>\n",
       "<table border=\"1\" class=\"dataframe\">\n",
       "  <thead>\n",
       "    <tr style=\"text-align: right;\">\n",
       "      <th></th>\n",
       "      <th>ABC</th>\n",
       "      <th>ABCGG</th>\n",
       "      <th>nAcid</th>\n",
       "      <th>nBase</th>\n",
       "      <th>SpAbs_A</th>\n",
       "      <th>SpMax_A</th>\n",
       "      <th>SpDiam_A</th>\n",
       "      <th>SpAD_A</th>\n",
       "      <th>SpMAD_A</th>\n",
       "      <th>LogEE_A</th>\n",
       "      <th>...</th>\n",
       "      <th>SRW10</th>\n",
       "      <th>TSRW10</th>\n",
       "      <th>MW</th>\n",
       "      <th>AMW</th>\n",
       "      <th>WPath</th>\n",
       "      <th>WPol</th>\n",
       "      <th>Zagreb1</th>\n",
       "      <th>Zagreb2</th>\n",
       "      <th>mZagreb1</th>\n",
       "      <th>mZagreb2</th>\n",
       "    </tr>\n",
       "  </thead>\n",
       "  <tbody>\n",
       "    <tr>\n",
       "      <th>0</th>\n",
       "      <td>16.958632</td>\n",
       "      <td>13.546673</td>\n",
       "      <td>0</td>\n",
       "      <td>0</td>\n",
       "      <td>28.642859</td>\n",
       "      <td>2.441470</td>\n",
       "      <td>4.882941</td>\n",
       "      <td>28.642859</td>\n",
       "      <td>1.301948</td>\n",
       "      <td>4.021066</td>\n",
       "      <td>...</td>\n",
       "      <td>10.014984</td>\n",
       "      <td>56.167647</td>\n",
       "      <td>297.111341</td>\n",
       "      <td>8.030036</td>\n",
       "      <td>1054</td>\n",
       "      <td>35</td>\n",
       "      <td>114.0</td>\n",
       "      <td>134.0</td>\n",
       "      <td>6.777778</td>\n",
       "      <td>5.000000</td>\n",
       "    </tr>\n",
       "    <tr>\n",
       "      <th>1</th>\n",
       "      <td>24.903216</td>\n",
       "      <td>18.124771</td>\n",
       "      <td>0</td>\n",
       "      <td>1</td>\n",
       "      <td>40.614930</td>\n",
       "      <td>2.512441</td>\n",
       "      <td>4.988877</td>\n",
       "      <td>40.614930</td>\n",
       "      <td>1.310159</td>\n",
       "      <td>4.391017</td>\n",
       "      <td>...</td>\n",
       "      <td>10.551402</td>\n",
       "      <td>81.473765</td>\n",
       "      <td>416.232460</td>\n",
       "      <td>7.054787</td>\n",
       "      <td>2779</td>\n",
       "      <td>55</td>\n",
       "      <td>174.0</td>\n",
       "      <td>211.0</td>\n",
       "      <td>9.694444</td>\n",
       "      <td>6.611111</td>\n",
       "    </tr>\n",
       "    <tr>\n",
       "      <th>2</th>\n",
       "      <td>19.677670</td>\n",
       "      <td>15.258529</td>\n",
       "      <td>0</td>\n",
       "      <td>0</td>\n",
       "      <td>33.898189</td>\n",
       "      <td>2.409826</td>\n",
       "      <td>4.780314</td>\n",
       "      <td>33.898189</td>\n",
       "      <td>1.355928</td>\n",
       "      <td>4.161928</td>\n",
       "      <td>...</td>\n",
       "      <td>10.066329</td>\n",
       "      <td>73.304213</td>\n",
       "      <td>331.143310</td>\n",
       "      <td>7.884365</td>\n",
       "      <td>1597</td>\n",
       "      <td>37</td>\n",
       "      <td>132.0</td>\n",
       "      <td>155.0</td>\n",
       "      <td>6.027778</td>\n",
       "      <td>5.583333</td>\n",
       "    </tr>\n",
       "    <tr>\n",
       "      <th>3</th>\n",
       "      <td>14.417934</td>\n",
       "      <td>12.400650</td>\n",
       "      <td>1</td>\n",
       "      <td>0</td>\n",
       "      <td>24.433289</td>\n",
       "      <td>2.360850</td>\n",
       "      <td>4.721699</td>\n",
       "      <td>24.433289</td>\n",
       "      <td>1.285963</td>\n",
       "      <td>3.853830</td>\n",
       "      <td>...</td>\n",
       "      <td>9.695294</td>\n",
       "      <td>51.990047</td>\n",
       "      <td>254.094294</td>\n",
       "      <td>7.699827</td>\n",
       "      <td>724</td>\n",
       "      <td>28</td>\n",
       "      <td>94.0</td>\n",
       "      <td>108.0</td>\n",
       "      <td>6.916667</td>\n",
       "      <td>4.277778</td>\n",
       "    </tr>\n",
       "    <tr>\n",
       "      <th>4</th>\n",
       "      <td>25.093486</td>\n",
       "      <td>20.067761</td>\n",
       "      <td>1</td>\n",
       "      <td>0</td>\n",
       "      <td>41.437036</td>\n",
       "      <td>2.401507</td>\n",
       "      <td>4.803014</td>\n",
       "      <td>41.437036</td>\n",
       "      <td>1.255668</td>\n",
       "      <td>4.400419</td>\n",
       "      <td>...</td>\n",
       "      <td>10.256992</td>\n",
       "      <td>68.743553</td>\n",
       "      <td>452.267508</td>\n",
       "      <td>6.554602</td>\n",
       "      <td>3368</td>\n",
       "      <td>50</td>\n",
       "      <td>164.0</td>\n",
       "      <td>188.0</td>\n",
       "      <td>11.361111</td>\n",
       "      <td>7.472222</td>\n",
       "    </tr>\n",
       "    <tr>\n",
       "      <th>...</th>\n",
       "      <td>...</td>\n",
       "      <td>...</td>\n",
       "      <td>...</td>\n",
       "      <td>...</td>\n",
       "      <td>...</td>\n",
       "      <td>...</td>\n",
       "      <td>...</td>\n",
       "      <td>...</td>\n",
       "      <td>...</td>\n",
       "      <td>...</td>\n",
       "      <td>...</td>\n",
       "      <td>...</td>\n",
       "      <td>...</td>\n",
       "      <td>...</td>\n",
       "      <td>...</td>\n",
       "      <td>...</td>\n",
       "      <td>...</td>\n",
       "      <td>...</td>\n",
       "      <td>...</td>\n",
       "      <td>...</td>\n",
       "      <td>...</td>\n",
       "    </tr>\n",
       "    <tr>\n",
       "      <th>106</th>\n",
       "      <td>16.401355</td>\n",
       "      <td>13.178323</td>\n",
       "      <td>0</td>\n",
       "      <td>0</td>\n",
       "      <td>27.516148</td>\n",
       "      <td>2.357497</td>\n",
       "      <td>4.672669</td>\n",
       "      <td>27.516148</td>\n",
       "      <td>1.310293</td>\n",
       "      <td>4.000209</td>\n",
       "      <td>...</td>\n",
       "      <td>9.789030</td>\n",
       "      <td>72.959236</td>\n",
       "      <td>282.111676</td>\n",
       "      <td>8.060334</td>\n",
       "      <td>1031</td>\n",
       "      <td>28</td>\n",
       "      <td>108.0</td>\n",
       "      <td>124.0</td>\n",
       "      <td>5.916667</td>\n",
       "      <td>4.638889</td>\n",
       "    </tr>\n",
       "    <tr>\n",
       "      <th>107</th>\n",
       "      <td>14.170645</td>\n",
       "      <td>11.707760</td>\n",
       "      <td>0</td>\n",
       "      <td>1</td>\n",
       "      <td>23.935088</td>\n",
       "      <td>2.388155</td>\n",
       "      <td>4.712246</td>\n",
       "      <td>23.935088</td>\n",
       "      <td>1.329727</td>\n",
       "      <td>3.834465</td>\n",
       "      <td>...</td>\n",
       "      <td>9.677277</td>\n",
       "      <td>64.521606</td>\n",
       "      <td>244.132411</td>\n",
       "      <td>7.180365</td>\n",
       "      <td>641</td>\n",
       "      <td>24</td>\n",
       "      <td>94.0</td>\n",
       "      <td>109.0</td>\n",
       "      <td>4.555556</td>\n",
       "      <td>3.972222</td>\n",
       "    </tr>\n",
       "    <tr>\n",
       "      <th>108</th>\n",
       "      <td>19.746619</td>\n",
       "      <td>14.936089</td>\n",
       "      <td>0</td>\n",
       "      <td>1</td>\n",
       "      <td>33.362088</td>\n",
       "      <td>2.495481</td>\n",
       "      <td>4.865302</td>\n",
       "      <td>33.362088</td>\n",
       "      <td>1.334484</td>\n",
       "      <td>4.165519</td>\n",
       "      <td>...</td>\n",
       "      <td>10.149449</td>\n",
       "      <td>74.204986</td>\n",
       "      <td>334.142976</td>\n",
       "      <td>7.770767</td>\n",
       "      <td>1610</td>\n",
       "      <td>39</td>\n",
       "      <td>134.0</td>\n",
       "      <td>159.0</td>\n",
       "      <td>6.638889</td>\n",
       "      <td>5.527778</td>\n",
       "    </tr>\n",
       "    <tr>\n",
       "      <th>109</th>\n",
       "      <td>24.307097</td>\n",
       "      <td>17.264108</td>\n",
       "      <td>0</td>\n",
       "      <td>1</td>\n",
       "      <td>39.555540</td>\n",
       "      <td>2.472253</td>\n",
       "      <td>4.857191</td>\n",
       "      <td>39.555540</td>\n",
       "      <td>1.318518</td>\n",
       "      <td>4.376647</td>\n",
       "      <td>...</td>\n",
       "      <td>10.412081</td>\n",
       "      <td>85.616131</td>\n",
       "      <td>425.152161</td>\n",
       "      <td>8.021739</td>\n",
       "      <td>2831</td>\n",
       "      <td>46</td>\n",
       "      <td>168.0</td>\n",
       "      <td>199.0</td>\n",
       "      <td>8.312500</td>\n",
       "      <td>6.277778</td>\n",
       "    </tr>\n",
       "    <tr>\n",
       "      <th>110</th>\n",
       "      <td>20.332406</td>\n",
       "      <td>16.168205</td>\n",
       "      <td>0</td>\n",
       "      <td>0</td>\n",
       "      <td>33.837989</td>\n",
       "      <td>2.531128</td>\n",
       "      <td>4.951346</td>\n",
       "      <td>33.837989</td>\n",
       "      <td>1.353520</td>\n",
       "      <td>4.217558</td>\n",
       "      <td>...</td>\n",
       "      <td>10.367505</td>\n",
       "      <td>80.845566</td>\n",
       "      <td>337.201494</td>\n",
       "      <td>7.025031</td>\n",
       "      <td>1459</td>\n",
       "      <td>42</td>\n",
       "      <td>144.0</td>\n",
       "      <td>178.0</td>\n",
       "      <td>6.361111</td>\n",
       "      <td>5.361111</td>\n",
       "    </tr>\n",
       "  </tbody>\n",
       "</table>\n",
       "<p>111 rows × 1613 columns</p>\n",
       "</div>"
      ],
      "text/plain": [
       "           ABC      ABCGG  nAcid  nBase    SpAbs_A   SpMax_A  SpDiam_A  \\\n",
       "0    16.958632  13.546673      0      0  28.642859  2.441470  4.882941   \n",
       "1    24.903216  18.124771      0      1  40.614930  2.512441  4.988877   \n",
       "2    19.677670  15.258529      0      0  33.898189  2.409826  4.780314   \n",
       "3    14.417934  12.400650      1      0  24.433289  2.360850  4.721699   \n",
       "4    25.093486  20.067761      1      0  41.437036  2.401507  4.803014   \n",
       "..         ...        ...    ...    ...        ...       ...       ...   \n",
       "106  16.401355  13.178323      0      0  27.516148  2.357497  4.672669   \n",
       "107  14.170645  11.707760      0      1  23.935088  2.388155  4.712246   \n",
       "108  19.746619  14.936089      0      1  33.362088  2.495481  4.865302   \n",
       "109  24.307097  17.264108      0      1  39.555540  2.472253  4.857191   \n",
       "110  20.332406  16.168205      0      0  33.837989  2.531128  4.951346   \n",
       "\n",
       "        SpAD_A   SpMAD_A   LogEE_A  ...      SRW10     TSRW10          MW  \\\n",
       "0    28.642859  1.301948  4.021066  ...  10.014984  56.167647  297.111341   \n",
       "1    40.614930  1.310159  4.391017  ...  10.551402  81.473765  416.232460   \n",
       "2    33.898189  1.355928  4.161928  ...  10.066329  73.304213  331.143310   \n",
       "3    24.433289  1.285963  3.853830  ...   9.695294  51.990047  254.094294   \n",
       "4    41.437036  1.255668  4.400419  ...  10.256992  68.743553  452.267508   \n",
       "..         ...       ...       ...  ...        ...        ...         ...   \n",
       "106  27.516148  1.310293  4.000209  ...   9.789030  72.959236  282.111676   \n",
       "107  23.935088  1.329727  3.834465  ...   9.677277  64.521606  244.132411   \n",
       "108  33.362088  1.334484  4.165519  ...  10.149449  74.204986  334.142976   \n",
       "109  39.555540  1.318518  4.376647  ...  10.412081  85.616131  425.152161   \n",
       "110  33.837989  1.353520  4.217558  ...  10.367505  80.845566  337.201494   \n",
       "\n",
       "          AMW  WPath  WPol  Zagreb1  Zagreb2   mZagreb1  mZagreb2  \n",
       "0    8.030036   1054    35    114.0    134.0   6.777778  5.000000  \n",
       "1    7.054787   2779    55    174.0    211.0   9.694444  6.611111  \n",
       "2    7.884365   1597    37    132.0    155.0   6.027778  5.583333  \n",
       "3    7.699827    724    28     94.0    108.0   6.916667  4.277778  \n",
       "4    6.554602   3368    50    164.0    188.0  11.361111  7.472222  \n",
       "..        ...    ...   ...      ...      ...        ...       ...  \n",
       "106  8.060334   1031    28    108.0    124.0   5.916667  4.638889  \n",
       "107  7.180365    641    24     94.0    109.0   4.555556  3.972222  \n",
       "108  7.770767   1610    39    134.0    159.0   6.638889  5.527778  \n",
       "109  8.021739   2831    46    168.0    199.0   8.312500  6.277778  \n",
       "110  7.025031   1459    42    144.0    178.0   6.361111  5.361111  \n",
       "\n",
       "[111 rows x 1613 columns]"
      ]
     },
     "execution_count": 9,
     "metadata": {},
     "output_type": "execute_result"
    }
   ],
   "source": [
    "train_features"
   ]
  },
  {
   "cell_type": "code",
   "execution_count": 10,
   "metadata": {},
   "outputs": [],
   "source": [
    "import lightning\n",
    "from lightning.pytorch.callbacks.early_stopping import EarlyStopping\n",
    "from lightning.pytorch.callbacks.model_checkpoint import ModelCheckpoint\n",
    "import torch\n",
    "import numpy as np"
   ]
  },
  {
   "cell_type": "code",
   "execution_count": 11,
   "metadata": {},
   "outputs": [],
   "source": [
    "X = torch.tensor(train_features.to_numpy(dtype=np.float32), dtype=torch.float32)\n",
    "y = torch.tensor(train_df[\"LOG_RPPB\"].to_numpy(dtype=np.float32), dtype=torch.float32)[:, None]  # keep it 2d!\n",
    "X_test = torch.tensor(test_features.to_numpy(dtype=np.float32), dtype=torch.float32)"
   ]
  },
  {
   "cell_type": "code",
   "execution_count": 12,
   "metadata": {},
   "outputs": [],
   "source": [
    "val_idx = 12  # use n/110 for validation"
   ]
  },
  {
   "cell_type": "code",
   "execution_count": 13,
   "metadata": {},
   "outputs": [],
   "source": [
    "from fastprop.data import standard_scale, inverse_standard_scale"
   ]
  },
  {
   "cell_type": "code",
   "execution_count": 14,
   "metadata": {},
   "outputs": [
    {
     "data": {
      "text/plain": [
       "tensor([[-1.5259, -1.6208, -0.1925,  ..., -1.7424, -0.9804, -1.3396],\n",
       "        [ 0.4879,  0.4359, -0.1925,  ...,  0.4292,  0.1037,  0.6367],\n",
       "        [ 0.2321,  0.2587, -0.1925,  ...,  0.2722,  0.4036,  0.0473],\n",
       "        ...,\n",
       "        [ 0.0987,  0.5012, -0.1925,  ...,  0.0367,  1.1153,  0.1860],\n",
       "        [ 1.6076,  1.5861, -0.1925,  ...,  1.7635,  1.5107,  1.6191],\n",
       "        [-1.8798, -1.8199, -0.1925,  ..., -1.5592, -1.7152, -2.0678]])"
      ]
     },
     "execution_count": 14,
     "metadata": {},
     "output_type": "execute_result"
    }
   ],
   "source": [
    "X[val_idx:], means, vars = standard_scale(X[val_idx:])\n",
    "X[:val_idx] = standard_scale(X[:val_idx], means, vars)\n",
    "X_test = standard_scale(X_test, means, vars)\n",
    "# sorta-Winsorization\n",
    "X.clamp_(-3, 3)\n",
    "X_test.clamp_(-3, 3)"
   ]
  },
  {
   "cell_type": "markdown",
   "metadata": {},
   "source": [
    "We could also rescale the targets like this:\n",
    "\n",
    "```python\n",
    "y, target_means, target_vars = standard_scale(y)\n",
    "```\n",
    "\n",
    "But their natural scale is already pretty close to what we want, so we won't bother (i've tried, and it doesn't significantly impact performance)."
   ]
  },
  {
   "cell_type": "markdown",
   "metadata": {},
   "source": [
    "## Implementing Pairwise Regression\n",
    "\n",
    "`nepare` provides a number of convenience classes than handle training, validation, and testing augmentation automatically."
   ]
  },
  {
   "cell_type": "code",
   "execution_count": 15,
   "metadata": {},
   "outputs": [],
   "source": [
    "from nepare.nn import NeuralPairwiseRegressor as NPR\n",
    "from nepare.data import PairwiseAugmentedDataset, PairwiseAnchoredDataset, PairwiseInferenceDataset\n",
    "from nepare.inference import predict"
   ]
  },
  {
   "cell_type": "code",
   "execution_count": 16,
   "metadata": {},
   "outputs": [],
   "source": [
    "training_dataset = PairwiseAugmentedDataset(X[val_idx:], y[val_idx:], how='full')\n",
    "validation_dataset = PairwiseAnchoredDataset(X[val_idx:], y[val_idx:], X[:val_idx], y[:val_idx], how='full')\n",
    "predict_dataset = PairwiseInferenceDataset(X[val_idx:], y[val_idx:], X_test, how='full')\n",
    "train_loader = torch.utils.data.DataLoader(training_dataset, batch_size=64, shuffle=True)\n",
    "val_loader = torch.utils.data.DataLoader(validation_dataset, batch_size=64)\n",
    "predict_loader = torch.utils.data.DataLoader(predict_dataset, batch_size=64)"
   ]
  },
  {
   "cell_type": "markdown",
   "metadata": {},
   "source": [
    "These networks can overfit very quickly, so we will use `EarlyStopping` to stop training once we start overfitting and then reset the network to to _just before_ it overfit."
   ]
  },
  {
   "cell_type": "code",
   "execution_count": 17,
   "metadata": {},
   "outputs": [],
   "source": [
    "npr = NPR(X.shape[1], 50, 2)\n",
    "early_stopping = EarlyStopping(monitor=\"validation/loss\", patience=10)\n",
    "model_checkpoint = ModelCheckpoint(monitor=\"validation/loss\")"
   ]
  },
  {
   "cell_type": "code",
   "execution_count": 18,
   "metadata": {},
   "outputs": [
    {
     "name": "stderr",
     "output_type": "stream",
     "text": [
      "GPU available: True (cuda), used: True\n",
      "TPU available: False, using: 0 TPU cores\n",
      "HPU available: False, using: 0 HPUs\n",
      "LOCAL_RANK: 0 - CUDA_VISIBLE_DEVICES: [0]\n",
      "\n",
      "  | Name | Type       | Params | Mode \n",
      "--------------------------------------------\n",
      "0 | fnn  | Sequential | 163 K  | train\n",
      "--------------------------------------------\n",
      "163 K     Trainable params\n",
      "0         Non-trainable params\n",
      "163 K     Total params\n",
      "0.656     Total estimated model params size (MB)\n",
      "6         Modules in train mode\n",
      "0         Modules in eval mode\n"
     ]
    },
    {
     "data": {
      "application/vnd.jupyter.widget-view+json": {
       "model_id": "c3c2bc44ce6745049bc6cd97f1eeb00c",
       "version_major": 2,
       "version_minor": 0
      },
      "text/plain": [
       "Sanity Checking: |          | 0/? [00:00<?, ?it/s]"
      ]
     },
     "metadata": {},
     "output_type": "display_data"
    },
    {
     "data": {
      "application/vnd.jupyter.widget-view+json": {
       "model_id": "9edd95d1b4c24026bd027d9a59d3eb43",
       "version_major": 2,
       "version_minor": 0
      },
      "text/plain": [
       "Training: |          | 0/? [00:00<?, ?it/s]"
      ]
     },
     "metadata": {},
     "output_type": "display_data"
    },
    {
     "data": {
      "application/vnd.jupyter.widget-view+json": {
       "model_id": "52e444b3aef5432fb058d39f30c0802e",
       "version_major": 2,
       "version_minor": 0
      },
      "text/plain": [
       "Validation: |          | 0/? [00:00<?, ?it/s]"
      ]
     },
     "metadata": {},
     "output_type": "display_data"
    },
    {
     "data": {
      "application/vnd.jupyter.widget-view+json": {
       "model_id": "dff1099024974618bf341ada2a673f10",
       "version_major": 2,
       "version_minor": 0
      },
      "text/plain": [
       "Validation: |          | 0/? [00:00<?, ?it/s]"
      ]
     },
     "metadata": {},
     "output_type": "display_data"
    },
    {
     "data": {
      "application/vnd.jupyter.widget-view+json": {
       "model_id": "39fdfa2b8a4b499eb57d05243a79f2dc",
       "version_major": 2,
       "version_minor": 0
      },
      "text/plain": [
       "Validation: |          | 0/? [00:00<?, ?it/s]"
      ]
     },
     "metadata": {},
     "output_type": "display_data"
    },
    {
     "data": {
      "application/vnd.jupyter.widget-view+json": {
       "model_id": "43c65b8b72994001a547c4299332df34",
       "version_major": 2,
       "version_minor": 0
      },
      "text/plain": [
       "Validation: |          | 0/? [00:00<?, ?it/s]"
      ]
     },
     "metadata": {},
     "output_type": "display_data"
    },
    {
     "data": {
      "application/vnd.jupyter.widget-view+json": {
       "model_id": "e440a2f5409d44c0b929d69d64c823ed",
       "version_major": 2,
       "version_minor": 0
      },
      "text/plain": [
       "Validation: |          | 0/? [00:00<?, ?it/s]"
      ]
     },
     "metadata": {},
     "output_type": "display_data"
    },
    {
     "data": {
      "application/vnd.jupyter.widget-view+json": {
       "model_id": "9534fb861b2849c6a25eb98cdaf1d41a",
       "version_major": 2,
       "version_minor": 0
      },
      "text/plain": [
       "Validation: |          | 0/? [00:00<?, ?it/s]"
      ]
     },
     "metadata": {},
     "output_type": "display_data"
    },
    {
     "data": {
      "application/vnd.jupyter.widget-view+json": {
       "model_id": "2e78ea362efa4a80a1acffd9fce003e9",
       "version_major": 2,
       "version_minor": 0
      },
      "text/plain": [
       "Validation: |          | 0/? [00:00<?, ?it/s]"
      ]
     },
     "metadata": {},
     "output_type": "display_data"
    },
    {
     "data": {
      "application/vnd.jupyter.widget-view+json": {
       "model_id": "c4c2940bef4746eca3643b52eb38e9f9",
       "version_major": 2,
       "version_minor": 0
      },
      "text/plain": [
       "Validation: |          | 0/? [00:00<?, ?it/s]"
      ]
     },
     "metadata": {},
     "output_type": "display_data"
    },
    {
     "data": {
      "application/vnd.jupyter.widget-view+json": {
       "model_id": "c85ee4d1d1544148a0300eb112dd9110",
       "version_major": 2,
       "version_minor": 0
      },
      "text/plain": [
       "Validation: |          | 0/? [00:00<?, ?it/s]"
      ]
     },
     "metadata": {},
     "output_type": "display_data"
    },
    {
     "data": {
      "application/vnd.jupyter.widget-view+json": {
       "model_id": "88e8869351274a32b5f99c79722aea2a",
       "version_major": 2,
       "version_minor": 0
      },
      "text/plain": [
       "Validation: |          | 0/? [00:00<?, ?it/s]"
      ]
     },
     "metadata": {},
     "output_type": "display_data"
    },
    {
     "data": {
      "application/vnd.jupyter.widget-view+json": {
       "model_id": "010a223a81934a0d91aac8eca747c101",
       "version_major": 2,
       "version_minor": 0
      },
      "text/plain": [
       "Validation: |          | 0/? [00:00<?, ?it/s]"
      ]
     },
     "metadata": {},
     "output_type": "display_data"
    },
    {
     "data": {
      "application/vnd.jupyter.widget-view+json": {
       "model_id": "f5597061c5064d1e9c1b3a5e52d54ea3",
       "version_major": 2,
       "version_minor": 0
      },
      "text/plain": [
       "Validation: |          | 0/? [00:00<?, ?it/s]"
      ]
     },
     "metadata": {},
     "output_type": "display_data"
    },
    {
     "data": {
      "application/vnd.jupyter.widget-view+json": {
       "model_id": "9a339247d29941ef93be3a98629ac559",
       "version_major": 2,
       "version_minor": 0
      },
      "text/plain": [
       "Validation: |          | 0/? [00:00<?, ?it/s]"
      ]
     },
     "metadata": {},
     "output_type": "display_data"
    },
    {
     "data": {
      "application/vnd.jupyter.widget-view+json": {
       "model_id": "6db96a8e84a24dc3853c037b2b39987e",
       "version_major": 2,
       "version_minor": 0
      },
      "text/plain": [
       "Validation: |          | 0/? [00:00<?, ?it/s]"
      ]
     },
     "metadata": {},
     "output_type": "display_data"
    },
    {
     "data": {
      "application/vnd.jupyter.widget-view+json": {
       "model_id": "f1b1ea021d65413a94b83b831a6def59",
       "version_major": 2,
       "version_minor": 0
      },
      "text/plain": [
       "Validation: |          | 0/? [00:00<?, ?it/s]"
      ]
     },
     "metadata": {},
     "output_type": "display_data"
    },
    {
     "data": {
      "application/vnd.jupyter.widget-view+json": {
       "model_id": "55efced410324d2bab12528f01583ded",
       "version_major": 2,
       "version_minor": 0
      },
      "text/plain": [
       "Validation: |          | 0/? [00:00<?, ?it/s]"
      ]
     },
     "metadata": {},
     "output_type": "display_data"
    },
    {
     "data": {
      "application/vnd.jupyter.widget-view+json": {
       "model_id": "f61320ad2fd9405082eb40260488a139",
       "version_major": 2,
       "version_minor": 0
      },
      "text/plain": [
       "Validation: |          | 0/? [00:00<?, ?it/s]"
      ]
     },
     "metadata": {},
     "output_type": "display_data"
    },
    {
     "data": {
      "application/vnd.jupyter.widget-view+json": {
       "model_id": "d1ef6f8cfe7946e39e5e3a87108a5d33",
       "version_major": 2,
       "version_minor": 0
      },
      "text/plain": [
       "Validation: |          | 0/? [00:00<?, ?it/s]"
      ]
     },
     "metadata": {},
     "output_type": "display_data"
    },
    {
     "data": {
      "application/vnd.jupyter.widget-view+json": {
       "model_id": "296407ef90fa425bbb4e152319469283",
       "version_major": 2,
       "version_minor": 0
      },
      "text/plain": [
       "Validation: |          | 0/? [00:00<?, ?it/s]"
      ]
     },
     "metadata": {},
     "output_type": "display_data"
    },
    {
     "data": {
      "application/vnd.jupyter.widget-view+json": {
       "model_id": "98bb374539534e0d8fef808f5d061061",
       "version_major": 2,
       "version_minor": 0
      },
      "text/plain": [
       "Validation: |          | 0/? [00:00<?, ?it/s]"
      ]
     },
     "metadata": {},
     "output_type": "display_data"
    },
    {
     "data": {
      "application/vnd.jupyter.widget-view+json": {
       "model_id": "b01df42b8d0f421c8caa646bf25f07b4",
       "version_major": 2,
       "version_minor": 0
      },
      "text/plain": [
       "Validation: |          | 0/? [00:00<?, ?it/s]"
      ]
     },
     "metadata": {},
     "output_type": "display_data"
    },
    {
     "data": {
      "application/vnd.jupyter.widget-view+json": {
       "model_id": "e6744bd80f5e467aacecfc05ad5a306c",
       "version_major": 2,
       "version_minor": 0
      },
      "text/plain": [
       "Validation: |          | 0/? [00:00<?, ?it/s]"
      ]
     },
     "metadata": {},
     "output_type": "display_data"
    },
    {
     "data": {
      "application/vnd.jupyter.widget-view+json": {
       "model_id": "659a2dc96c654b88a17fd2226f2b7389",
       "version_major": 2,
       "version_minor": 0
      },
      "text/plain": [
       "Validation: |          | 0/? [00:00<?, ?it/s]"
      ]
     },
     "metadata": {},
     "output_type": "display_data"
    },
    {
     "data": {
      "application/vnd.jupyter.widget-view+json": {
       "model_id": "bcffcb79853940c6bc8e2d6511305943",
       "version_major": 2,
       "version_minor": 0
      },
      "text/plain": [
       "Validation: |          | 0/? [00:00<?, ?it/s]"
      ]
     },
     "metadata": {},
     "output_type": "display_data"
    }
   ],
   "source": [
    "trainer = lightning.Trainer(max_epochs=50, log_every_n_steps=1, callbacks=[early_stopping, model_checkpoint])\n",
    "trainer.fit(npr, train_loader, val_loader)"
   ]
  },
  {
   "cell_type": "code",
   "execution_count": 19,
   "metadata": {},
   "outputs": [],
   "source": [
    "npr = NPR.load_from_checkpoint(model_checkpoint.best_model_path)  # reload best model based on early stopping"
   ]
  },
  {
   "cell_type": "code",
   "execution_count": 20,
   "metadata": {},
   "outputs": [
    {
     "name": "stderr",
     "output_type": "stream",
     "text": [
      "GPU available: True (cuda), used: True\n",
      "TPU available: False, using: 0 TPU cores\n",
      "HPU available: False, using: 0 HPUs\n",
      "LOCAL_RANK: 0 - CUDA_VISIBLE_DEVICES: [0]\n"
     ]
    },
    {
     "data": {
      "application/vnd.jupyter.widget-view+json": {
       "model_id": "815927e689494b99b5fe3c0d027f9833",
       "version_major": 2,
       "version_minor": 0
      },
      "text/plain": [
       "Predicting: |          | 0/? [00:00<?, ?it/s]"
      ]
     },
     "metadata": {},
     "output_type": "display_data"
    }
   ],
   "source": [
    "y_pred, y_stdev = predict(npr, predict_loader, how=\"all\")"
   ]
  },
  {
   "cell_type": "markdown",
   "metadata": {},
   "source": [
    "If we had re-scaled the target, we would have to undo that scaling like this:\n",
    "\n",
    "```python\n",
    "y_pred = inverse_standard_scale(torch.tensor(y_pred), target_means, target_vars)\n",
    "```"
   ]
  },
  {
   "cell_type": "markdown",
   "metadata": {},
   "source": [
    "## Finally, Results!"
   ]
  },
  {
   "cell_type": "code",
   "execution_count": 21,
   "metadata": {},
   "outputs": [],
   "source": [
    "results = benchmark.evaluate(y_pred)"
   ]
  },
  {
   "cell_type": "code",
   "execution_count": 22,
   "metadata": {},
   "outputs": [],
   "source": [
    "results.name = \"nepare\"\n",
    "results.description = \"Neural Pairwise Regression with Mordred(-community) Molecular Descriptors\"\n",
    "results.github_url = \"https://github.com/JacksonBurns/neural-pairwise-regression/blob/main/notebooks/polaris_adme.ipynb\""
   ]
  },
  {
   "cell_type": "code",
   "execution_count": 23,
   "metadata": {},
   "outputs": [
    {
     "data": {
      "text/html": [
       "<table border=\"1\"><tr><th>name</th><td>nepare</td></tr><tr><th>description</th><td>Neural Pairwise Regression with Mordred(-community) Molecular Descriptors</td></tr><tr><th>tags</th><td></td></tr><tr><th>user_attributes</th><td></td></tr><tr><th>owner</th><td>None</td></tr><tr><th>polaris_version</th><td>0.11.8</td></tr><tr><th>github_url</th><td>https://github.com/JacksonBurns/neural-pairwise-regression/blob/main/notebooks/polaris_adme.ipynb</td></tr><tr><th>paper_url</th><td>None</td></tr><tr><th>contributors</th><td></td></tr><tr><th>results</th><td><table border=\"1\"><thead><tr><th>test_set</th><th>target_label</th><th>scores</th></tr></thead><tbody><tr><td>test</td><td>LOG_RPPB</td><td><table border=\"1\"><tr><th>mean_absolute_error</th><td>0.38180363990212846</td></tr><tr><th>mean_squared_error</th><td>0.22988774805758586</td></tr><tr><th>r2</th><td>0.7412578398962673</td></tr><tr><th>pearsonr</th><td>0.8625079254520818</td></tr><tr><th>spearmanr</th><td>0.8278260869565216</td></tr><tr><th>explained_var</th><td>0.7439059341245777</td></tr></table></td></tr></tbody></table></td></tr><tr><th>benchmark_artifact_id</th><td>polaris/adme-fang-rppb-1</td></tr><tr><th>benchmark_name</th><td>None</td></tr><tr><th>benchmark_owner</th><td>None</td></tr><tr><th>slug</th><td>nepare</td></tr><tr><th>artifact_id</th><td>None</td></tr><tr><th>urn</th><td>None</td></tr><tr><th>version</th><td>1</td></tr></table>"
      ],
      "text/plain": [
       "{\n",
       "  \"name\": \"nepare\",\n",
       "  \"description\": \"Neural Pairwise Regression with Mordred(-community) Molecular Descriptors\",\n",
       "  \"tags\": [],\n",
       "  \"user_attributes\": {},\n",
       "  \"owner\": null,\n",
       "  \"polaris_version\": \"0.11.8\",\n",
       "  \"github_url\": \"https://github.com/JacksonBurns/neural-pairwise-regression/blob/main/notebooks/polaris_adme.ipynb\",\n",
       "  \"paper_url\": null,\n",
       "  \"contributors\": [],\n",
       "  \"results\": [\n",
       "    {\n",
       "      \"test_set\": \"test\",\n",
       "      \"target_label\": \"LOG_RPPB\",\n",
       "      \"scores\": {\n",
       "        \"mean_absolute_error\": 0.38180363990212846,\n",
       "        \"mean_squared_error\": 0.22988774805758586,\n",
       "        \"r2\": 0.7412578398962673,\n",
       "        \"pearsonr\": 0.8625079254520818,\n",
       "        \"spearmanr\": 0.8278260869565216,\n",
       "        \"explained_var\": 0.7439059341245777\n",
       "      }\n",
       "    }\n",
       "  ],\n",
       "  \"benchmark_artifact_id\": \"polaris/adme-fang-rppb-1\",\n",
       "  \"benchmark_name\": null,\n",
       "  \"benchmark_owner\": null,\n",
       "  \"slug\": \"nepare\",\n",
       "  \"artifact_id\": null,\n",
       "  \"urn\": null,\n",
       "  \"version\": 1\n",
       "}"
      ]
     },
     "execution_count": 23,
     "metadata": {},
     "output_type": "execute_result"
    }
   ],
   "source": [
    "results"
   ]
  },
  {
   "cell_type": "markdown",
   "metadata": {},
   "source": [
    "As of writing, this method lands at third on the leaderboard just barely losing out to a couple 1 _billion_ parameter MPNN-based foundation models.\n",
    "We've achieved pretty similar performance (without any tuning!) in just a few minutes - pretty good!"
   ]
  },
  {
   "cell_type": "markdown",
   "metadata": {},
   "source": [
    "This last line is commented out because it will fail (unless you are me) - you can replace the `owner` without your own name to upload your results (and also update the link, name, and description above)."
   ]
  },
  {
   "cell_type": "code",
   "execution_count": 25,
   "metadata": {},
   "outputs": [
    {
     "data": {
      "text/html": [
       "<pre style=\"white-space:pre;overflow-x:auto;line-height:normal;font-family:Menlo,'DejaVu Sans Mono',consolas,'Courier New',monospace\"><span style=\"color: #7fbfbf; text-decoration-color: #7fbfbf\">[11:43:16] </span><span style=\"color: #008000; text-decoration-color: #008000\">Your result has been successfully uploaded to the Hub. View it here: </span>                      <a href=\"file:///home/jackson/neural-pairwise-regression/.venv/lib/python3.12/site-packages/polaris/hub/client.py\" target=\"_blank\"><span style=\"color: #7f7f7f; text-decoration-color: #7f7f7f\">client.py</span></a><span style=\"color: #7f7f7f; text-decoration-color: #7f7f7f\">:</span><a href=\"file:///home/jackson/neural-pairwise-regression/.venv/lib/python3.12/site-packages/polaris/hub/client.py#532\" target=\"_blank\"><span style=\"color: #7f7f7f; text-decoration-color: #7f7f7f\">532</span></a>\n",
       "<span style=\"color: #7fbfbf; text-decoration-color: #7fbfbf\">           </span><span style=\"color: #008000; text-decoration-color: #008000; text-decoration: underline\">https://polarishub.io/benchmarks/polaris/adme-fang-rppb-1/omWNUdZVzkFKp72XGxn4K</span>            <span style=\"color: #7f7f7f; text-decoration-color: #7f7f7f\">             </span>\n",
       "</pre>\n"
      ],
      "text/plain": [
       "\u001b[2;36m[11:43:16]\u001b[0m\u001b[2;36m \u001b[0m\u001b[32mYour result has been successfully uploaded to the Hub. View it here: \u001b[0m                      \u001b]8;id=671809;file:///home/jackson/neural-pairwise-regression/.venv/lib/python3.12/site-packages/polaris/hub/client.py\u001b\\\u001b[2mclient.py\u001b[0m\u001b]8;;\u001b\\\u001b[2m:\u001b[0m\u001b]8;id=796352;file:///home/jackson/neural-pairwise-regression/.venv/lib/python3.12/site-packages/polaris/hub/client.py#532\u001b\\\u001b[2m532\u001b[0m\u001b]8;;\u001b\\\n",
       "\u001b[2;36m           \u001b[0m\u001b[4;32mhttps://polarishub.io/benchmarks/polaris/adme-fang-rppb-1/omWNUdZVzkFKp72XGxn4K\u001b[0m            \u001b[2m             \u001b[0m\n"
      ]
     },
     "metadata": {},
     "output_type": "display_data"
    },
    {
     "data": {
      "text/html": [
       "<pre style=\"white-space:pre;overflow-x:auto;line-height:normal;font-family:Menlo,'DejaVu Sans Mono',consolas,'Courier New',monospace\"><span style=\"color: #7fbfbf; text-decoration-color: #7fbfbf\">           </span><span style=\"color: #008000; text-decoration-color: #008000\"> Success: Uploading results</span>                                                                <a href=\"file:///home/jackson/neural-pairwise-regression/.venv/lib/python3.12/site-packages/polaris/utils/context.py\" target=\"_blank\"><span style=\"color: #7f7f7f; text-decoration-color: #7f7f7f\">context.py</span></a><span style=\"color: #7f7f7f; text-decoration-color: #7f7f7f\">:</span><a href=\"file:///home/jackson/neural-pairwise-regression/.venv/lib/python3.12/site-packages/polaris/utils/context.py#53\" target=\"_blank\"><span style=\"color: #7f7f7f; text-decoration-color: #7f7f7f\">53</span></a>\n",
       "</pre>\n"
      ],
      "text/plain": [
       "\u001b[2;36m          \u001b[0m\u001b[2;36m \u001b[0m\u001b[32m Success: Uploading results\u001b[0m                                                                \u001b]8;id=249530;file:///home/jackson/neural-pairwise-regression/.venv/lib/python3.12/site-packages/polaris/utils/context.py\u001b\\\u001b[2mcontext.py\u001b[0m\u001b]8;;\u001b\\\u001b[2m:\u001b[0m\u001b]8;id=345356;file:///home/jackson/neural-pairwise-regression/.venv/lib/python3.12/site-packages/polaris/utils/context.py#53\u001b\\\u001b[2m53\u001b[0m\u001b]8;;\u001b\\\n"
      ]
     },
     "metadata": {},
     "output_type": "display_data"
    },
    {
     "data": {
      "text/html": [
       "<pre style=\"white-space:pre;overflow-x:auto;line-height:normal;font-family:Menlo,'DejaVu Sans Mono',consolas,'Courier New',monospace\"></pre>\n"
      ],
      "text/plain": []
     },
     "metadata": {},
     "output_type": "display_data"
    }
   ],
   "source": [
    "results.upload_to_hub(owner=\"jacksonburns\", access=\"public\")"
   ]
  }
 ],
 "metadata": {
  "kernelspec": {
   "display_name": ".venv",
   "language": "python",
   "name": "python3"
  },
  "language_info": {
   "codemirror_mode": {
    "name": "ipython",
    "version": 3
   },
   "file_extension": ".py",
   "mimetype": "text/x-python",
   "name": "python",
   "nbconvert_exporter": "python",
   "pygments_lexer": "ipython3",
   "version": "3.12.3"
  }
 },
 "nbformat": 4,
 "nbformat_minor": 2
}
