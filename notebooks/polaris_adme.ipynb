{
 "cells": [
  {
   "cell_type": "code",
   "execution_count": 24,
   "metadata": {},
   "outputs": [],
   "source": [
    "import polaris as po\n",
    "import pandas as pd"
   ]
  },
  {
   "cell_type": "code",
   "execution_count": 25,
   "metadata": {},
   "outputs": [],
   "source": [
    "from packaging.version import Version\n",
    "assert Version(po.__version__) >= Version(\"0.11.6\"), \"test.as_dataframe does not work in earlier versions of Polaris, please upgrade\""
   ]
  },
  {
   "cell_type": "code",
   "execution_count": 26,
   "metadata": {},
   "outputs": [],
   "source": [
    "%%capture\n",
    "# https://polarishub.io/benchmarks/polaris/adme-fang-rppb-1\n",
    "benchmark = po.load_benchmark(\"polaris/adme-fang-RPPB-1\")"
   ]
  },
  {
   "cell_type": "code",
   "execution_count": 27,
   "metadata": {},
   "outputs": [],
   "source": [
    "train, test = benchmark.get_train_test_split()\n",
    "test_df: pd.DataFrame = test.as_dataframe()\n",
    "train_df: pd.DataFrame = train.as_dataframe()"
   ]
  },
  {
   "cell_type": "code",
   "execution_count": 28,
   "metadata": {},
   "outputs": [],
   "source": [
    "from mordred import Calculator, descriptors\n",
    "from rdkit.Chem import MolFromSmiles"
   ]
  },
  {
   "cell_type": "code",
   "execution_count": 29,
   "metadata": {},
   "outputs": [],
   "source": [
    "calc = Calculator(descriptors, ignore_3D=True)"
   ]
  },
  {
   "cell_type": "code",
   "execution_count": 30,
   "metadata": {},
   "outputs": [
    {
     "name": "stderr",
     "output_type": "stream",
     "text": [
      "100%|██████████| 111/111 [00:02<00:00, 48.82it/s]\n",
      "/home/jackson/neural-pairwise-regression/.venv/lib/python3.12/site-packages/mordred/_base/pandas_module.py:17: FutureWarning: DataFrame.applymap has been deprecated. Use DataFrame.map instead.\n",
      "  t[t.applymap(is_missing)] = value\n",
      "100%|██████████| 24/24 [00:00<00:00, 39.73it/s]\n",
      "/home/jackson/neural-pairwise-regression/.venv/lib/python3.12/site-packages/mordred/_base/pandas_module.py:17: FutureWarning: DataFrame.applymap has been deprecated. Use DataFrame.map instead.\n",
      "  t[t.applymap(is_missing)] = value\n"
     ]
    }
   ],
   "source": [
    "train_features = calc.pandas(map(MolFromSmiles, train_df[\"smiles\"]), nmols=len(train_df)).fill_missing()\n",
    "test_features = calc.pandas(map(MolFromSmiles, test_df[\"smiles\"]), nmols=len(test_df)).fill_missing()"
   ]
  },
  {
   "cell_type": "code",
   "execution_count": 31,
   "metadata": {},
   "outputs": [
    {
     "data": {
      "text/html": [
       "<div>\n",
       "<style scoped>\n",
       "    .dataframe tbody tr th:only-of-type {\n",
       "        vertical-align: middle;\n",
       "    }\n",
       "\n",
       "    .dataframe tbody tr th {\n",
       "        vertical-align: top;\n",
       "    }\n",
       "\n",
       "    .dataframe thead th {\n",
       "        text-align: right;\n",
       "    }\n",
       "</style>\n",
       "<table border=\"1\" class=\"dataframe\">\n",
       "  <thead>\n",
       "    <tr style=\"text-align: right;\">\n",
       "      <th></th>\n",
       "      <th>ABC</th>\n",
       "      <th>ABCGG</th>\n",
       "      <th>nAcid</th>\n",
       "      <th>nBase</th>\n",
       "      <th>SpAbs_A</th>\n",
       "      <th>SpMax_A</th>\n",
       "      <th>SpDiam_A</th>\n",
       "      <th>SpAD_A</th>\n",
       "      <th>SpMAD_A</th>\n",
       "      <th>LogEE_A</th>\n",
       "      <th>...</th>\n",
       "      <th>SRW10</th>\n",
       "      <th>TSRW10</th>\n",
       "      <th>MW</th>\n",
       "      <th>AMW</th>\n",
       "      <th>WPath</th>\n",
       "      <th>WPol</th>\n",
       "      <th>Zagreb1</th>\n",
       "      <th>Zagreb2</th>\n",
       "      <th>mZagreb1</th>\n",
       "      <th>mZagreb2</th>\n",
       "    </tr>\n",
       "  </thead>\n",
       "  <tbody>\n",
       "    <tr>\n",
       "      <th>0</th>\n",
       "      <td>19.564049</td>\n",
       "      <td>15.515402</td>\n",
       "      <td>0</td>\n",
       "      <td>0</td>\n",
       "      <td>31.193902</td>\n",
       "      <td>2.460029</td>\n",
       "      <td>4.822181</td>\n",
       "      <td>31.193902</td>\n",
       "      <td>1.247756</td>\n",
       "      <td>4.152028</td>\n",
       "      <td>...</td>\n",
       "      <td>10.200067</td>\n",
       "      <td>74.294388</td>\n",
       "      <td>338.163043</td>\n",
       "      <td>7.194958</td>\n",
       "      <td>1667</td>\n",
       "      <td>40</td>\n",
       "      <td>134.0</td>\n",
       "      <td>158.0</td>\n",
       "      <td>9.451389</td>\n",
       "      <td>5.361111</td>\n",
       "    </tr>\n",
       "    <tr>\n",
       "      <th>1</th>\n",
       "      <td>15.653808</td>\n",
       "      <td>13.530766</td>\n",
       "      <td>0</td>\n",
       "      <td>0</td>\n",
       "      <td>26.599236</td>\n",
       "      <td>2.394797</td>\n",
       "      <td>4.789594</td>\n",
       "      <td>26.599236</td>\n",
       "      <td>1.266630</td>\n",
       "      <td>3.950621</td>\n",
       "      <td>...</td>\n",
       "      <td>9.882519</td>\n",
       "      <td>54.636160</td>\n",
       "      <td>290.137890</td>\n",
       "      <td>7.439433</td>\n",
       "      <td>946</td>\n",
       "      <td>33</td>\n",
       "      <td>104.0</td>\n",
       "      <td>121.0</td>\n",
       "      <td>8.027778</td>\n",
       "      <td>4.916667</td>\n",
       "    </tr>\n",
       "    <tr>\n",
       "      <th>2</th>\n",
       "      <td>22.494166</td>\n",
       "      <td>17.802912</td>\n",
       "      <td>0</td>\n",
       "      <td>1</td>\n",
       "      <td>37.841697</td>\n",
       "      <td>2.469719</td>\n",
       "      <td>4.850692</td>\n",
       "      <td>37.841697</td>\n",
       "      <td>1.351489</td>\n",
       "      <td>4.291692</td>\n",
       "      <td>...</td>\n",
       "      <td>10.311117</td>\n",
       "      <td>79.272896</td>\n",
       "      <td>372.175025</td>\n",
       "      <td>7.595409</td>\n",
       "      <td>2088</td>\n",
       "      <td>44</td>\n",
       "      <td>154.0</td>\n",
       "      <td>185.0</td>\n",
       "      <td>6.500000</td>\n",
       "      <td>6.083333</td>\n",
       "    </tr>\n",
       "    <tr>\n",
       "      <th>3</th>\n",
       "      <td>12.784941</td>\n",
       "      <td>10.806108</td>\n",
       "      <td>0</td>\n",
       "      <td>0</td>\n",
       "      <td>21.020790</td>\n",
       "      <td>2.493634</td>\n",
       "      <td>4.786867</td>\n",
       "      <td>21.020790</td>\n",
       "      <td>1.313799</td>\n",
       "      <td>3.736113</td>\n",
       "      <td>...</td>\n",
       "      <td>9.768069</td>\n",
       "      <td>63.439705</td>\n",
       "      <td>251.007471</td>\n",
       "      <td>10.040299</td>\n",
       "      <td>390</td>\n",
       "      <td>28</td>\n",
       "      <td>88.0</td>\n",
       "      <td>106.0</td>\n",
       "      <td>4.666667</td>\n",
       "      <td>3.444444</td>\n",
       "    </tr>\n",
       "    <tr>\n",
       "      <th>4</th>\n",
       "      <td>24.307097</td>\n",
       "      <td>17.264108</td>\n",
       "      <td>0</td>\n",
       "      <td>1</td>\n",
       "      <td>39.555540</td>\n",
       "      <td>2.472253</td>\n",
       "      <td>4.857191</td>\n",
       "      <td>39.555540</td>\n",
       "      <td>1.318518</td>\n",
       "      <td>4.376647</td>\n",
       "      <td>...</td>\n",
       "      <td>10.412081</td>\n",
       "      <td>85.616131</td>\n",
       "      <td>425.152161</td>\n",
       "      <td>8.021739</td>\n",
       "      <td>2831</td>\n",
       "      <td>46</td>\n",
       "      <td>168.0</td>\n",
       "      <td>199.0</td>\n",
       "      <td>8.312500</td>\n",
       "      <td>6.277778</td>\n",
       "    </tr>\n",
       "    <tr>\n",
       "      <th>...</th>\n",
       "      <td>...</td>\n",
       "      <td>...</td>\n",
       "      <td>...</td>\n",
       "      <td>...</td>\n",
       "      <td>...</td>\n",
       "      <td>...</td>\n",
       "      <td>...</td>\n",
       "      <td>...</td>\n",
       "      <td>...</td>\n",
       "      <td>...</td>\n",
       "      <td>...</td>\n",
       "      <td>...</td>\n",
       "      <td>...</td>\n",
       "      <td>...</td>\n",
       "      <td>...</td>\n",
       "      <td>...</td>\n",
       "      <td>...</td>\n",
       "      <td>...</td>\n",
       "      <td>...</td>\n",
       "      <td>...</td>\n",
       "      <td>...</td>\n",
       "    </tr>\n",
       "    <tr>\n",
       "      <th>106</th>\n",
       "      <td>19.706179</td>\n",
       "      <td>15.948322</td>\n",
       "      <td>0</td>\n",
       "      <td>0</td>\n",
       "      <td>33.628374</td>\n",
       "      <td>2.472681</td>\n",
       "      <td>4.945361</td>\n",
       "      <td>33.628374</td>\n",
       "      <td>1.293399</td>\n",
       "      <td>4.179699</td>\n",
       "      <td>...</td>\n",
       "      <td>10.234840</td>\n",
       "      <td>61.081799</td>\n",
       "      <td>369.088019</td>\n",
       "      <td>8.787810</td>\n",
       "      <td>1644</td>\n",
       "      <td>45</td>\n",
       "      <td>134.0</td>\n",
       "      <td>160.0</td>\n",
       "      <td>9.000000</td>\n",
       "      <td>6.055556</td>\n",
       "    </tr>\n",
       "    <tr>\n",
       "      <th>107</th>\n",
       "      <td>20.838915</td>\n",
       "      <td>17.520490</td>\n",
       "      <td>0</td>\n",
       "      <td>0</td>\n",
       "      <td>33.703458</td>\n",
       "      <td>2.553484</td>\n",
       "      <td>5.026050</td>\n",
       "      <td>33.703458</td>\n",
       "      <td>1.248276</td>\n",
       "      <td>4.221641</td>\n",
       "      <td>...</td>\n",
       "      <td>10.312911</td>\n",
       "      <td>76.668244</td>\n",
       "      <td>370.180504</td>\n",
       "      <td>7.403610</td>\n",
       "      <td>1792</td>\n",
       "      <td>46</td>\n",
       "      <td>142.0</td>\n",
       "      <td>170.0</td>\n",
       "      <td>10.472222</td>\n",
       "      <td>5.972222</td>\n",
       "    </tr>\n",
       "    <tr>\n",
       "      <th>108</th>\n",
       "      <td>18.022418</td>\n",
       "      <td>14.619949</td>\n",
       "      <td>0</td>\n",
       "      <td>0</td>\n",
       "      <td>28.973289</td>\n",
       "      <td>2.497482</td>\n",
       "      <td>4.833825</td>\n",
       "      <td>28.973289</td>\n",
       "      <td>1.259708</td>\n",
       "      <td>4.070020</td>\n",
       "      <td>...</td>\n",
       "      <td>10.076222</td>\n",
       "      <td>71.785695</td>\n",
       "      <td>345.070261</td>\n",
       "      <td>8.847955</td>\n",
       "      <td>1278</td>\n",
       "      <td>36</td>\n",
       "      <td>122.0</td>\n",
       "      <td>144.0</td>\n",
       "      <td>8.250000</td>\n",
       "      <td>4.972222</td>\n",
       "    </tr>\n",
       "    <tr>\n",
       "      <th>109</th>\n",
       "      <td>17.157991</td>\n",
       "      <td>14.060054</td>\n",
       "      <td>0</td>\n",
       "      <td>1</td>\n",
       "      <td>29.114369</td>\n",
       "      <td>2.360026</td>\n",
       "      <td>4.706457</td>\n",
       "      <td>29.114369</td>\n",
       "      <td>1.323380</td>\n",
       "      <td>4.022362</td>\n",
       "      <td>...</td>\n",
       "      <td>9.889845</td>\n",
       "      <td>69.501924</td>\n",
       "      <td>304.189926</td>\n",
       "      <td>6.612824</td>\n",
       "      <td>1150</td>\n",
       "      <td>30</td>\n",
       "      <td>114.0</td>\n",
       "      <td>131.0</td>\n",
       "      <td>6.256944</td>\n",
       "      <td>4.847222</td>\n",
       "    </tr>\n",
       "    <tr>\n",
       "      <th>110</th>\n",
       "      <td>27.674624</td>\n",
       "      <td>19.466070</td>\n",
       "      <td>0</td>\n",
       "      <td>1</td>\n",
       "      <td>46.110926</td>\n",
       "      <td>2.444183</td>\n",
       "      <td>4.836329</td>\n",
       "      <td>46.110926</td>\n",
       "      <td>1.317455</td>\n",
       "      <td>4.492754</td>\n",
       "      <td>...</td>\n",
       "      <td>10.412081</td>\n",
       "      <td>85.036281</td>\n",
       "      <td>470.206639</td>\n",
       "      <td>7.708306</td>\n",
       "      <td>4307</td>\n",
       "      <td>53</td>\n",
       "      <td>186.0</td>\n",
       "      <td>217.0</td>\n",
       "      <td>9.472222</td>\n",
       "      <td>7.666667</td>\n",
       "    </tr>\n",
       "  </tbody>\n",
       "</table>\n",
       "<p>111 rows × 1613 columns</p>\n",
       "</div>"
      ],
      "text/plain": [
       "           ABC      ABCGG  nAcid  nBase    SpAbs_A   SpMax_A  SpDiam_A  \\\n",
       "0    19.564049  15.515402      0      0  31.193902  2.460029  4.822181   \n",
       "1    15.653808  13.530766      0      0  26.599236  2.394797  4.789594   \n",
       "2    22.494166  17.802912      0      1  37.841697  2.469719  4.850692   \n",
       "3    12.784941  10.806108      0      0  21.020790  2.493634  4.786867   \n",
       "4    24.307097  17.264108      0      1  39.555540  2.472253  4.857191   \n",
       "..         ...        ...    ...    ...        ...       ...       ...   \n",
       "106  19.706179  15.948322      0      0  33.628374  2.472681  4.945361   \n",
       "107  20.838915  17.520490      0      0  33.703458  2.553484  5.026050   \n",
       "108  18.022418  14.619949      0      0  28.973289  2.497482  4.833825   \n",
       "109  17.157991  14.060054      0      1  29.114369  2.360026  4.706457   \n",
       "110  27.674624  19.466070      0      1  46.110926  2.444183  4.836329   \n",
       "\n",
       "        SpAD_A   SpMAD_A   LogEE_A  ...      SRW10     TSRW10          MW  \\\n",
       "0    31.193902  1.247756  4.152028  ...  10.200067  74.294388  338.163043   \n",
       "1    26.599236  1.266630  3.950621  ...   9.882519  54.636160  290.137890   \n",
       "2    37.841697  1.351489  4.291692  ...  10.311117  79.272896  372.175025   \n",
       "3    21.020790  1.313799  3.736113  ...   9.768069  63.439705  251.007471   \n",
       "4    39.555540  1.318518  4.376647  ...  10.412081  85.616131  425.152161   \n",
       "..         ...       ...       ...  ...        ...        ...         ...   \n",
       "106  33.628374  1.293399  4.179699  ...  10.234840  61.081799  369.088019   \n",
       "107  33.703458  1.248276  4.221641  ...  10.312911  76.668244  370.180504   \n",
       "108  28.973289  1.259708  4.070020  ...  10.076222  71.785695  345.070261   \n",
       "109  29.114369  1.323380  4.022362  ...   9.889845  69.501924  304.189926   \n",
       "110  46.110926  1.317455  4.492754  ...  10.412081  85.036281  470.206639   \n",
       "\n",
       "           AMW  WPath  WPol  Zagreb1  Zagreb2   mZagreb1  mZagreb2  \n",
       "0     7.194958   1667    40    134.0    158.0   9.451389  5.361111  \n",
       "1     7.439433    946    33    104.0    121.0   8.027778  4.916667  \n",
       "2     7.595409   2088    44    154.0    185.0   6.500000  6.083333  \n",
       "3    10.040299    390    28     88.0    106.0   4.666667  3.444444  \n",
       "4     8.021739   2831    46    168.0    199.0   8.312500  6.277778  \n",
       "..         ...    ...   ...      ...      ...        ...       ...  \n",
       "106   8.787810   1644    45    134.0    160.0   9.000000  6.055556  \n",
       "107   7.403610   1792    46    142.0    170.0  10.472222  5.972222  \n",
       "108   8.847955   1278    36    122.0    144.0   8.250000  4.972222  \n",
       "109   6.612824   1150    30    114.0    131.0   6.256944  4.847222  \n",
       "110   7.708306   4307    53    186.0    217.0   9.472222  7.666667  \n",
       "\n",
       "[111 rows x 1613 columns]"
      ]
     },
     "execution_count": 31,
     "metadata": {},
     "output_type": "execute_result"
    }
   ],
   "source": [
    "train_features"
   ]
  },
  {
   "cell_type": "code",
   "execution_count": 32,
   "metadata": {},
   "outputs": [],
   "source": [
    "import lightning\n",
    "from lightning.pytorch.callbacks.early_stopping import EarlyStopping\n",
    "from lightning.pytorch.callbacks.model_checkpoint import ModelCheckpoint\n",
    "import torch\n",
    "import numpy as np"
   ]
  },
  {
   "cell_type": "code",
   "execution_count": 33,
   "metadata": {},
   "outputs": [],
   "source": [
    "from nepare.nn import NeuralPairwiseRegressor as NPR\n",
    "from nepare.data import PairwiseAugmentedDataset, PairwiseAnchoredDataset, PairwiseInferenceDataset\n",
    "from nepare.inference import predict"
   ]
  },
  {
   "cell_type": "code",
   "execution_count": 34,
   "metadata": {},
   "outputs": [],
   "source": [
    "X = torch.tensor(train_features.to_numpy(dtype=np.float32), dtype=torch.float32)\n",
    "y = torch.tensor(train_df[\"LOG_RPPB\"].to_numpy(dtype=np.float32), dtype=torch.float32)[:, None]  # keep it 2d!\n",
    "X_test = torch.tensor(test_features.to_numpy(dtype=np.float32), dtype=torch.float32)"
   ]
  },
  {
   "cell_type": "code",
   "execution_count": 35,
   "metadata": {},
   "outputs": [],
   "source": [
    "val_idx = 20  # use 20/110 for validation"
   ]
  },
  {
   "cell_type": "code",
   "execution_count": 36,
   "metadata": {},
   "outputs": [],
   "source": [
    "from fastprop.data import standard_scale, inverse_standard_scale"
   ]
  },
  {
   "cell_type": "code",
   "execution_count": 37,
   "metadata": {},
   "outputs": [
    {
     "data": {
      "text/plain": [
       "tensor([[-1.4458, -1.5701, -0.2735,  ..., -1.6418, -0.9506, -1.2769],\n",
       "        [ 0.4938,  0.4699, -0.2735,  ...,  0.4593,  0.1676,  0.5969],\n",
       "        [ 0.2475,  0.2941, -0.2735,  ...,  0.3074,  0.4769,  0.0381],\n",
       "        ...,\n",
       "        [ 0.1190,  0.5346, -0.2735,  ...,  0.0796,  1.2110,  0.1696],\n",
       "        [ 1.5723,  1.6106, -0.2735,  ...,  1.7502,  1.6189,  1.5284],\n",
       "        [-1.7866, -1.7675, -0.2735,  ..., -1.4646, -1.7085, -1.9673]])"
      ]
     },
     "execution_count": 37,
     "metadata": {},
     "output_type": "execute_result"
    }
   ],
   "source": [
    "X[val_idx:], means, vars = standard_scale(X[val_idx:])\n",
    "X[:val_idx] = standard_scale(X[:val_idx], means, vars)\n",
    "X_test = standard_scale(X_test, means, vars)\n",
    "# sorta-Winsorization\n",
    "X.clamp_(-3, 3)\n",
    "X_test.clamp_(-3, 3)"
   ]
  },
  {
   "cell_type": "code",
   "execution_count": 38,
   "metadata": {},
   "outputs": [],
   "source": [
    "# do the same for targets\n",
    "# y, target_means, target_vars = standard_scale(y)"
   ]
  },
  {
   "cell_type": "code",
   "execution_count": 39,
   "metadata": {},
   "outputs": [],
   "source": [
    "training_dataset = PairwiseAugmentedDataset(X[val_idx:], y[val_idx:], how='full')\n",
    "validation_dataset = PairwiseAnchoredDataset(X[val_idx:], y[val_idx:], X[:val_idx], y[:val_idx], how='full')\n",
    "predict_dataset = PairwiseInferenceDataset(X[val_idx:], y[val_idx:], X_test, how='full')\n",
    "train_loader = torch.utils.data.DataLoader(training_dataset, batch_size=64, shuffle=True)\n",
    "val_loader = torch.utils.data.DataLoader(validation_dataset, batch_size=64)\n",
    "predict_loader = torch.utils.data.DataLoader(predict_dataset, batch_size=64)"
   ]
  },
  {
   "cell_type": "code",
   "execution_count": 40,
   "metadata": {},
   "outputs": [],
   "source": [
    "npr = NPR(X.shape[1], 100, 2)\n",
    "early_stopping = EarlyStopping(monitor=\"validation/loss\")\n",
    "model_checkpoint = ModelCheckpoint(monitor=\"validation/loss\")"
   ]
  },
  {
   "cell_type": "code",
   "execution_count": 41,
   "metadata": {},
   "outputs": [
    {
     "name": "stderr",
     "output_type": "stream",
     "text": [
      "GPU available: True (cuda), used: True\n",
      "TPU available: False, using: 0 TPU cores\n",
      "HPU available: False, using: 0 HPUs\n",
      "LOCAL_RANK: 0 - CUDA_VISIBLE_DEVICES: [0]\n",
      "\n",
      "  | Name | Type       | Params | Mode \n",
      "--------------------------------------------\n",
      "0 | fnn  | Sequential | 332 K  | train\n",
      "--------------------------------------------\n",
      "332 K     Trainable params\n",
      "0         Non-trainable params\n",
      "332 K     Total params\n",
      "1.332     Total estimated model params size (MB)\n",
      "6         Modules in train mode\n",
      "0         Modules in eval mode\n"
     ]
    },
    {
     "name": "stdout",
     "output_type": "stream",
     "text": [
      "Epoch 0:   2%|▏         | 2/130 [00:00<00:01, 115.78it/s, v_num=20, training/loss=1.170]"
     ]
    },
    {
     "name": "stdout",
     "output_type": "stream",
     "text": [
      "Epoch 8: 100%|██████████| 130/130 [00:01<00:00, 93.68it/s, v_num=20, training/loss=0.00855, validation/loss=0.400] \n"
     ]
    }
   ],
   "source": [
    "trainer = lightning.Trainer(max_epochs=50, log_every_n_steps=1, callbacks=[early_stopping, model_checkpoint])\n",
    "trainer.fit(npr, train_loader, val_loader)"
   ]
  },
  {
   "cell_type": "code",
   "execution_count": 42,
   "metadata": {},
   "outputs": [],
   "source": [
    "npr = NPR.load_from_checkpoint(model_checkpoint.best_model_path)  # reload best model based on early stopping"
   ]
  },
  {
   "cell_type": "code",
   "execution_count": 43,
   "metadata": {},
   "outputs": [
    {
     "name": "stderr",
     "output_type": "stream",
     "text": [
      "GPU available: True (cuda), used: True\n",
      "TPU available: False, using: 0 TPU cores\n",
      "HPU available: False, using: 0 HPUs\n",
      "LOCAL_RANK: 0 - CUDA_VISIBLE_DEVICES: [0]\n"
     ]
    },
    {
     "name": "stdout",
     "output_type": "stream",
     "text": [
      "Predicting:   0%|          | 0/69 [00:00<?, ?it/s]"
     ]
    },
    {
     "name": "stdout",
     "output_type": "stream",
     "text": [
      "Predicting DataLoader 0: 100%|██████████| 69/69 [00:00<00:00, 318.95it/s]\n"
     ]
    }
   ],
   "source": [
    "y_pred, y_stdev = predict(npr, predict_loader, how=\"all\")"
   ]
  },
  {
   "cell_type": "code",
   "execution_count": 44,
   "metadata": {},
   "outputs": [],
   "source": [
    "# y_pred = inverse_standard_scale(torch.tensor(y_pred), target_means, target_vars)"
   ]
  },
  {
   "cell_type": "code",
   "execution_count": 45,
   "metadata": {},
   "outputs": [],
   "source": [
    "# Evaluate your predictions\n",
    "results = benchmark.evaluate(y_pred)\n",
    "\n",
    "# # Submit your results\n",
    "# results.upload_to_hub(owner=\"jacksonburns\")"
   ]
  },
  {
   "cell_type": "code",
   "execution_count": 46,
   "metadata": {},
   "outputs": [
    {
     "data": {
      "text/html": [
       "<table border=\"1\"><tr><th>name</th><td>None</td></tr><tr><th>description</th><td></td></tr><tr><th>tags</th><td></td></tr><tr><th>user_attributes</th><td></td></tr><tr><th>owner</th><td>None</td></tr><tr><th>polaris_version</th><td>0.11.8</td></tr><tr><th>github_url</th><td>None</td></tr><tr><th>paper_url</th><td>None</td></tr><tr><th>contributors</th><td></td></tr><tr><th>results</th><td><table border=\"1\"><thead><tr><th>test_set</th><th>target_label</th><th>scores</th></tr></thead><tbody><tr><td>test</td><td>LOG_RPPB</td><td><table border=\"1\"><tr><th>r2</th><td>0.7200728351016012</td></tr><tr><th>mean_squared_error</th><td>0.24871024317350518</td></tr><tr><th>explained_var</th><td>0.7210664599413337</td></tr><tr><th>spearmanr</th><td>0.8347826086956521</td></tr><tr><th>mean_absolute_error</th><td>0.38838022769908864</td></tr><tr><th>pearsonr</th><td>0.8551127426735149</td></tr></table></td></tr></tbody></table></td></tr><tr><th>benchmark_artifact_id</th><td>polaris/adme-fang-rppb-1</td></tr><tr><th>benchmark_name</th><td>None</td></tr><tr><th>benchmark_owner</th><td>None</td></tr><tr><th>slug</th><td>None</td></tr><tr><th>artifact_id</th><td>None</td></tr><tr><th>urn</th><td>None</td></tr><tr><th>version</th><td>1</td></tr></table>"
      ],
      "text/plain": [
       "{\n",
       "  \"name\": null,\n",
       "  \"description\": \"\",\n",
       "  \"tags\": [],\n",
       "  \"user_attributes\": {},\n",
       "  \"owner\": null,\n",
       "  \"polaris_version\": \"0.11.8\",\n",
       "  \"github_url\": null,\n",
       "  \"paper_url\": null,\n",
       "  \"contributors\": [],\n",
       "  \"results\": [\n",
       "    {\n",
       "      \"test_set\": \"test\",\n",
       "      \"target_label\": \"LOG_RPPB\",\n",
       "      \"scores\": {\n",
       "        \"r2\": 0.7200728351016012,\n",
       "        \"mean_squared_error\": 0.24871024317350518,\n",
       "        \"explained_var\": 0.7210664599413337,\n",
       "        \"spearmanr\": 0.8347826086956521,\n",
       "        \"mean_absolute_error\": 0.38838022769908864,\n",
       "        \"pearsonr\": 0.8551127426735149\n",
       "      }\n",
       "    }\n",
       "  ],\n",
       "  \"benchmark_artifact_id\": \"polaris/adme-fang-rppb-1\",\n",
       "  \"benchmark_name\": null,\n",
       "  \"benchmark_owner\": null,\n",
       "  \"slug\": null,\n",
       "  \"artifact_id\": null,\n",
       "  \"urn\": null,\n",
       "  \"version\": 1\n",
       "}"
      ]
     },
     "execution_count": 46,
     "metadata": {},
     "output_type": "execute_result"
    }
   ],
   "source": [
    "results"
   ]
  },
  {
   "cell_type": "code",
   "execution_count": 47,
   "metadata": {},
   "outputs": [
    {
     "data": {
      "text/html": [
       "<pre style=\"white-space:pre;overflow-x:auto;line-height:normal;font-family:Menlo,'DejaVu Sans Mono',consolas,'Courier New',monospace\">/home/jackson/neural-pairwise-regression/.venv/lib/python3.12/site-packages/rich/live.py:231: UserWarning: install \n",
       "\"ipywidgets\" for Jupyter support\n",
       "  warnings.warn('install \"ipywidgets\" for Jupyter support')\n",
       "</pre>\n"
      ],
      "text/plain": [
       "/home/jackson/neural-pairwise-regression/.venv/lib/python3.12/site-packages/rich/live.py:231: UserWarning: install \n",
       "\"ipywidgets\" for Jupyter support\n",
       "  warnings.warn('install \"ipywidgets\" for Jupyter support')\n"
      ]
     },
     "metadata": {},
     "output_type": "display_data"
    },
    {
     "data": {
      "text/html": [
       "<pre style=\"white-space:pre;overflow-x:auto;line-height:normal;font-family:Menlo,'DejaVu Sans Mono',consolas,'Courier New',monospace\">/home/jackson/neural-pairwise-regression/.venv/lib/python3.12/site-packages/rich/live.py:231: UserWarning: install \n",
       "\"ipywidgets\" for Jupyter support\n",
       "  warnings.warn('install \"ipywidgets\" for Jupyter support')\n",
       "</pre>\n"
      ],
      "text/plain": [
       "/home/jackson/neural-pairwise-regression/.venv/lib/python3.12/site-packages/rich/live.py:231: UserWarning: install \n",
       "\"ipywidgets\" for Jupyter support\n",
       "  warnings.warn('install \"ipywidgets\" for Jupyter support')\n"
      ]
     },
     "metadata": {},
     "output_type": "display_data"
    },
    {
     "data": {
      "text/html": [
       "<pre style=\"white-space:pre;overflow-x:auto;line-height:normal;font-family:Menlo,'DejaVu Sans Mono',consolas,'Courier New',monospace\"><span style=\"color: #7fbfbf; text-decoration-color: #7fbfbf\">[18:50:25] </span><span style=\"color: #800000; text-decoration-color: #800000\"> Error: Uploading results</span>                                                                  <a href=\"file:///home/jackson/neural-pairwise-regression/.venv/lib/python3.12/site-packages/polaris/utils/context.py\" target=\"_blank\"><span style=\"color: #7f7f7f; text-decoration-color: #7f7f7f\">context.py</span></a><span style=\"color: #7f7f7f; text-decoration-color: #7f7f7f\">:</span><a href=\"file:///home/jackson/neural-pairwise-regression/.venv/lib/python3.12/site-packages/polaris/utils/context.py#55\" target=\"_blank\"><span style=\"color: #7f7f7f; text-decoration-color: #7f7f7f\">55</span></a>\n",
       "</pre>\n"
      ],
      "text/plain": [
       "\u001b[2;36m[18:50:25]\u001b[0m\u001b[2;36m \u001b[0m\u001b[31m Error: Uploading results\u001b[0m                                                                  \u001b]8;id=686989;file:///home/jackson/neural-pairwise-regression/.venv/lib/python3.12/site-packages/polaris/utils/context.py\u001b\\\u001b[2mcontext.py\u001b[0m\u001b]8;;\u001b\\\u001b[2m:\u001b[0m\u001b]8;id=996620;file:///home/jackson/neural-pairwise-regression/.venv/lib/python3.12/site-packages/polaris/utils/context.py#55\u001b\\\u001b[2m55\u001b[0m\u001b]8;;\u001b\\\n"
      ]
     },
     "metadata": {},
     "output_type": "display_data"
    },
    {
     "data": {
      "text/html": [
       "<pre style=\"white-space:pre;overflow-x:auto;line-height:normal;font-family:Menlo,'DejaVu Sans Mono',consolas,'Courier New',monospace\"></pre>\n"
      ],
      "text/plain": []
     },
     "metadata": {},
     "output_type": "display_data"
    },
    {
     "ename": "PolarisHubError",
     "evalue": "\u001b[1mThe request to the Polaris Hub has failed.\u001b[0m\n----------------------\nError reported was:\n{\n  \"issues\": [\n    {\n      \"code\": \"invalid_type\",\n      \"expected\": \"string\",\n      \"message\": \"Required\",\n      \"path\": [\n        \"name\"\n      ],\n      \"received\": \"undefined\"\n    }\n  ]\n}",
     "output_type": "error",
     "traceback": [
      "\u001b[0;31m---------------------------------------------------------------------------\u001b[0m",
      "\u001b[0;31mHTTPStatusError\u001b[0m                           Traceback (most recent call last)",
      "File \u001b[0;32m~/neural-pairwise-regression/.venv/lib/python3.12/site-packages/polaris/hub/client.py:195\u001b[0m, in \u001b[0;36mPolarisHubClient._base_request_to_hub\u001b[0;34m(self, url, method, **kwargs)\u001b[0m\n\u001b[1;32m    194\u001b[0m response \u001b[38;5;241m=\u001b[39m \u001b[38;5;28mself\u001b[39m\u001b[38;5;241m.\u001b[39mrequest(url\u001b[38;5;241m=\u001b[39murl, method\u001b[38;5;241m=\u001b[39mmethod, \u001b[38;5;241m*\u001b[39m\u001b[38;5;241m*\u001b[39mkwargs)\n\u001b[0;32m--> 195\u001b[0m \u001b[43mresponse\u001b[49m\u001b[38;5;241;43m.\u001b[39;49m\u001b[43mraise_for_status\u001b[49m\u001b[43m(\u001b[49m\u001b[43m)\u001b[49m\n\u001b[1;32m    196\u001b[0m \u001b[38;5;28;01mreturn\u001b[39;00m response\n",
      "File \u001b[0;32m~/neural-pairwise-regression/.venv/lib/python3.12/site-packages/httpx/_models.py:829\u001b[0m, in \u001b[0;36mResponse.raise_for_status\u001b[0;34m(self)\u001b[0m\n\u001b[1;32m    828\u001b[0m message \u001b[38;5;241m=\u001b[39m message\u001b[38;5;241m.\u001b[39mformat(\u001b[38;5;28mself\u001b[39m, error_type\u001b[38;5;241m=\u001b[39merror_type)\n\u001b[0;32m--> 829\u001b[0m \u001b[38;5;28;01mraise\u001b[39;00m HTTPStatusError(message, request\u001b[38;5;241m=\u001b[39mrequest, response\u001b[38;5;241m=\u001b[39m\u001b[38;5;28mself\u001b[39m)\n",
      "\u001b[0;31mHTTPStatusError\u001b[0m: Client error '422 Unprocessable Entity' for url 'https://polarishub.io/api/v2/result'\nFor more information check: https://developer.mozilla.org/en-US/docs/Web/HTTP/Status/422",
      "\nThe above exception was the direct cause of the following exception:\n",
      "\u001b[0;31mPolarisHubError\u001b[0m                           Traceback (most recent call last)",
      "Cell \u001b[0;32mIn[47], line 1\u001b[0m\n\u001b[0;32m----> 1\u001b[0m \u001b[43mresults\u001b[49m\u001b[38;5;241;43m.\u001b[39;49m\u001b[43mupload_to_hub\u001b[49m\u001b[43m(\u001b[49m\u001b[43mowner\u001b[49m\u001b[38;5;241;43m=\u001b[39;49m\u001b[38;5;124;43m\"\u001b[39;49m\u001b[38;5;124;43mjacksonburns\u001b[39;49m\u001b[38;5;124;43m\"\u001b[39;49m\u001b[43m)\u001b[49m\n",
      "File \u001b[0;32m~/neural-pairwise-regression/.venv/lib/python3.12/site-packages/polaris/evaluate/_results.py:175\u001b[0m, in \u001b[0;36mBenchmarkResults.upload_to_hub\u001b[0;34m(self, access, owner, **kwargs)\u001b[0m\n\u001b[1;32m    172\u001b[0m \u001b[38;5;28;01mfrom\u001b[39;00m\u001b[38;5;250m \u001b[39m\u001b[38;5;21;01mpolaris\u001b[39;00m\u001b[38;5;21;01m.\u001b[39;00m\u001b[38;5;21;01mhub\u001b[39;00m\u001b[38;5;21;01m.\u001b[39;00m\u001b[38;5;21;01mclient\u001b[39;00m\u001b[38;5;250m \u001b[39m\u001b[38;5;28;01mimport\u001b[39;00m PolarisHubClient\n\u001b[1;32m    174\u001b[0m \u001b[38;5;28;01mwith\u001b[39;00m PolarisHubClient(\u001b[38;5;241m*\u001b[39m\u001b[38;5;241m*\u001b[39mkwargs) \u001b[38;5;28;01mas\u001b[39;00m client:\n\u001b[0;32m--> 175\u001b[0m     \u001b[38;5;28;01mreturn\u001b[39;00m \u001b[43mclient\u001b[49m\u001b[38;5;241;43m.\u001b[39;49m\u001b[43mupload_results\u001b[49m\u001b[43m(\u001b[49m\u001b[38;5;28;43mself\u001b[39;49m\u001b[43m,\u001b[49m\u001b[43m \u001b[49m\u001b[43maccess\u001b[49m\u001b[38;5;241;43m=\u001b[39;49m\u001b[43maccess\u001b[49m\u001b[43m,\u001b[49m\u001b[43m \u001b[49m\u001b[43mowner\u001b[49m\u001b[38;5;241;43m=\u001b[39;49m\u001b[43mowner\u001b[49m\u001b[43m)\u001b[49m\n",
      "File \u001b[0;32m~/neural-pairwise-regression/.venv/lib/python3.12/site-packages/polaris/hub/client.py:525\u001b[0m, in \u001b[0;36mPolarisHubClient.upload_results\u001b[0;34m(self, results, access, owner)\u001b[0m\n\u001b[1;32m    522\u001b[0m result_json \u001b[38;5;241m=\u001b[39m results\u001b[38;5;241m.\u001b[39mmodel_dump(by_alias\u001b[38;5;241m=\u001b[39m\u001b[38;5;28;01mTrue\u001b[39;00m, exclude_none\u001b[38;5;241m=\u001b[39m\u001b[38;5;28;01mTrue\u001b[39;00m)\n\u001b[1;32m    524\u001b[0m \u001b[38;5;66;03m# Make a request to the hub\u001b[39;00m\n\u001b[0;32m--> 525\u001b[0m response \u001b[38;5;241m=\u001b[39m \u001b[38;5;28;43mself\u001b[39;49m\u001b[38;5;241;43m.\u001b[39;49m\u001b[43m_base_request_to_hub\u001b[49m\u001b[43m(\u001b[49m\n\u001b[1;32m    526\u001b[0m \u001b[43m    \u001b[49m\u001b[43murl\u001b[49m\u001b[38;5;241;43m=\u001b[39;49m\u001b[38;5;124;43m\"\u001b[39;49m\u001b[38;5;124;43m/v2/result\u001b[39;49m\u001b[38;5;124;43m\"\u001b[39;49m\u001b[43m,\u001b[49m\u001b[43m \u001b[49m\u001b[43mmethod\u001b[49m\u001b[38;5;241;43m=\u001b[39;49m\u001b[38;5;124;43m\"\u001b[39;49m\u001b[38;5;124;43mPOST\u001b[39;49m\u001b[38;5;124;43m\"\u001b[39;49m\u001b[43m,\u001b[49m\u001b[43m \u001b[49m\u001b[43mjson\u001b[49m\u001b[38;5;241;43m=\u001b[39;49m\u001b[43m{\u001b[49m\u001b[38;5;124;43m\"\u001b[39;49m\u001b[38;5;124;43maccess\u001b[39;49m\u001b[38;5;124;43m\"\u001b[39;49m\u001b[43m:\u001b[49m\u001b[43m \u001b[49m\u001b[43maccess\u001b[49m\u001b[43m,\u001b[49m\u001b[43m \u001b[49m\u001b[38;5;241;43m*\u001b[39;49m\u001b[38;5;241;43m*\u001b[39;49m\u001b[43mresult_json\u001b[49m\u001b[43m}\u001b[49m\n\u001b[1;32m    527\u001b[0m \u001b[43m\u001b[49m\u001b[43m)\u001b[49m\n\u001b[1;32m    529\u001b[0m \u001b[38;5;66;03m# Inform the user about where to find their newly created artifact.\u001b[39;00m\n\u001b[1;32m    530\u001b[0m result_url \u001b[38;5;241m=\u001b[39m urljoin(\u001b[38;5;28mself\u001b[39m\u001b[38;5;241m.\u001b[39msettings\u001b[38;5;241m.\u001b[39mhub_url, response\u001b[38;5;241m.\u001b[39mheaders\u001b[38;5;241m.\u001b[39mget(\u001b[38;5;124m\"\u001b[39m\u001b[38;5;124mContent-Location\u001b[39m\u001b[38;5;124m\"\u001b[39m))\n",
      "File \u001b[0;32m~/neural-pairwise-regression/.venv/lib/python3.12/site-packages/polaris/hub/client.py:217\u001b[0m, in \u001b[0;36mPolarisHubClient._base_request_to_hub\u001b[0;34m(self, url, method, **kwargs)\u001b[0m\n\u001b[1;32m    215\u001b[0m     \u001b[38;5;28;01mraise\u001b[39;00m PolarisRetrieveArtifactError(response_text\u001b[38;5;241m=\u001b[39mresponse_text) \u001b[38;5;28;01mfrom\u001b[39;00m\u001b[38;5;250m \u001b[39m\u001b[38;5;21;01merror\u001b[39;00m\n\u001b[1;32m    216\u001b[0m \u001b[38;5;28;01mcase\u001b[39;00m\u001b[38;5;250m \u001b[39m\u001b[38;5;28;01m_\u001b[39;00m:\n\u001b[0;32m--> 217\u001b[0m     \u001b[38;5;28;01mraise\u001b[39;00m PolarisHubError(response_text\u001b[38;5;241m=\u001b[39mresponse_text) \u001b[38;5;28;01mfrom\u001b[39;00m\u001b[38;5;250m \u001b[39m\u001b[38;5;21;01merror\u001b[39;00m\n",
      "\u001b[0;31mPolarisHubError\u001b[0m: \u001b[1mThe request to the Polaris Hub has failed.\u001b[0m\n----------------------\nError reported was:\n{\n  \"issues\": [\n    {\n      \"code\": \"invalid_type\",\n      \"expected\": \"string\",\n      \"message\": \"Required\",\n      \"path\": [\n        \"name\"\n      ],\n      \"received\": \"undefined\"\n    }\n  ]\n}"
     ]
    }
   ],
   "source": [
    "results.upload_to_hub(owner=\"jacksonburns\")"
   ]
  }
 ],
 "metadata": {
  "kernelspec": {
   "display_name": ".venv",
   "language": "python",
   "name": "python3"
  },
  "language_info": {
   "codemirror_mode": {
    "name": "ipython",
    "version": 3
   },
   "file_extension": ".py",
   "mimetype": "text/x-python",
   "name": "python",
   "nbconvert_exporter": "python",
   "pygments_lexer": "ipython3",
   "version": "3.12.3"
  }
 },
 "nbformat": 4,
 "nbformat_minor": 2
}
