{
 "cells": [
  {
   "cell_type": "markdown",
   "metadata": {},
   "source": [
    "# `polaris adme`\n",
    "\n",
    "This notebook demonstrates using the Mordred(-community) molecular descriptors with Neural Pairwise Regression (via `nepare`) with the `polaris` benchmarking library.\n",
    "\n",
    "## Requirements\n",
    "Python 3.10+ (originally run on 3.12)\n",
    " - polaris-lib\n",
    " - pandas\n",
    " - fastprop\n",
    " - mordredcommunity\n",
    " - rdkit\n",
    " - lightning\n",
    " - torch\n",
    " - numpy\n",
    " - ipywidgets\n",
    "\n",
    "You will also need to run `pip install .` in the repository's root directory to install `nepare`."
   ]
  },
  {
   "cell_type": "markdown",
   "metadata": {},
   "source": [
    "## `polaris` Setup\n",
    "\n",
    "After running `polaris login` on the command line, we can import everything (checking that the version is recent enough) and then download the benchmark data."
   ]
  },
  {
   "cell_type": "code",
   "execution_count": 1,
   "metadata": {},
   "outputs": [],
   "source": [
    "import polaris as po\n",
    "import pandas as pd"
   ]
  },
  {
   "cell_type": "code",
   "execution_count": 2,
   "metadata": {},
   "outputs": [],
   "source": [
    "from packaging.version import Version\n",
    "assert Version(po.__version__) >= Version(\"0.11.6\"), \"test.as_dataframe does not work in earlier versions of Polaris, please upgrade\""
   ]
  },
  {
   "cell_type": "markdown",
   "metadata": {},
   "source": [
    "`polaris` makes it really easy to run different benchmarks quickly - just change the name inside `load_benchmark` to try something else.\n",
    "I'm using this same notebook for a few different benchmarks, all from the Fang biogen ADME paper (https://pubs.acs.org/doi/abs/10.1021/acs.jcim.3c00160) which have been made conveniently available on `polaris`."
   ]
  },
  {
   "cell_type": "code",
   "execution_count": 3,
   "metadata": {},
   "outputs": [],
   "source": [
    "%%capture\n",
    "# https://polarishub.io/benchmarks/polaris/adme-fang-rppb-1\n",
    "benchmark = po.load_benchmark(\"polaris/adme-fang-RPPB-1\")\n",
    "# https://polarishub.io/benchmarks/polaris/adme-fang-solu-1\n",
    "# benchmark = po.load_benchmark(\"polaris/adme-fang-SOLU-1\")"
   ]
  },
  {
   "cell_type": "code",
   "execution_count": 4,
   "metadata": {},
   "outputs": [],
   "source": [
    "train, test = benchmark.get_train_test_split()\n",
    "test_df: pd.DataFrame = test.as_dataframe()\n",
    "train_df: pd.DataFrame = train.as_dataframe()"
   ]
  },
  {
   "cell_type": "markdown",
   "metadata": {},
   "source": [
    "We'll shuffle the data just for good measure."
   ]
  },
  {
   "cell_type": "code",
   "execution_count": 5,
   "metadata": {},
   "outputs": [],
   "source": [
    "train_df = train_df.sample(frac=1.0, random_state=1701)  # shuffle the training data"
   ]
  },
  {
   "cell_type": "markdown",
   "metadata": {},
   "source": [
    "## Featurize the Molecules with `mordred(community)`\n",
    "We use `mordred` to calculate a vector of molecular descriptors for each species in this dataset, and then do some re-scaling and imputing to prepare the data for use."
   ]
  },
  {
   "cell_type": "code",
   "execution_count": 6,
   "metadata": {},
   "outputs": [],
   "source": [
    "from mordred import Calculator, descriptors\n",
    "from rdkit.Chem import MolFromSmiles"
   ]
  },
  {
   "cell_type": "code",
   "execution_count": 7,
   "metadata": {},
   "outputs": [],
   "source": [
    "calc = Calculator(descriptors, ignore_3D=True)"
   ]
  },
  {
   "cell_type": "code",
   "execution_count": 8,
   "metadata": {},
   "outputs": [
    {
     "name": "stderr",
     "output_type": "stream",
     "text": [
      "100%|██████████| 111/111 [00:02<00:00, 52.37it/s]\n",
      "/home/jackson/neural-pairwise-regression/.venv/lib/python3.12/site-packages/mordred/_base/pandas_module.py:17: FutureWarning: DataFrame.applymap has been deprecated. Use DataFrame.map instead.\n",
      "  t[t.applymap(is_missing)] = value\n",
      "100%|██████████| 24/24 [00:00<00:00, 39.24it/s]\n",
      "/home/jackson/neural-pairwise-regression/.venv/lib/python3.12/site-packages/mordred/_base/pandas_module.py:17: FutureWarning: DataFrame.applymap has been deprecated. Use DataFrame.map instead.\n",
      "  t[t.applymap(is_missing)] = value\n"
     ]
    }
   ],
   "source": [
    "train_features = calc.pandas(map(MolFromSmiles, train_df[\"smiles\"]), nmols=len(train_df)).fill_missing()\n",
    "test_features = calc.pandas(map(MolFromSmiles, test_df[\"smiles\"]), nmols=len(test_df)).fill_missing()"
   ]
  },
  {
   "cell_type": "code",
   "execution_count": 9,
   "metadata": {},
   "outputs": [
    {
     "data": {
      "text/html": [
       "<div>\n",
       "<style scoped>\n",
       "    .dataframe tbody tr th:only-of-type {\n",
       "        vertical-align: middle;\n",
       "    }\n",
       "\n",
       "    .dataframe tbody tr th {\n",
       "        vertical-align: top;\n",
       "    }\n",
       "\n",
       "    .dataframe thead th {\n",
       "        text-align: right;\n",
       "    }\n",
       "</style>\n",
       "<table border=\"1\" class=\"dataframe\">\n",
       "  <thead>\n",
       "    <tr style=\"text-align: right;\">\n",
       "      <th></th>\n",
       "      <th>ABC</th>\n",
       "      <th>ABCGG</th>\n",
       "      <th>nAcid</th>\n",
       "      <th>nBase</th>\n",
       "      <th>SpAbs_A</th>\n",
       "      <th>SpMax_A</th>\n",
       "      <th>SpDiam_A</th>\n",
       "      <th>SpAD_A</th>\n",
       "      <th>SpMAD_A</th>\n",
       "      <th>LogEE_A</th>\n",
       "      <th>...</th>\n",
       "      <th>SRW10</th>\n",
       "      <th>TSRW10</th>\n",
       "      <th>MW</th>\n",
       "      <th>AMW</th>\n",
       "      <th>WPath</th>\n",
       "      <th>WPol</th>\n",
       "      <th>Zagreb1</th>\n",
       "      <th>Zagreb2</th>\n",
       "      <th>mZagreb1</th>\n",
       "      <th>mZagreb2</th>\n",
       "    </tr>\n",
       "  </thead>\n",
       "  <tbody>\n",
       "    <tr>\n",
       "      <th>0</th>\n",
       "      <td>16.958632</td>\n",
       "      <td>13.546673</td>\n",
       "      <td>0</td>\n",
       "      <td>0</td>\n",
       "      <td>28.642859</td>\n",
       "      <td>2.441470</td>\n",
       "      <td>4.882941</td>\n",
       "      <td>28.642859</td>\n",
       "      <td>1.301948</td>\n",
       "      <td>4.021066</td>\n",
       "      <td>...</td>\n",
       "      <td>10.014984</td>\n",
       "      <td>56.167647</td>\n",
       "      <td>297.111341</td>\n",
       "      <td>8.030036</td>\n",
       "      <td>1054</td>\n",
       "      <td>35</td>\n",
       "      <td>114.0</td>\n",
       "      <td>134.0</td>\n",
       "      <td>6.777778</td>\n",
       "      <td>5.000000</td>\n",
       "    </tr>\n",
       "    <tr>\n",
       "      <th>1</th>\n",
       "      <td>24.196109</td>\n",
       "      <td>17.719041</td>\n",
       "      <td>0</td>\n",
       "      <td>0</td>\n",
       "      <td>39.042073</td>\n",
       "      <td>2.479021</td>\n",
       "      <td>4.953308</td>\n",
       "      <td>39.042073</td>\n",
       "      <td>1.301402</td>\n",
       "      <td>4.381167</td>\n",
       "      <td>...</td>\n",
       "      <td>10.558388</td>\n",
       "      <td>84.851780</td>\n",
       "      <td>405.160103</td>\n",
       "      <td>8.103202</td>\n",
       "      <td>2706</td>\n",
       "      <td>49</td>\n",
       "      <td>168.0</td>\n",
       "      <td>203.0</td>\n",
       "      <td>8.833333</td>\n",
       "      <td>6.361111</td>\n",
       "    </tr>\n",
       "    <tr>\n",
       "      <th>2</th>\n",
       "      <td>24.110580</td>\n",
       "      <td>17.106061</td>\n",
       "      <td>0</td>\n",
       "      <td>0</td>\n",
       "      <td>40.912296</td>\n",
       "      <td>2.363271</td>\n",
       "      <td>4.726543</td>\n",
       "      <td>40.912296</td>\n",
       "      <td>1.319751</td>\n",
       "      <td>4.353586</td>\n",
       "      <td>...</td>\n",
       "      <td>10.087433</td>\n",
       "      <td>66.284276</td>\n",
       "      <td>418.211724</td>\n",
       "      <td>7.337048</td>\n",
       "      <td>3104</td>\n",
       "      <td>42</td>\n",
       "      <td>156.0</td>\n",
       "      <td>176.0</td>\n",
       "      <td>7.527778</td>\n",
       "      <td>6.944444</td>\n",
       "    </tr>\n",
       "    <tr>\n",
       "      <th>3</th>\n",
       "      <td>22.494166</td>\n",
       "      <td>17.802912</td>\n",
       "      <td>0</td>\n",
       "      <td>1</td>\n",
       "      <td>37.841697</td>\n",
       "      <td>2.469719</td>\n",
       "      <td>4.850692</td>\n",
       "      <td>37.841697</td>\n",
       "      <td>1.351489</td>\n",
       "      <td>4.291692</td>\n",
       "      <td>...</td>\n",
       "      <td>10.311117</td>\n",
       "      <td>79.272896</td>\n",
       "      <td>372.175025</td>\n",
       "      <td>7.595409</td>\n",
       "      <td>2088</td>\n",
       "      <td>44</td>\n",
       "      <td>154.0</td>\n",
       "      <td>185.0</td>\n",
       "      <td>6.500000</td>\n",
       "      <td>6.083333</td>\n",
       "    </tr>\n",
       "    <tr>\n",
       "      <th>4</th>\n",
       "      <td>12.495823</td>\n",
       "      <td>11.308105</td>\n",
       "      <td>0</td>\n",
       "      <td>0</td>\n",
       "      <td>20.141728</td>\n",
       "      <td>2.358666</td>\n",
       "      <td>4.717332</td>\n",
       "      <td>20.141728</td>\n",
       "      <td>1.184808</td>\n",
       "      <td>3.715821</td>\n",
       "      <td>...</td>\n",
       "      <td>9.507106</td>\n",
       "      <td>49.119415</td>\n",
       "      <td>276.033541</td>\n",
       "      <td>9.201118</td>\n",
       "      <td>566</td>\n",
       "      <td>22</td>\n",
       "      <td>80.0</td>\n",
       "      <td>88.0</td>\n",
       "      <td>7.395833</td>\n",
       "      <td>3.875000</td>\n",
       "    </tr>\n",
       "    <tr>\n",
       "      <th>...</th>\n",
       "      <td>...</td>\n",
       "      <td>...</td>\n",
       "      <td>...</td>\n",
       "      <td>...</td>\n",
       "      <td>...</td>\n",
       "      <td>...</td>\n",
       "      <td>...</td>\n",
       "      <td>...</td>\n",
       "      <td>...</td>\n",
       "      <td>...</td>\n",
       "      <td>...</td>\n",
       "      <td>...</td>\n",
       "      <td>...</td>\n",
       "      <td>...</td>\n",
       "      <td>...</td>\n",
       "      <td>...</td>\n",
       "      <td>...</td>\n",
       "      <td>...</td>\n",
       "      <td>...</td>\n",
       "      <td>...</td>\n",
       "      <td>...</td>\n",
       "    </tr>\n",
       "    <tr>\n",
       "      <th>106</th>\n",
       "      <td>20.838915</td>\n",
       "      <td>17.520490</td>\n",
       "      <td>0</td>\n",
       "      <td>0</td>\n",
       "      <td>33.703458</td>\n",
       "      <td>2.553484</td>\n",
       "      <td>5.026050</td>\n",
       "      <td>33.703458</td>\n",
       "      <td>1.248276</td>\n",
       "      <td>4.221641</td>\n",
       "      <td>...</td>\n",
       "      <td>10.312911</td>\n",
       "      <td>76.668244</td>\n",
       "      <td>370.180504</td>\n",
       "      <td>7.403610</td>\n",
       "      <td>1792</td>\n",
       "      <td>46</td>\n",
       "      <td>142.0</td>\n",
       "      <td>170.0</td>\n",
       "      <td>10.472222</td>\n",
       "      <td>5.972222</td>\n",
       "    </tr>\n",
       "    <tr>\n",
       "      <th>107</th>\n",
       "      <td>16.401355</td>\n",
       "      <td>13.178323</td>\n",
       "      <td>0</td>\n",
       "      <td>0</td>\n",
       "      <td>27.516148</td>\n",
       "      <td>2.357497</td>\n",
       "      <td>4.672669</td>\n",
       "      <td>27.516148</td>\n",
       "      <td>1.310293</td>\n",
       "      <td>4.000209</td>\n",
       "      <td>...</td>\n",
       "      <td>9.789030</td>\n",
       "      <td>72.959236</td>\n",
       "      <td>282.111676</td>\n",
       "      <td>8.060334</td>\n",
       "      <td>1031</td>\n",
       "      <td>28</td>\n",
       "      <td>108.0</td>\n",
       "      <td>124.0</td>\n",
       "      <td>5.916667</td>\n",
       "      <td>4.638889</td>\n",
       "    </tr>\n",
       "    <tr>\n",
       "      <th>108</th>\n",
       "      <td>21.526450</td>\n",
       "      <td>17.525930</td>\n",
       "      <td>0</td>\n",
       "      <td>0</td>\n",
       "      <td>35.070347</td>\n",
       "      <td>2.479304</td>\n",
       "      <td>4.867733</td>\n",
       "      <td>35.070347</td>\n",
       "      <td>1.298902</td>\n",
       "      <td>4.244547</td>\n",
       "      <td>...</td>\n",
       "      <td>10.300618</td>\n",
       "      <td>78.156175</td>\n",
       "      <td>397.076409</td>\n",
       "      <td>9.234335</td>\n",
       "      <td>1936</td>\n",
       "      <td>42</td>\n",
       "      <td>148.0</td>\n",
       "      <td>176.0</td>\n",
       "      <td>8.451389</td>\n",
       "      <td>5.736111</td>\n",
       "    </tr>\n",
       "    <tr>\n",
       "      <th>109</th>\n",
       "      <td>23.201273</td>\n",
       "      <td>16.661749</td>\n",
       "      <td>0</td>\n",
       "      <td>1</td>\n",
       "      <td>39.311739</td>\n",
       "      <td>2.533536</td>\n",
       "      <td>4.911786</td>\n",
       "      <td>39.311739</td>\n",
       "      <td>1.355577</td>\n",
       "      <td>4.321365</td>\n",
       "      <td>...</td>\n",
       "      <td>10.347757</td>\n",
       "      <td>79.133264</td>\n",
       "      <td>386.185509</td>\n",
       "      <td>7.572265</td>\n",
       "      <td>2342</td>\n",
       "      <td>47</td>\n",
       "      <td>158.0</td>\n",
       "      <td>189.0</td>\n",
       "      <td>6.750000</td>\n",
       "      <td>6.333333</td>\n",
       "    </tr>\n",
       "    <tr>\n",
       "      <th>110</th>\n",
       "      <td>26.834266</td>\n",
       "      <td>19.726754</td>\n",
       "      <td>0</td>\n",
       "      <td>0</td>\n",
       "      <td>45.114726</td>\n",
       "      <td>2.574018</td>\n",
       "      <td>4.959205</td>\n",
       "      <td>45.114726</td>\n",
       "      <td>1.326904</td>\n",
       "      <td>4.470193</td>\n",
       "      <td>...</td>\n",
       "      <td>10.550774</td>\n",
       "      <td>85.256295</td>\n",
       "      <td>456.190989</td>\n",
       "      <td>7.865362</td>\n",
       "      <td>3528</td>\n",
       "      <td>59</td>\n",
       "      <td>184.0</td>\n",
       "      <td>222.0</td>\n",
       "      <td>9.833333</td>\n",
       "      <td>7.500000</td>\n",
       "    </tr>\n",
       "  </tbody>\n",
       "</table>\n",
       "<p>111 rows × 1613 columns</p>\n",
       "</div>"
      ],
      "text/plain": [
       "           ABC      ABCGG  nAcid  nBase    SpAbs_A   SpMax_A  SpDiam_A  \\\n",
       "0    16.958632  13.546673      0      0  28.642859  2.441470  4.882941   \n",
       "1    24.196109  17.719041      0      0  39.042073  2.479021  4.953308   \n",
       "2    24.110580  17.106061      0      0  40.912296  2.363271  4.726543   \n",
       "3    22.494166  17.802912      0      1  37.841697  2.469719  4.850692   \n",
       "4    12.495823  11.308105      0      0  20.141728  2.358666  4.717332   \n",
       "..         ...        ...    ...    ...        ...       ...       ...   \n",
       "106  20.838915  17.520490      0      0  33.703458  2.553484  5.026050   \n",
       "107  16.401355  13.178323      0      0  27.516148  2.357497  4.672669   \n",
       "108  21.526450  17.525930      0      0  35.070347  2.479304  4.867733   \n",
       "109  23.201273  16.661749      0      1  39.311739  2.533536  4.911786   \n",
       "110  26.834266  19.726754      0      0  45.114726  2.574018  4.959205   \n",
       "\n",
       "        SpAD_A   SpMAD_A   LogEE_A  ...      SRW10     TSRW10          MW  \\\n",
       "0    28.642859  1.301948  4.021066  ...  10.014984  56.167647  297.111341   \n",
       "1    39.042073  1.301402  4.381167  ...  10.558388  84.851780  405.160103   \n",
       "2    40.912296  1.319751  4.353586  ...  10.087433  66.284276  418.211724   \n",
       "3    37.841697  1.351489  4.291692  ...  10.311117  79.272896  372.175025   \n",
       "4    20.141728  1.184808  3.715821  ...   9.507106  49.119415  276.033541   \n",
       "..         ...       ...       ...  ...        ...        ...         ...   \n",
       "106  33.703458  1.248276  4.221641  ...  10.312911  76.668244  370.180504   \n",
       "107  27.516148  1.310293  4.000209  ...   9.789030  72.959236  282.111676   \n",
       "108  35.070347  1.298902  4.244547  ...  10.300618  78.156175  397.076409   \n",
       "109  39.311739  1.355577  4.321365  ...  10.347757  79.133264  386.185509   \n",
       "110  45.114726  1.326904  4.470193  ...  10.550774  85.256295  456.190989   \n",
       "\n",
       "          AMW  WPath  WPol  Zagreb1  Zagreb2   mZagreb1  mZagreb2  \n",
       "0    8.030036   1054    35    114.0    134.0   6.777778  5.000000  \n",
       "1    8.103202   2706    49    168.0    203.0   8.833333  6.361111  \n",
       "2    7.337048   3104    42    156.0    176.0   7.527778  6.944444  \n",
       "3    7.595409   2088    44    154.0    185.0   6.500000  6.083333  \n",
       "4    9.201118    566    22     80.0     88.0   7.395833  3.875000  \n",
       "..        ...    ...   ...      ...      ...        ...       ...  \n",
       "106  7.403610   1792    46    142.0    170.0  10.472222  5.972222  \n",
       "107  8.060334   1031    28    108.0    124.0   5.916667  4.638889  \n",
       "108  9.234335   1936    42    148.0    176.0   8.451389  5.736111  \n",
       "109  7.572265   2342    47    158.0    189.0   6.750000  6.333333  \n",
       "110  7.865362   3528    59    184.0    222.0   9.833333  7.500000  \n",
       "\n",
       "[111 rows x 1613 columns]"
      ]
     },
     "execution_count": 9,
     "metadata": {},
     "output_type": "execute_result"
    }
   ],
   "source": [
    "train_features"
   ]
  },
  {
   "cell_type": "code",
   "execution_count": 10,
   "metadata": {},
   "outputs": [],
   "source": [
    "import lightning\n",
    "from lightning.pytorch.callbacks.early_stopping import EarlyStopping\n",
    "from lightning.pytorch.callbacks.model_checkpoint import ModelCheckpoint\n",
    "import torch\n",
    "import numpy as np"
   ]
  },
  {
   "cell_type": "code",
   "execution_count": 11,
   "metadata": {},
   "outputs": [],
   "source": [
    "X = torch.tensor(train_features.to_numpy(dtype=np.float32), dtype=torch.float32)\n",
    "y = torch.tensor(train_df[\"LOG_RPPB\"].to_numpy(dtype=np.float32), dtype=torch.float32)[:, None]  # keep it 2d!\n",
    "X_test = torch.tensor(test_features.to_numpy(dtype=np.float32), dtype=torch.float32)"
   ]
  },
  {
   "cell_type": "code",
   "execution_count": 12,
   "metadata": {},
   "outputs": [],
   "source": [
    "val_idx = 12  # use n/110 for validation"
   ]
  },
  {
   "cell_type": "code",
   "execution_count": 13,
   "metadata": {},
   "outputs": [],
   "source": [
    "from fastprop.data import standard_scale, inverse_standard_scale"
   ]
  },
  {
   "cell_type": "code",
   "execution_count": 14,
   "metadata": {},
   "outputs": [
    {
     "data": {
      "text/plain": [
       "tensor([[-1.4571, -1.5857, -0.2616,  ..., -1.6617, -0.9991, -1.2891],\n",
       "        [ 0.4292,  0.3898, -0.2616,  ...,  0.3805,  0.0612,  0.5553],\n",
       "        [ 0.1896,  0.2196, -0.2616,  ...,  0.2329,  0.3545,  0.0052],\n",
       "        ...,\n",
       "        [ 0.0646,  0.4525, -0.2616,  ...,  0.0114,  1.0507,  0.1347],\n",
       "        [ 1.4779,  1.4945, -0.2616,  ...,  1.6354,  1.4375,  1.4721],\n",
       "        [-1.7885, -1.7768, -0.2616,  ..., -1.4895, -1.7179, -1.9685]])"
      ]
     },
     "execution_count": 14,
     "metadata": {},
     "output_type": "execute_result"
    }
   ],
   "source": [
    "X[val_idx:], means, vars = standard_scale(X[val_idx:])\n",
    "X[:val_idx] = standard_scale(X[:val_idx], means, vars)\n",
    "X_test = standard_scale(X_test, means, vars)\n",
    "# sorta-Winsorization\n",
    "X.clamp_(-3, 3)\n",
    "X_test.clamp_(-3, 3)"
   ]
  },
  {
   "cell_type": "markdown",
   "metadata": {},
   "source": [
    "We could also rescale the targets like this:\n",
    "\n",
    "```python\n",
    "y, target_means, target_vars = standard_scale(y)\n",
    "```\n",
    "\n",
    "But their natural scale is already pretty close to what we want, so we won't bother (i've tried, and it doesn't significantly impact performance)."
   ]
  },
  {
   "cell_type": "markdown",
   "metadata": {},
   "source": [
    "## Implementing Pairwise Regression\n",
    "\n",
    "`nepare` provides a number of convenience classes than handle training, validation, and testing augmentation automatically."
   ]
  },
  {
   "cell_type": "code",
   "execution_count": 15,
   "metadata": {},
   "outputs": [],
   "source": [
    "from nepare.nn import NeuralPairwiseRegressor as NPR\n",
    "from nepare.data import PairwiseAugmentedDataset, PairwiseAnchoredDataset, PairwiseInferenceDataset\n",
    "from nepare.inference import predict"
   ]
  },
  {
   "cell_type": "code",
   "execution_count": 16,
   "metadata": {},
   "outputs": [],
   "source": [
    "training_dataset = PairwiseAugmentedDataset(X[val_idx:], y[val_idx:], how='full')\n",
    "validation_dataset = PairwiseAnchoredDataset(X[val_idx:], y[val_idx:], X[:val_idx], y[:val_idx], how='full')\n",
    "predict_dataset = PairwiseInferenceDataset(X[val_idx:], y[val_idx:], X_test, how='full')\n",
    "train_loader = torch.utils.data.DataLoader(training_dataset, batch_size=64, shuffle=True)\n",
    "val_loader = torch.utils.data.DataLoader(validation_dataset, batch_size=64)\n",
    "predict_loader = torch.utils.data.DataLoader(predict_dataset, batch_size=64)"
   ]
  },
  {
   "cell_type": "markdown",
   "metadata": {},
   "source": [
    "These networks can overfit very quickly, so we will use `EarlyStopping` to stop training once we start overfitting and then reset the network to to _just before_ it overfit."
   ]
  },
  {
   "cell_type": "code",
   "execution_count": 17,
   "metadata": {},
   "outputs": [],
   "source": [
    "npr = NPR(X.shape[1], 50, 2)\n",
    "early_stopping = EarlyStopping(monitor=\"validation/loss\", patience=10)\n",
    "model_checkpoint = ModelCheckpoint(monitor=\"validation/loss\")"
   ]
  },
  {
   "cell_type": "code",
   "execution_count": 18,
   "metadata": {},
   "outputs": [
    {
     "name": "stderr",
     "output_type": "stream",
     "text": [
      "GPU available: True (cuda), used: True\n",
      "TPU available: False, using: 0 TPU cores\n",
      "HPU available: False, using: 0 HPUs\n",
      "LOCAL_RANK: 0 - CUDA_VISIBLE_DEVICES: [0]\n",
      "\n",
      "  | Name | Type       | Params | Mode \n",
      "--------------------------------------------\n",
      "0 | fnn  | Sequential | 163 K  | train\n",
      "--------------------------------------------\n",
      "163 K     Trainable params\n",
      "0         Non-trainable params\n",
      "163 K     Total params\n",
      "0.656     Total estimated model params size (MB)\n",
      "6         Modules in train mode\n",
      "0         Modules in eval mode\n"
     ]
    },
    {
     "data": {
      "application/vnd.jupyter.widget-view+json": {
       "model_id": "4bd0ba75c3b04398bbd9d634ae8fec83",
       "version_major": 2,
       "version_minor": 0
      },
      "text/plain": [
       "Sanity Checking: |          | 0/? [00:00<?, ?it/s]"
      ]
     },
     "metadata": {},
     "output_type": "display_data"
    },
    {
     "data": {
      "application/vnd.jupyter.widget-view+json": {
       "model_id": "a909ea00f8ef435489509ccecddaae7f",
       "version_major": 2,
       "version_minor": 0
      },
      "text/plain": [
       "Training: |          | 0/? [00:00<?, ?it/s]"
      ]
     },
     "metadata": {},
     "output_type": "display_data"
    },
    {
     "data": {
      "application/vnd.jupyter.widget-view+json": {
       "model_id": "a249a71909284334b7162a5306c90259",
       "version_major": 2,
       "version_minor": 0
      },
      "text/plain": [
       "Validation: |          | 0/? [00:00<?, ?it/s]"
      ]
     },
     "metadata": {},
     "output_type": "display_data"
    },
    {
     "data": {
      "application/vnd.jupyter.widget-view+json": {
       "model_id": "50b126e1ae714ad7a08d59f137d2cc06",
       "version_major": 2,
       "version_minor": 0
      },
      "text/plain": [
       "Validation: |          | 0/? [00:00<?, ?it/s]"
      ]
     },
     "metadata": {},
     "output_type": "display_data"
    },
    {
     "data": {
      "application/vnd.jupyter.widget-view+json": {
       "model_id": "52f2d90ef02347f48da09f0f88bbf247",
       "version_major": 2,
       "version_minor": 0
      },
      "text/plain": [
       "Validation: |          | 0/? [00:00<?, ?it/s]"
      ]
     },
     "metadata": {},
     "output_type": "display_data"
    },
    {
     "data": {
      "application/vnd.jupyter.widget-view+json": {
       "model_id": "fa10260a436d43bd99987d4daaa5e364",
       "version_major": 2,
       "version_minor": 0
      },
      "text/plain": [
       "Validation: |          | 0/? [00:00<?, ?it/s]"
      ]
     },
     "metadata": {},
     "output_type": "display_data"
    },
    {
     "data": {
      "application/vnd.jupyter.widget-view+json": {
       "model_id": "e37e37e495bc428b8362cc0a612698eb",
       "version_major": 2,
       "version_minor": 0
      },
      "text/plain": [
       "Validation: |          | 0/? [00:00<?, ?it/s]"
      ]
     },
     "metadata": {},
     "output_type": "display_data"
    },
    {
     "data": {
      "application/vnd.jupyter.widget-view+json": {
       "model_id": "546cadba28fc42a4ac4c65d533966a2b",
       "version_major": 2,
       "version_minor": 0
      },
      "text/plain": [
       "Validation: |          | 0/? [00:00<?, ?it/s]"
      ]
     },
     "metadata": {},
     "output_type": "display_data"
    },
    {
     "data": {
      "application/vnd.jupyter.widget-view+json": {
       "model_id": "3403b877a21e47a6a0cf15f589564351",
       "version_major": 2,
       "version_minor": 0
      },
      "text/plain": [
       "Validation: |          | 0/? [00:00<?, ?it/s]"
      ]
     },
     "metadata": {},
     "output_type": "display_data"
    },
    {
     "data": {
      "application/vnd.jupyter.widget-view+json": {
       "model_id": "66c19fafa6a84deda0f909cdf0f5d045",
       "version_major": 2,
       "version_minor": 0
      },
      "text/plain": [
       "Validation: |          | 0/? [00:00<?, ?it/s]"
      ]
     },
     "metadata": {},
     "output_type": "display_data"
    },
    {
     "data": {
      "application/vnd.jupyter.widget-view+json": {
       "model_id": "0c3bd67b13034f6f8866f2a0ded65795",
       "version_major": 2,
       "version_minor": 0
      },
      "text/plain": [
       "Validation: |          | 0/? [00:00<?, ?it/s]"
      ]
     },
     "metadata": {},
     "output_type": "display_data"
    },
    {
     "data": {
      "application/vnd.jupyter.widget-view+json": {
       "model_id": "b073663c41324968b202323d5d2e7099",
       "version_major": 2,
       "version_minor": 0
      },
      "text/plain": [
       "Validation: |          | 0/? [00:00<?, ?it/s]"
      ]
     },
     "metadata": {},
     "output_type": "display_data"
    },
    {
     "data": {
      "application/vnd.jupyter.widget-view+json": {
       "model_id": "96b6458618c1484d8a1d1f82cbbba2fc",
       "version_major": 2,
       "version_minor": 0
      },
      "text/plain": [
       "Validation: |          | 0/? [00:00<?, ?it/s]"
      ]
     },
     "metadata": {},
     "output_type": "display_data"
    },
    {
     "data": {
      "application/vnd.jupyter.widget-view+json": {
       "model_id": "be026e995e5f4a5d895041ae06a1a754",
       "version_major": 2,
       "version_minor": 0
      },
      "text/plain": [
       "Validation: |          | 0/? [00:00<?, ?it/s]"
      ]
     },
     "metadata": {},
     "output_type": "display_data"
    },
    {
     "data": {
      "application/vnd.jupyter.widget-view+json": {
       "model_id": "51b0b651a5774e4692fc94c5c8f00037",
       "version_major": 2,
       "version_minor": 0
      },
      "text/plain": [
       "Validation: |          | 0/? [00:00<?, ?it/s]"
      ]
     },
     "metadata": {},
     "output_type": "display_data"
    },
    {
     "data": {
      "application/vnd.jupyter.widget-view+json": {
       "model_id": "0f974d9165f946008a5829026ace8823",
       "version_major": 2,
       "version_minor": 0
      },
      "text/plain": [
       "Validation: |          | 0/? [00:00<?, ?it/s]"
      ]
     },
     "metadata": {},
     "output_type": "display_data"
    },
    {
     "data": {
      "application/vnd.jupyter.widget-view+json": {
       "model_id": "dc47c25ff2734cb5858eee1515fe46f9",
       "version_major": 2,
       "version_minor": 0
      },
      "text/plain": [
       "Validation: |          | 0/? [00:00<?, ?it/s]"
      ]
     },
     "metadata": {},
     "output_type": "display_data"
    },
    {
     "data": {
      "application/vnd.jupyter.widget-view+json": {
       "model_id": "fbcb9cacf93a468eb8eb5560dfde6975",
       "version_major": 2,
       "version_minor": 0
      },
      "text/plain": [
       "Validation: |          | 0/? [00:00<?, ?it/s]"
      ]
     },
     "metadata": {},
     "output_type": "display_data"
    },
    {
     "data": {
      "application/vnd.jupyter.widget-view+json": {
       "model_id": "6bc8edc4312f4f2794aa7e7b0e85a04b",
       "version_major": 2,
       "version_minor": 0
      },
      "text/plain": [
       "Validation: |          | 0/? [00:00<?, ?it/s]"
      ]
     },
     "metadata": {},
     "output_type": "display_data"
    }
   ],
   "source": [
    "trainer = lightning.Trainer(max_epochs=50, log_every_n_steps=1, callbacks=[early_stopping, model_checkpoint])\n",
    "trainer.fit(npr, train_loader, val_loader)"
   ]
  },
  {
   "cell_type": "code",
   "execution_count": 19,
   "metadata": {},
   "outputs": [],
   "source": [
    "npr = NPR.load_from_checkpoint(model_checkpoint.best_model_path)  # reload best model based on early stopping"
   ]
  },
  {
   "cell_type": "code",
   "execution_count": 20,
   "metadata": {},
   "outputs": [
    {
     "name": "stderr",
     "output_type": "stream",
     "text": [
      "GPU available: True (cuda), used: True\n",
      "TPU available: False, using: 0 TPU cores\n",
      "HPU available: False, using: 0 HPUs\n",
      "LOCAL_RANK: 0 - CUDA_VISIBLE_DEVICES: [0]\n"
     ]
    },
    {
     "data": {
      "application/vnd.jupyter.widget-view+json": {
       "model_id": "f58b06f5348e4969baf945f86da0069f",
       "version_major": 2,
       "version_minor": 0
      },
      "text/plain": [
       "Predicting: |          | 0/? [00:00<?, ?it/s]"
      ]
     },
     "metadata": {},
     "output_type": "display_data"
    }
   ],
   "source": [
    "y_pred, y_stdev = predict(npr, predict_loader, how=\"all\")"
   ]
  },
  {
   "cell_type": "markdown",
   "metadata": {},
   "source": [
    "If we had re-scaled the target, we would have to undo that scaling like this:\n",
    "\n",
    "```python\n",
    "y_pred = inverse_standard_scale(torch.tensor(y_pred), target_means, target_vars)\n",
    "```"
   ]
  },
  {
   "cell_type": "markdown",
   "metadata": {},
   "source": [
    "## Finally, Results!"
   ]
  },
  {
   "cell_type": "code",
   "execution_count": 21,
   "metadata": {},
   "outputs": [],
   "source": [
    "results = benchmark.evaluate(y_pred)"
   ]
  },
  {
   "cell_type": "code",
   "execution_count": 22,
   "metadata": {},
   "outputs": [],
   "source": [
    "results.name = \"nepare\"\n",
    "results.description = \"Neural Pairwise Regression with Mordred(-community) Molecular Descriptors\"\n",
    "results.github_url = \"https://github.com/JacksonBurns/neural-pairwise-regression/blob/main/notebooks/polaris_adme.ipynb\""
   ]
  },
  {
   "cell_type": "code",
   "execution_count": 23,
   "metadata": {},
   "outputs": [
    {
     "data": {
      "text/html": [
       "<table border=\"1\"><tr><th>name</th><td>nepare</td></tr><tr><th>description</th><td>Neural Pairwise Regression with Mordred(-community) Molecular Descriptors</td></tr><tr><th>tags</th><td></td></tr><tr><th>user_attributes</th><td></td></tr><tr><th>owner</th><td>None</td></tr><tr><th>polaris_version</th><td>0.11.8</td></tr><tr><th>github_url</th><td>https://github.com/JacksonBurns/neural-pairwise-regression/blob/main/notebooks/polaris_adme.ipynb</td></tr><tr><th>paper_url</th><td>None</td></tr><tr><th>contributors</th><td></td></tr><tr><th>results</th><td><table border=\"1\"><thead><tr><th>test_set</th><th>target_label</th><th>scores</th></tr></thead><tbody><tr><td>test</td><td>LOG_RPPB</td><td><table border=\"1\"><tr><th>r2</th><td>0.6565050593916393</td></tr><tr><th>mean_squared_error</th><td>0.30518906672948914</td></tr><tr><th>spearmanr</th><td>0.8243478260869566</td></tr><tr><th>pearsonr</th><td>0.8126869707267603</td></tr><tr><th>explained_var</th><td>0.657950659759234</td></tr><tr><th>mean_absolute_error</th><td>0.41379897609924793</td></tr></table></td></tr></tbody></table></td></tr><tr><th>benchmark_artifact_id</th><td>polaris/adme-fang-rppb-1</td></tr><tr><th>benchmark_name</th><td>None</td></tr><tr><th>benchmark_owner</th><td>None</td></tr><tr><th>slug</th><td>nepare</td></tr><tr><th>artifact_id</th><td>None</td></tr><tr><th>urn</th><td>None</td></tr><tr><th>version</th><td>1</td></tr></table>"
      ],
      "text/plain": [
       "{\n",
       "  \"name\": \"nepare\",\n",
       "  \"description\": \"Neural Pairwise Regression with Mordred(-community) Molecular Descriptors\",\n",
       "  \"tags\": [],\n",
       "  \"user_attributes\": {},\n",
       "  \"owner\": null,\n",
       "  \"polaris_version\": \"0.11.8\",\n",
       "  \"github_url\": \"https://github.com/JacksonBurns/neural-pairwise-regression/blob/main/notebooks/polaris_adme.ipynb\",\n",
       "  \"paper_url\": null,\n",
       "  \"contributors\": [],\n",
       "  \"results\": [\n",
       "    {\n",
       "      \"test_set\": \"test\",\n",
       "      \"target_label\": \"LOG_RPPB\",\n",
       "      \"scores\": {\n",
       "        \"r2\": 0.6565050593916393,\n",
       "        \"mean_squared_error\": 0.30518906672948914,\n",
       "        \"spearmanr\": 0.8243478260869566,\n",
       "        \"pearsonr\": 0.8126869707267603,\n",
       "        \"explained_var\": 0.657950659759234,\n",
       "        \"mean_absolute_error\": 0.41379897609924793\n",
       "      }\n",
       "    }\n",
       "  ],\n",
       "  \"benchmark_artifact_id\": \"polaris/adme-fang-rppb-1\",\n",
       "  \"benchmark_name\": null,\n",
       "  \"benchmark_owner\": null,\n",
       "  \"slug\": \"nepare\",\n",
       "  \"artifact_id\": null,\n",
       "  \"urn\": null,\n",
       "  \"version\": 1\n",
       "}"
      ]
     },
     "execution_count": 23,
     "metadata": {},
     "output_type": "execute_result"
    }
   ],
   "source": [
    "results"
   ]
  },
  {
   "cell_type": "markdown",
   "metadata": {},
   "source": [
    "As of writing, this method lands at third on the leaderboard just barely losing out to a couple 1 _billion_ parameter MPNN-based foundation models.\n",
    "We've achieved pretty similar performance (without any tuning!) in just a few minutes - pretty good!"
   ]
  },
  {
   "cell_type": "markdown",
   "metadata": {},
   "source": [
    "This last line is commented out because it will fail (unless you are me) - you can replace the `owner` without your own name to upload your results (and also update the link, name, and description above)."
   ]
  },
  {
   "cell_type": "code",
   "execution_count": 24,
   "metadata": {},
   "outputs": [],
   "source": [
    "# results.upload_to_hub(owner=\"jacksonburns\", access=\"public\")"
   ]
  }
 ],
 "metadata": {
  "kernelspec": {
   "display_name": ".venv",
   "language": "python",
   "name": "python3"
  },
  "language_info": {
   "codemirror_mode": {
    "name": "ipython",
    "version": 3
   },
   "file_extension": ".py",
   "mimetype": "text/x-python",
   "name": "python",
   "nbconvert_exporter": "python",
   "pygments_lexer": "ipython3",
   "version": "3.12.3"
  }
 },
 "nbformat": 4,
 "nbformat_minor": 2
}
