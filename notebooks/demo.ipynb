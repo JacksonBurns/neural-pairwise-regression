{
 "cells": [
  {
   "cell_type": "code",
   "execution_count": 1,
   "metadata": {},
   "outputs": [],
   "source": [
    "import lightning\n",
    "from lightning.pytorch.callbacks.early_stopping import EarlyStopping\n",
    "from lightning.pytorch.callbacks.model_checkpoint import ModelCheckpoint\n",
    "import torch\n",
    "import plotly.graph_objs as go\n",
    "from sklearn.metrics import mean_absolute_percentage_error"
   ]
  },
  {
   "cell_type": "code",
   "execution_count": 2,
   "metadata": {},
   "outputs": [],
   "source": [
    "from nepare.nn import NeuralPairwiseRegressor as NPR, FeedforwardNeuralNetwork as FNN\n",
    "from nepare.data import PairwiseAugmentedDataset, PairwiseAnchoredDataset, PairwiseInferenceDataset\n",
    "from nepare.inference import predict"
   ]
  },
  {
   "cell_type": "code",
   "execution_count": 3,
   "metadata": {},
   "outputs": [],
   "source": [
    "TRAIN_MARKER = dict(mode=\"markers\", marker=dict(color=\"red\", opacity=0.2, size=4))\n",
    "TRAIN_PRED = dict(mode=\"markers\", marker=dict(color=\"red\", opacity=0.4, symbol=\"diamond\", size=4))\n",
    "VAL_MARKER = dict(mode=\"markers\", marker=dict(color=\"green\", opacity=0.2, size=4))\n",
    "VAL_PRED = dict(mode=\"markers\", marker=dict(color=\"green\", opacity=0.4, symbol=\"diamond\", size=4))\n",
    "TEST_MARKER = dict(mode=\"markers\", marker=dict(color=\"blue\", opacity=0.2, size=4))\n",
    "TEST_PRED = dict(mode=\"markers\", marker=dict(color=\"blue\", opacity=0.4, symbol=\"diamond\", size=4))"
   ]
  },
  {
   "cell_type": "code",
   "execution_count": 4,
   "metadata": {},
   "outputs": [
    {
     "name": "stderr",
     "output_type": "stream",
     "text": [
      "Seed set to 1701\n"
     ]
    },
    {
     "data": {
      "text/plain": [
       "1701"
      ]
     },
     "execution_count": 4,
     "metadata": {},
     "output_type": "execute_result"
    }
   ],
   "source": [
    "SEED = 1701\n",
    "lightning.seed_everything(SEED)"
   ]
  },
  {
   "cell_type": "code",
   "execution_count": 5,
   "metadata": {},
   "outputs": [],
   "source": [
    "X = torch.rand((200, 2), dtype=torch.float32)\n",
    "y = torch.sin(8*X[:, 0]) + 3 * X[:, 1].pow(2)  # sin(x1) + 3 * x2^2\n",
    "y = y.reshape(-1, 1)"
   ]
  },
  {
   "cell_type": "code",
   "execution_count": 6,
   "metadata": {},
   "outputs": [],
   "source": [
    "train_idxs = torch.argwhere((X < 0.5).any(dim=1)).flatten()\n",
    "val_idxs = train_idxs[0:int(len(train_idxs)*0.2)]\n",
    "train_idxs = train_idxs[int(len(train_idxs)*0.2):]\n",
    "test_idxs = torch.argwhere((X >= 0.5).all(dim=1)).flatten()"
   ]
  },
  {
   "cell_type": "code",
   "execution_count": 19,
   "metadata": {},
   "outputs": [
    {
     "data": {
      "application/vnd.plotly.v1+json": {
       "config": {
        "plotlyServerURL": "https://plot.ly"
       },
       "data": [
        {
         "marker": {
          "color": "red",
          "opacity": 0.2,
          "size": 4
         },
         "mode": "markers",
         "name": "Training",
         "type": "scatter3d",
         "x": {
          "bdata": "UXMEP2b/BD91JUo/w+QbPwCn6TxWXrU+ob4tP60uJT8wx0k+dgHcPvAabD0IQbM+B8wRP4kwaz8Cq/Y+Ml50P1DlDj0Z8FQ/m+16PzgthT5CO0E/WM6VPoCmMT/o1lA/JWYuPxZgnz7eoD4/IPdbPYLwvj58GZ0+FhA4P4BDMT0JiwU/KlmmPmbdnD7EWYM+ZOKSPnZ8nj6Yu5g9XLt7PuCH7TxTPg0/7O1/P4Cnqj7uo50+058fP4iguj6Wk8o+LBgxPw4j7D5O9KU+cNgMPYBj8Ts4fdM9vIeEPtxPjz4lpGo/YmbwPkCMpj3vA1M/kql5P3+wBj+wkUI9IOJ3PX+PLj+wqO4+ZNmgPs7GQz9cyp8+sYp5P+gw9j5AJ+I9lLYuP9h7Iz7wPgY+mPm7PbgQNz7uR/Y+Yg6FPiDvWD/otpg+HJ+ePmhc1j524DU/APxEPnxelD6WV0c/eNiiPvC6zD3+Q10/OqfZPoDdhDvAJ0E8wcQUP+Tn+j4NyRw/1mtrP0p0CD9AOwg+porRPrE6Wz+TR2s/PTw4P8Q6dT+yPtM+iAjpPgT7Pz+cf24/3t0DP/yxAD9EEW4+3FLXPnBmbj7h1DA/qBTZPqDEaT2a6RE/qG/ePcG3cT8I8ak+",
          "dtype": "f4"
         },
         "y": {
          "bdata": "vPATPsQqkj4EHp0+AGHrPbJrdj/gwyE9KKTZPuwmJj6YyzI+4uXVPnhyKj7I+h4/wA8gPsD5kz6Asi0/cNMKPlaReD9M3S8+DKtPPlC3dj5oCtk+jjY7P0gnKz7KrNw+IPPQPcimpj0I7jA+SAv2PfjYdz6UWqw+atPZPmBl8D34qJw9aj3MPjUSPj+k5JA+/hkOP6i0dT5I6sk+Wc8RP96svT5a04I+UOtlPWgmEj61F00/sIDcPTwTQT6EO3k/mF/UPhwbfz7y7vM+1O9OPjIu8j7/1TE/BCNcPvsgbz+o7WY+9CQWPrCIcT8ChNA+smi+PqAuyT5SuF4/y3QYP2DjKT5RAm0/c+MtPwDo3TtAwDc9cvj9Pu6JuD5Kf14/bhXpPqSEAj5YBG4/451vP7IJdT928no/Ix5rP4DyWj7yKdQ+TEddPqr6kD5gWNA9bCUdPq6fcj8Whd8+km+GPvh1/T6cDSU+ltnaPs89Kj/fj1g/7G8RPpkiKz/E3GI+aDz7PgT0qD4kOgI+K/R/P0SBij68LxM+wIApPoAxxz1ZciE/PRx6P1Bq7z6AFKc+CBJ/PozX1j6vGzU/yuD/Piqynj4ayME+cE0FPplBUT9YMv8+UEmiPbRm2T7OWYk+",
          "dtype": "f4"
         },
         "z": {
          "bdata": "sAlHv4/RGr+L/aE+V51yv3JgQED9d50+ULFYvg5YUr93tIs/bndtPvowBz+a3r4/Gx5qv/0jkD/SMDo/6gqEP/ekRkAJ/eY+hMiPPyD/hT+Q+Zc+sKEUQAmSFb8jR0w/hXg1v+ZJID8eR2y+Mm7rPhigqj42X3k/ICYVPSzowj5tMFe/tVp+P5+bEkA0MpA/7C/WP+Y7Sj8io4M/uqzyP4pAJD/QiEK/9MZ/Pw3ABD/GZSNA2Wptv9QbqT7udzRASLEovqhuq77i6Jk/+M3JPoPoOj+XtgtA9BOCP8/AWUCkhII/Rx4Dv+OsUUCbuk0/fu+0P1hY076UEClAVsTDP150J79AGQFAgGj8P+w4KL7VbBs/4EjeP3RPhL4WgEJAENDkvQbDgD8Yc11AQBhTQP9Gb0Ao8g5AoN1ZQPbxHD/WsZk/7nNBP9Q8DD2IgAi/hvqIP+plW0BnngQ/yuNEP//muT9kDis/SGOVPvX3rT9HbQ9AdP5vvwljIz+g1VW/YfjMPzgWE78FSGw/znk3QKjbQT8zWHA/HufWvs9QgT/UcYQ/5ZsYQGd/wD4vvp4/0tgkv7RreL4rcB1Avj0HP957nz/eqIO+vpJJvoCAHEDA6Hi+t05IP0iBvz8t5y4/",
          "dtype": "f4"
         }
        },
        {
         "marker": {
          "color": "green",
          "opacity": 0.2,
          "size": 4
         },
         "mode": "markers",
         "name": "Validation",
         "type": "scatter3d",
         "x": {
          "bdata": "GmdMPzBVHT2YHo0+IHTlPqim+T4u3iw/iON8PjR39T4esqc+8LeVPtWcWj8gE1I/LtDKPnBh7j0Mfls++3hyP165nD4YQ98+aIP/PnqAPT/wh2o+iivOPtqUxz40p1I+JDKsPuMmLD/MXXM+osuLPnC6aD4gQJk+",
          "dtype": "f4"
         },
         "y": {
          "bdata": "DJciPuU1QD/grRk/OMgtPiLdFD8wEs0+5lWzPkPCDz/G0UE/9P9CPhhy6z78/tE+gMFiP0gKfT6ltRI//mnJPhFoXD+igvw+oKZGPuQvHT5OUmk/ubpYPwTrCz4tEHY/hclCP8Qhez6Savw+lvhsP2ClrD22Q6Q+",
          "dtype": "f4"
         },
         "z": {
          "bdata": "3yg4Pucw/z8ofvE/lYSvvurzpj7djZS+8MKkPxj3nD5/7g1Ah+RTP1rwkz/ZWEg/ZeMUQHBKfD9xyvw/UI62P18yN0CPisc+do8jv3DFkL5JUF1AbIIEQJQUoj1YNHFAPA4LQMfiGr9PZ9Y/kNhYQOKpfT+G/3w/",
          "dtype": "f4"
         }
        },
        {
         "marker": {
          "color": "blue",
          "opacity": 0.2,
          "size": 4
         },
         "mode": "markers",
         "name": "Testing",
         "type": "scatter3d",
         "x": {
          "bdata": "rhhlP15kCT8izyQ/MVNsP/dAKz9Gy0U/FT5uP5zjVT9lz3s/BrYPPweaWT8SWzw/IQ4JP/YVaD8spB8/KSUgP0oYaj8P0Sw/2/8VP9h5Gj+6XDQ/sS4nPy+Wbj8rZlw/w2ljP8HWaj9PMEY/4dp5P0ZvDj8aeBA//vwzP7UNNj8B6gk/XsBJPxEtRj+oyiU/uO0FP/bNET9gKkY/kt55P0pmWj/epUk/Cw5cP4hkED9DPn4/9mMZPwl4FT9qQxY/yiBhP+sSVT8=",
          "dtype": "f4"
         },
         "y": {
          "bdata": "BBZMP+6VAj/xNlg/3DJhP2MEBD8h6kI/5pUAP4BpUT/cNn8/9aQ3P2+EMj9bTxs/vyJmPw3HcD8/6ik/j51IPxnzED8j4WQ/+RZ5Pw/iGT9iugY/ffxDP5jlYz8R42A/XQk6PxmBWj+q01c/36c+P2goVD8wBE4/jjI8PzVWWj/x8lk/kE5pP291Cz/dnmM/xK0DP3PEZj/DtzE/ro4aP4XNaj8o/w4/6KNjP3FtHz+yDEU/vL9LP4EFRT83kxY/G/N2P4WNTz8=",
          "dtype": "f4"
         },
         "z": {
          "bdata": "EDErQDggCL7w/p0//KtNQIAmmrsGj9E/4lPWPxxzGUDj0H5At3cRPz77+T+7qzc/svLBP5+eXkCyGbg+mXxiP/D96D+QE9A/tpbrP9iFuT2ctGk+ufViPy4nU0CYhzhAEVcUQNKQQ0DMugJA32wqQMgUjD8pXXY/UTKBP3euzz9CkKA/FNkgQOvbTD8DYb0/gHGQvUaWuT+Rfa0/+uoFQCyGQkA2UHQ/eJw7QBjdOz5wfTFAIlRnP9AcRz9Auhs90WJeQFarFUA=",
          "dtype": "f4"
         }
        }
       ],
       "layout": {
        "autosize": false,
        "height": 700,
        "template": {
         "data": {
          "bar": [
           {
            "error_x": {
             "color": "#2a3f5f"
            },
            "error_y": {
             "color": "#2a3f5f"
            },
            "marker": {
             "line": {
              "color": "#E5ECF6",
              "width": 0.5
             },
             "pattern": {
              "fillmode": "overlay",
              "size": 10,
              "solidity": 0.2
             }
            },
            "type": "bar"
           }
          ],
          "barpolar": [
           {
            "marker": {
             "line": {
              "color": "#E5ECF6",
              "width": 0.5
             },
             "pattern": {
              "fillmode": "overlay",
              "size": 10,
              "solidity": 0.2
             }
            },
            "type": "barpolar"
           }
          ],
          "carpet": [
           {
            "aaxis": {
             "endlinecolor": "#2a3f5f",
             "gridcolor": "white",
             "linecolor": "white",
             "minorgridcolor": "white",
             "startlinecolor": "#2a3f5f"
            },
            "baxis": {
             "endlinecolor": "#2a3f5f",
             "gridcolor": "white",
             "linecolor": "white",
             "minorgridcolor": "white",
             "startlinecolor": "#2a3f5f"
            },
            "type": "carpet"
           }
          ],
          "choropleth": [
           {
            "colorbar": {
             "outlinewidth": 0,
             "ticks": ""
            },
            "type": "choropleth"
           }
          ],
          "contour": [
           {
            "colorbar": {
             "outlinewidth": 0,
             "ticks": ""
            },
            "colorscale": [
             [
              0,
              "#0d0887"
             ],
             [
              0.1111111111111111,
              "#46039f"
             ],
             [
              0.2222222222222222,
              "#7201a8"
             ],
             [
              0.3333333333333333,
              "#9c179e"
             ],
             [
              0.4444444444444444,
              "#bd3786"
             ],
             [
              0.5555555555555556,
              "#d8576b"
             ],
             [
              0.6666666666666666,
              "#ed7953"
             ],
             [
              0.7777777777777778,
              "#fb9f3a"
             ],
             [
              0.8888888888888888,
              "#fdca26"
             ],
             [
              1,
              "#f0f921"
             ]
            ],
            "type": "contour"
           }
          ],
          "contourcarpet": [
           {
            "colorbar": {
             "outlinewidth": 0,
             "ticks": ""
            },
            "type": "contourcarpet"
           }
          ],
          "heatmap": [
           {
            "colorbar": {
             "outlinewidth": 0,
             "ticks": ""
            },
            "colorscale": [
             [
              0,
              "#0d0887"
             ],
             [
              0.1111111111111111,
              "#46039f"
             ],
             [
              0.2222222222222222,
              "#7201a8"
             ],
             [
              0.3333333333333333,
              "#9c179e"
             ],
             [
              0.4444444444444444,
              "#bd3786"
             ],
             [
              0.5555555555555556,
              "#d8576b"
             ],
             [
              0.6666666666666666,
              "#ed7953"
             ],
             [
              0.7777777777777778,
              "#fb9f3a"
             ],
             [
              0.8888888888888888,
              "#fdca26"
             ],
             [
              1,
              "#f0f921"
             ]
            ],
            "type": "heatmap"
           }
          ],
          "histogram": [
           {
            "marker": {
             "pattern": {
              "fillmode": "overlay",
              "size": 10,
              "solidity": 0.2
             }
            },
            "type": "histogram"
           }
          ],
          "histogram2d": [
           {
            "colorbar": {
             "outlinewidth": 0,
             "ticks": ""
            },
            "colorscale": [
             [
              0,
              "#0d0887"
             ],
             [
              0.1111111111111111,
              "#46039f"
             ],
             [
              0.2222222222222222,
              "#7201a8"
             ],
             [
              0.3333333333333333,
              "#9c179e"
             ],
             [
              0.4444444444444444,
              "#bd3786"
             ],
             [
              0.5555555555555556,
              "#d8576b"
             ],
             [
              0.6666666666666666,
              "#ed7953"
             ],
             [
              0.7777777777777778,
              "#fb9f3a"
             ],
             [
              0.8888888888888888,
              "#fdca26"
             ],
             [
              1,
              "#f0f921"
             ]
            ],
            "type": "histogram2d"
           }
          ],
          "histogram2dcontour": [
           {
            "colorbar": {
             "outlinewidth": 0,
             "ticks": ""
            },
            "colorscale": [
             [
              0,
              "#0d0887"
             ],
             [
              0.1111111111111111,
              "#46039f"
             ],
             [
              0.2222222222222222,
              "#7201a8"
             ],
             [
              0.3333333333333333,
              "#9c179e"
             ],
             [
              0.4444444444444444,
              "#bd3786"
             ],
             [
              0.5555555555555556,
              "#d8576b"
             ],
             [
              0.6666666666666666,
              "#ed7953"
             ],
             [
              0.7777777777777778,
              "#fb9f3a"
             ],
             [
              0.8888888888888888,
              "#fdca26"
             ],
             [
              1,
              "#f0f921"
             ]
            ],
            "type": "histogram2dcontour"
           }
          ],
          "mesh3d": [
           {
            "colorbar": {
             "outlinewidth": 0,
             "ticks": ""
            },
            "type": "mesh3d"
           }
          ],
          "parcoords": [
           {
            "line": {
             "colorbar": {
              "outlinewidth": 0,
              "ticks": ""
             }
            },
            "type": "parcoords"
           }
          ],
          "pie": [
           {
            "automargin": true,
            "type": "pie"
           }
          ],
          "scatter": [
           {
            "fillpattern": {
             "fillmode": "overlay",
             "size": 10,
             "solidity": 0.2
            },
            "type": "scatter"
           }
          ],
          "scatter3d": [
           {
            "line": {
             "colorbar": {
              "outlinewidth": 0,
              "ticks": ""
             }
            },
            "marker": {
             "colorbar": {
              "outlinewidth": 0,
              "ticks": ""
             }
            },
            "type": "scatter3d"
           }
          ],
          "scattercarpet": [
           {
            "marker": {
             "colorbar": {
              "outlinewidth": 0,
              "ticks": ""
             }
            },
            "type": "scattercarpet"
           }
          ],
          "scattergeo": [
           {
            "marker": {
             "colorbar": {
              "outlinewidth": 0,
              "ticks": ""
             }
            },
            "type": "scattergeo"
           }
          ],
          "scattergl": [
           {
            "marker": {
             "colorbar": {
              "outlinewidth": 0,
              "ticks": ""
             }
            },
            "type": "scattergl"
           }
          ],
          "scattermap": [
           {
            "marker": {
             "colorbar": {
              "outlinewidth": 0,
              "ticks": ""
             }
            },
            "type": "scattermap"
           }
          ],
          "scattermapbox": [
           {
            "marker": {
             "colorbar": {
              "outlinewidth": 0,
              "ticks": ""
             }
            },
            "type": "scattermapbox"
           }
          ],
          "scatterpolar": [
           {
            "marker": {
             "colorbar": {
              "outlinewidth": 0,
              "ticks": ""
             }
            },
            "type": "scatterpolar"
           }
          ],
          "scatterpolargl": [
           {
            "marker": {
             "colorbar": {
              "outlinewidth": 0,
              "ticks": ""
             }
            },
            "type": "scatterpolargl"
           }
          ],
          "scatterternary": [
           {
            "marker": {
             "colorbar": {
              "outlinewidth": 0,
              "ticks": ""
             }
            },
            "type": "scatterternary"
           }
          ],
          "surface": [
           {
            "colorbar": {
             "outlinewidth": 0,
             "ticks": ""
            },
            "colorscale": [
             [
              0,
              "#0d0887"
             ],
             [
              0.1111111111111111,
              "#46039f"
             ],
             [
              0.2222222222222222,
              "#7201a8"
             ],
             [
              0.3333333333333333,
              "#9c179e"
             ],
             [
              0.4444444444444444,
              "#bd3786"
             ],
             [
              0.5555555555555556,
              "#d8576b"
             ],
             [
              0.6666666666666666,
              "#ed7953"
             ],
             [
              0.7777777777777778,
              "#fb9f3a"
             ],
             [
              0.8888888888888888,
              "#fdca26"
             ],
             [
              1,
              "#f0f921"
             ]
            ],
            "type": "surface"
           }
          ],
          "table": [
           {
            "cells": {
             "fill": {
              "color": "#EBF0F8"
             },
             "line": {
              "color": "white"
             }
            },
            "header": {
             "fill": {
              "color": "#C8D4E3"
             },
             "line": {
              "color": "white"
             }
            },
            "type": "table"
           }
          ]
         },
         "layout": {
          "annotationdefaults": {
           "arrowcolor": "#2a3f5f",
           "arrowhead": 0,
           "arrowwidth": 1
          },
          "autotypenumbers": "strict",
          "coloraxis": {
           "colorbar": {
            "outlinewidth": 0,
            "ticks": ""
           }
          },
          "colorscale": {
           "diverging": [
            [
             0,
             "#8e0152"
            ],
            [
             0.1,
             "#c51b7d"
            ],
            [
             0.2,
             "#de77ae"
            ],
            [
             0.3,
             "#f1b6da"
            ],
            [
             0.4,
             "#fde0ef"
            ],
            [
             0.5,
             "#f7f7f7"
            ],
            [
             0.6,
             "#e6f5d0"
            ],
            [
             0.7,
             "#b8e186"
            ],
            [
             0.8,
             "#7fbc41"
            ],
            [
             0.9,
             "#4d9221"
            ],
            [
             1,
             "#276419"
            ]
           ],
           "sequential": [
            [
             0,
             "#0d0887"
            ],
            [
             0.1111111111111111,
             "#46039f"
            ],
            [
             0.2222222222222222,
             "#7201a8"
            ],
            [
             0.3333333333333333,
             "#9c179e"
            ],
            [
             0.4444444444444444,
             "#bd3786"
            ],
            [
             0.5555555555555556,
             "#d8576b"
            ],
            [
             0.6666666666666666,
             "#ed7953"
            ],
            [
             0.7777777777777778,
             "#fb9f3a"
            ],
            [
             0.8888888888888888,
             "#fdca26"
            ],
            [
             1,
             "#f0f921"
            ]
           ],
           "sequentialminus": [
            [
             0,
             "#0d0887"
            ],
            [
             0.1111111111111111,
             "#46039f"
            ],
            [
             0.2222222222222222,
             "#7201a8"
            ],
            [
             0.3333333333333333,
             "#9c179e"
            ],
            [
             0.4444444444444444,
             "#bd3786"
            ],
            [
             0.5555555555555556,
             "#d8576b"
            ],
            [
             0.6666666666666666,
             "#ed7953"
            ],
            [
             0.7777777777777778,
             "#fb9f3a"
            ],
            [
             0.8888888888888888,
             "#fdca26"
            ],
            [
             1,
             "#f0f921"
            ]
           ]
          },
          "colorway": [
           "#636efa",
           "#EF553B",
           "#00cc96",
           "#ab63fa",
           "#FFA15A",
           "#19d3f3",
           "#FF6692",
           "#B6E880",
           "#FF97FF",
           "#FECB52"
          ],
          "font": {
           "color": "#2a3f5f"
          },
          "geo": {
           "bgcolor": "white",
           "lakecolor": "white",
           "landcolor": "#E5ECF6",
           "showlakes": true,
           "showland": true,
           "subunitcolor": "white"
          },
          "hoverlabel": {
           "align": "left"
          },
          "hovermode": "closest",
          "mapbox": {
           "style": "light"
          },
          "paper_bgcolor": "white",
          "plot_bgcolor": "#E5ECF6",
          "polar": {
           "angularaxis": {
            "gridcolor": "white",
            "linecolor": "white",
            "ticks": ""
           },
           "bgcolor": "#E5ECF6",
           "radialaxis": {
            "gridcolor": "white",
            "linecolor": "white",
            "ticks": ""
           }
          },
          "scene": {
           "xaxis": {
            "backgroundcolor": "#E5ECF6",
            "gridcolor": "white",
            "gridwidth": 2,
            "linecolor": "white",
            "showbackground": true,
            "ticks": "",
            "zerolinecolor": "white"
           },
           "yaxis": {
            "backgroundcolor": "#E5ECF6",
            "gridcolor": "white",
            "gridwidth": 2,
            "linecolor": "white",
            "showbackground": true,
            "ticks": "",
            "zerolinecolor": "white"
           },
           "zaxis": {
            "backgroundcolor": "#E5ECF6",
            "gridcolor": "white",
            "gridwidth": 2,
            "linecolor": "white",
            "showbackground": true,
            "ticks": "",
            "zerolinecolor": "white"
           }
          },
          "shapedefaults": {
           "line": {
            "color": "#2a3f5f"
           }
          },
          "ternary": {
           "aaxis": {
            "gridcolor": "white",
            "linecolor": "white",
            "ticks": ""
           },
           "baxis": {
            "gridcolor": "white",
            "linecolor": "white",
            "ticks": ""
           },
           "bgcolor": "#E5ECF6",
           "caxis": {
            "gridcolor": "white",
            "linecolor": "white",
            "ticks": ""
           }
          },
          "title": {
           "x": 0.05
          },
          "xaxis": {
           "automargin": true,
           "gridcolor": "white",
           "linecolor": "white",
           "ticks": "",
           "title": {
            "standoff": 15
           },
           "zerolinecolor": "white",
           "zerolinewidth": 2
          },
          "yaxis": {
           "automargin": true,
           "gridcolor": "white",
           "linecolor": "white",
           "ticks": "",
           "title": {
            "standoff": 15
           },
           "zerolinecolor": "white",
           "zerolinewidth": 2
          }
         }
        },
        "width": 700
       }
      }
     },
     "metadata": {},
     "output_type": "display_data"
    }
   ],
   "source": [
    "fig = go.Figure()\n",
    "fig.update_layout(\n",
    "    autosize=False,\n",
    "    width=700,\n",
    "    height=700,\n",
    ")\n",
    "fig.add_trace(go.Scatter3d(x=X[train_idxs, 0], y=X[train_idxs, 1], z=y[train_idxs].flatten(), **TRAIN_MARKER, name=\"Training\"))\n",
    "fig.add_trace(go.Scatter3d(x=X[val_idxs, 0], y=X[val_idxs, 1], z=y[val_idxs].flatten(), **VAL_MARKER, name=\"Validation\"))\n",
    "fig.add_trace(go.Scatter3d(x=X[test_idxs, 0], y=X[test_idxs, 1], z=y[test_idxs].flatten(), **TEST_MARKER, name=\"Testing\"))\n",
    "fig.show()"
   ]
  },
  {
   "cell_type": "code",
   "execution_count": 22,
   "metadata": {},
   "outputs": [
    {
     "name": "stderr",
     "output_type": "stream",
     "text": [
      "GPU available: True (cuda), used: True\n",
      "TPU available: False, using: 0 TPU cores\n",
      "HPU available: False, using: 0 HPUs\n",
      "LOCAL_RANK: 0 - CUDA_VISIBLE_DEVICES: [0]\n"
     ]
    },
    {
     "name": "stderr",
     "output_type": "stream",
     "text": [
      "\n",
      "  | Name | Type       | Params | Mode \n",
      "--------------------------------------------\n",
      "0 | fnn  | Sequential | 5.3 K  | train\n",
      "--------------------------------------------\n",
      "5.3 K     Trainable params\n",
      "0         Non-trainable params\n",
      "5.3 K     Total params\n",
      "0.021     Total estimated model params size (MB)\n",
      "8         Modules in train mode\n",
      "0         Modules in eval mode\n"
     ]
    },
    {
     "name": "stdout",
     "output_type": "stream",
     "text": [
      "                                                                            "
     ]
    },
    {
     "name": "stderr",
     "output_type": "stream",
     "text": [
      "/home/jackson/neural-pairwise-regression/.venv/lib/python3.12/site-packages/lightning/pytorch/trainer/connectors/data_connector.py:425: PossibleUserWarning:\n",
      "\n",
      "The 'val_dataloader' does not have many workers which may be a bottleneck. Consider increasing the value of the `num_workers` argument` to `num_workers=15` in the `DataLoader` to improve performance.\n",
      "\n",
      "/home/jackson/neural-pairwise-regression/.venv/lib/python3.12/site-packages/lightning/pytorch/trainer/connectors/data_connector.py:425: PossibleUserWarning:\n",
      "\n",
      "The 'train_dataloader' does not have many workers which may be a bottleneck. Consider increasing the value of the `num_workers` argument` to `num_workers=15` in the `DataLoader` to improve performance.\n",
      "\n"
     ]
    },
    {
     "name": "stdout",
     "output_type": "stream",
     "text": [
      "Epoch 33: 100%|██████████| 15/15 [00:00<00:00, 140.29it/s, v_num=8, training/loss=0.189, validation/loss=0.168] \n"
     ]
    },
    {
     "name": "stderr",
     "output_type": "stream",
     "text": [
      "LOCAL_RANK: 0 - CUDA_VISIBLE_DEVICES: [0]\n",
      "/home/jackson/neural-pairwise-regression/.venv/lib/python3.12/site-packages/lightning/pytorch/trainer/connectors/data_connector.py:425: PossibleUserWarning:\n",
      "\n",
      "The 'test_dataloader' does not have many workers which may be a bottleneck. Consider increasing the value of the `num_workers` argument` to `num_workers=15` in the `DataLoader` to improve performance.\n",
      "\n"
     ]
    },
    {
     "name": "stdout",
     "output_type": "stream",
     "text": [
      "Testing DataLoader 0: 100%|██████████| 7/7 [00:00<00:00, 343.60it/s]\n",
      "────────────────────────────────────────────────────────────────────────────────────────────────────────────────────────\n",
      "       Test metric             DataLoader 0\n",
      "────────────────────────────────────────────────────────────────────────────────────────────────────────────────────────\n",
      "      testing/loss          0.35291212797164917\n",
      "────────────────────────────────────────────────────────────────────────────────────────────────────────────────────────\n"
     ]
    },
    {
     "name": "stderr",
     "output_type": "stream",
     "text": [
      "LOCAL_RANK: 0 - CUDA_VISIBLE_DEVICES: [0]\n",
      "/home/jackson/neural-pairwise-regression/.venv/lib/python3.12/site-packages/lightning/pytorch/trainer/connectors/data_connector.py:425: PossibleUserWarning:\n",
      "\n",
      "The 'predict_dataloader' does not have many workers which may be a bottleneck. Consider increasing the value of the `num_workers` argument` to `num_workers=15` in the `DataLoader` to improve performance.\n",
      "\n"
     ]
    },
    {
     "name": "stdout",
     "output_type": "stream",
     "text": [
      "Predicting DataLoader 0: 100%|██████████| 13/13 [00:00<00:00, 631.88it/s]\n"
     ]
    }
   ],
   "source": [
    "training_dataset = torch.utils.data.TensorDataset(X[train_idxs], y[train_idxs])\n",
    "validation_dataset = torch.utils.data.TensorDataset(X[val_idxs], y[val_idxs])\n",
    "testing_dataset = torch.utils.data.TensorDataset(X[test_idxs], y[test_idxs])\n",
    "predict_dataset = torch.utils.data.TensorDataset(X[test_idxs])\n",
    "train_loader = torch.utils.data.DataLoader(training_dataset, batch_size=8, shuffle=True)\n",
    "val_loader = torch.utils.data.DataLoader(validation_dataset, batch_size=8)\n",
    "test_loader = torch.utils.data.DataLoader(testing_dataset, batch_size=8)\n",
    "predict_loader = torch.utils.data.DataLoader(predict_dataset, batch_size=4)\n",
    "fnn = FNN(2, 50, 3)\n",
    "early_stopping = EarlyStopping(monitor=\"validation/loss\")\n",
    "model_checkpoint = ModelCheckpoint(monitor=\"validation/loss\")\n",
    "trainer = lightning.Trainer(max_epochs=50, log_every_n_steps=1, callbacks=[early_stopping, model_checkpoint])\n",
    "trainer.fit(fnn, train_loader, val_loader)\n",
    "fnn = FNN.load_from_checkpoint(model_checkpoint.best_model_path)  # reload best model based on early stopping\n",
    "trainer.test(fnn, test_loader)\n",
    "y_pred = torch.vstack(trainer.predict(fnn, predict_loader)).numpy()\n"
   ]
  },
  {
   "cell_type": "code",
   "execution_count": 24,
   "metadata": {},
   "outputs": [
    {
     "data": {
      "application/vnd.plotly.v1+json": {
       "config": {
        "plotlyServerURL": "https://plot.ly"
       },
       "data": [
        {
         "marker": {
          "color": "blue",
          "opacity": 0.2,
          "size": 4
         },
         "mode": "markers",
         "name": "Testing",
         "type": "scatter3d",
         "x": {
          "bdata": "rhhlP15kCT8izyQ/MVNsP/dAKz9Gy0U/FT5uP5zjVT9lz3s/BrYPPweaWT8SWzw/IQ4JP/YVaD8spB8/KSUgP0oYaj8P0Sw/2/8VP9h5Gj+6XDQ/sS4nPy+Wbj8rZlw/w2ljP8HWaj9PMEY/4dp5P0ZvDj8aeBA//vwzP7UNNj8B6gk/XsBJPxEtRj+oyiU/uO0FP/bNET9gKkY/kt55P0pmWj/epUk/Cw5cP4hkED9DPn4/9mMZPwl4FT9qQxY/yiBhP+sSVT8=",
          "dtype": "f4"
         },
         "y": {
          "bdata": "BBZMP+6VAj/xNlg/3DJhP2MEBD8h6kI/5pUAP4BpUT/cNn8/9aQ3P2+EMj9bTxs/vyJmPw3HcD8/6ik/j51IPxnzED8j4WQ/+RZ5Pw/iGT9iugY/ffxDP5jlYz8R42A/XQk6PxmBWj+q01c/36c+P2goVD8wBE4/jjI8PzVWWj/x8lk/kE5pP291Cz/dnmM/xK0DP3PEZj/DtzE/ro4aP4XNaj8o/w4/6KNjP3FtHz+yDEU/vL9LP4EFRT83kxY/G/N2P4WNTz8=",
          "dtype": "f4"
         },
         "z": {
          "bdata": "EDErQDggCL7w/p0//KtNQIAmmrsGj9E/4lPWPxxzGUDj0H5At3cRPz77+T+7qzc/svLBP5+eXkCyGbg+mXxiP/D96D+QE9A/tpbrP9iFuT2ctGk+ufViPy4nU0CYhzhAEVcUQNKQQ0DMugJA32wqQMgUjD8pXXY/UTKBP3euzz9CkKA/FNkgQOvbTD8DYb0/gHGQvUaWuT+Rfa0/+uoFQCyGQkA2UHQ/eJw7QBjdOz5wfTFAIlRnP9AcRz9Auhs90WJeQFarFUA=",
          "dtype": "f4"
         }
        },
        {
         "marker": {
          "color": "blue",
          "opacity": 0.4,
          "size": 4,
          "symbol": "diamond"
         },
         "mode": "markers",
         "name": "Predictions",
         "type": "scatter3d",
         "x": {
          "bdata": "rhhlP15kCT8izyQ/MVNsP/dAKz9Gy0U/FT5uP5zjVT9lz3s/BrYPPweaWT8SWzw/IQ4JP/YVaD8spB8/KSUgP0oYaj8P0Sw/2/8VP9h5Gj+6XDQ/sS4nPy+Wbj8rZlw/w2ljP8HWaj9PMEY/4dp5P0ZvDj8aeBA//vwzP7UNNj8B6gk/XsBJPxEtRj+oyiU/uO0FP/bNET9gKkY/kt55P0pmWj/epUk/Cw5cP4hkED9DPn4/9mMZPwl4FT9qQxY/yiBhP+sSVT8=",
          "dtype": "f4"
         },
         "y": {
          "bdata": "BBZMP+6VAj/xNlg/3DJhP2MEBD8h6kI/5pUAP4BpUT/cNn8/9aQ3P2+EMj9bTxs/vyJmPw3HcD8/6ik/j51IPxnzED8j4WQ/+RZ5Pw/iGT9iugY/ffxDP5jlYz8R42A/XQk6PxmBWj+q01c/36c+P2goVD8wBE4/jjI8PzVWWj/x8lk/kE5pP291Cz/dnmM/xK0DP3PEZj/DtzE/ro4aP4XNaj8o/w4/6KNjP3FtHz+yDEU/vL9LP4EFRT83kxY/G/N2P4WNTz8=",
          "dtype": "f4"
         },
         "z": {
          "bdata": "FPIFQN5a6j7SUPI/PSIcQBHsxz6+gNE/Cse/P+rc/j+xyz5ATjGtP3L60j9NDXw/2CAPQAjoJUBseoc/lEXQP0w9wj9iSQVAcJoeQPgSTD+3sQg/3j7DP0DwH0Cg1hBA8r3tP0OlFUDKXvg/AKULQAAq8j+4M+I/7pWzP/Aq8z/gfwFAnV4OQI3aYD/cKQVAnT8BP9D8C0C8obI/gAnvP+yKGECtmXw/hwATQGqhaz9rrBNAOnTZP7w5yj/0TT8/PDwnQGig+j8=",
          "dtype": "f4"
         }
        }
       ],
       "layout": {
        "autosize": false,
        "height": 500,
        "template": {
         "data": {
          "bar": [
           {
            "error_x": {
             "color": "#2a3f5f"
            },
            "error_y": {
             "color": "#2a3f5f"
            },
            "marker": {
             "line": {
              "color": "#E5ECF6",
              "width": 0.5
             },
             "pattern": {
              "fillmode": "overlay",
              "size": 10,
              "solidity": 0.2
             }
            },
            "type": "bar"
           }
          ],
          "barpolar": [
           {
            "marker": {
             "line": {
              "color": "#E5ECF6",
              "width": 0.5
             },
             "pattern": {
              "fillmode": "overlay",
              "size": 10,
              "solidity": 0.2
             }
            },
            "type": "barpolar"
           }
          ],
          "carpet": [
           {
            "aaxis": {
             "endlinecolor": "#2a3f5f",
             "gridcolor": "white",
             "linecolor": "white",
             "minorgridcolor": "white",
             "startlinecolor": "#2a3f5f"
            },
            "baxis": {
             "endlinecolor": "#2a3f5f",
             "gridcolor": "white",
             "linecolor": "white",
             "minorgridcolor": "white",
             "startlinecolor": "#2a3f5f"
            },
            "type": "carpet"
           }
          ],
          "choropleth": [
           {
            "colorbar": {
             "outlinewidth": 0,
             "ticks": ""
            },
            "type": "choropleth"
           }
          ],
          "contour": [
           {
            "colorbar": {
             "outlinewidth": 0,
             "ticks": ""
            },
            "colorscale": [
             [
              0,
              "#0d0887"
             ],
             [
              0.1111111111111111,
              "#46039f"
             ],
             [
              0.2222222222222222,
              "#7201a8"
             ],
             [
              0.3333333333333333,
              "#9c179e"
             ],
             [
              0.4444444444444444,
              "#bd3786"
             ],
             [
              0.5555555555555556,
              "#d8576b"
             ],
             [
              0.6666666666666666,
              "#ed7953"
             ],
             [
              0.7777777777777778,
              "#fb9f3a"
             ],
             [
              0.8888888888888888,
              "#fdca26"
             ],
             [
              1,
              "#f0f921"
             ]
            ],
            "type": "contour"
           }
          ],
          "contourcarpet": [
           {
            "colorbar": {
             "outlinewidth": 0,
             "ticks": ""
            },
            "type": "contourcarpet"
           }
          ],
          "heatmap": [
           {
            "colorbar": {
             "outlinewidth": 0,
             "ticks": ""
            },
            "colorscale": [
             [
              0,
              "#0d0887"
             ],
             [
              0.1111111111111111,
              "#46039f"
             ],
             [
              0.2222222222222222,
              "#7201a8"
             ],
             [
              0.3333333333333333,
              "#9c179e"
             ],
             [
              0.4444444444444444,
              "#bd3786"
             ],
             [
              0.5555555555555556,
              "#d8576b"
             ],
             [
              0.6666666666666666,
              "#ed7953"
             ],
             [
              0.7777777777777778,
              "#fb9f3a"
             ],
             [
              0.8888888888888888,
              "#fdca26"
             ],
             [
              1,
              "#f0f921"
             ]
            ],
            "type": "heatmap"
           }
          ],
          "histogram": [
           {
            "marker": {
             "pattern": {
              "fillmode": "overlay",
              "size": 10,
              "solidity": 0.2
             }
            },
            "type": "histogram"
           }
          ],
          "histogram2d": [
           {
            "colorbar": {
             "outlinewidth": 0,
             "ticks": ""
            },
            "colorscale": [
             [
              0,
              "#0d0887"
             ],
             [
              0.1111111111111111,
              "#46039f"
             ],
             [
              0.2222222222222222,
              "#7201a8"
             ],
             [
              0.3333333333333333,
              "#9c179e"
             ],
             [
              0.4444444444444444,
              "#bd3786"
             ],
             [
              0.5555555555555556,
              "#d8576b"
             ],
             [
              0.6666666666666666,
              "#ed7953"
             ],
             [
              0.7777777777777778,
              "#fb9f3a"
             ],
             [
              0.8888888888888888,
              "#fdca26"
             ],
             [
              1,
              "#f0f921"
             ]
            ],
            "type": "histogram2d"
           }
          ],
          "histogram2dcontour": [
           {
            "colorbar": {
             "outlinewidth": 0,
             "ticks": ""
            },
            "colorscale": [
             [
              0,
              "#0d0887"
             ],
             [
              0.1111111111111111,
              "#46039f"
             ],
             [
              0.2222222222222222,
              "#7201a8"
             ],
             [
              0.3333333333333333,
              "#9c179e"
             ],
             [
              0.4444444444444444,
              "#bd3786"
             ],
             [
              0.5555555555555556,
              "#d8576b"
             ],
             [
              0.6666666666666666,
              "#ed7953"
             ],
             [
              0.7777777777777778,
              "#fb9f3a"
             ],
             [
              0.8888888888888888,
              "#fdca26"
             ],
             [
              1,
              "#f0f921"
             ]
            ],
            "type": "histogram2dcontour"
           }
          ],
          "mesh3d": [
           {
            "colorbar": {
             "outlinewidth": 0,
             "ticks": ""
            },
            "type": "mesh3d"
           }
          ],
          "parcoords": [
           {
            "line": {
             "colorbar": {
              "outlinewidth": 0,
              "ticks": ""
             }
            },
            "type": "parcoords"
           }
          ],
          "pie": [
           {
            "automargin": true,
            "type": "pie"
           }
          ],
          "scatter": [
           {
            "fillpattern": {
             "fillmode": "overlay",
             "size": 10,
             "solidity": 0.2
            },
            "type": "scatter"
           }
          ],
          "scatter3d": [
           {
            "line": {
             "colorbar": {
              "outlinewidth": 0,
              "ticks": ""
             }
            },
            "marker": {
             "colorbar": {
              "outlinewidth": 0,
              "ticks": ""
             }
            },
            "type": "scatter3d"
           }
          ],
          "scattercarpet": [
           {
            "marker": {
             "colorbar": {
              "outlinewidth": 0,
              "ticks": ""
             }
            },
            "type": "scattercarpet"
           }
          ],
          "scattergeo": [
           {
            "marker": {
             "colorbar": {
              "outlinewidth": 0,
              "ticks": ""
             }
            },
            "type": "scattergeo"
           }
          ],
          "scattergl": [
           {
            "marker": {
             "colorbar": {
              "outlinewidth": 0,
              "ticks": ""
             }
            },
            "type": "scattergl"
           }
          ],
          "scattermap": [
           {
            "marker": {
             "colorbar": {
              "outlinewidth": 0,
              "ticks": ""
             }
            },
            "type": "scattermap"
           }
          ],
          "scattermapbox": [
           {
            "marker": {
             "colorbar": {
              "outlinewidth": 0,
              "ticks": ""
             }
            },
            "type": "scattermapbox"
           }
          ],
          "scatterpolar": [
           {
            "marker": {
             "colorbar": {
              "outlinewidth": 0,
              "ticks": ""
             }
            },
            "type": "scatterpolar"
           }
          ],
          "scatterpolargl": [
           {
            "marker": {
             "colorbar": {
              "outlinewidth": 0,
              "ticks": ""
             }
            },
            "type": "scatterpolargl"
           }
          ],
          "scatterternary": [
           {
            "marker": {
             "colorbar": {
              "outlinewidth": 0,
              "ticks": ""
             }
            },
            "type": "scatterternary"
           }
          ],
          "surface": [
           {
            "colorbar": {
             "outlinewidth": 0,
             "ticks": ""
            },
            "colorscale": [
             [
              0,
              "#0d0887"
             ],
             [
              0.1111111111111111,
              "#46039f"
             ],
             [
              0.2222222222222222,
              "#7201a8"
             ],
             [
              0.3333333333333333,
              "#9c179e"
             ],
             [
              0.4444444444444444,
              "#bd3786"
             ],
             [
              0.5555555555555556,
              "#d8576b"
             ],
             [
              0.6666666666666666,
              "#ed7953"
             ],
             [
              0.7777777777777778,
              "#fb9f3a"
             ],
             [
              0.8888888888888888,
              "#fdca26"
             ],
             [
              1,
              "#f0f921"
             ]
            ],
            "type": "surface"
           }
          ],
          "table": [
           {
            "cells": {
             "fill": {
              "color": "#EBF0F8"
             },
             "line": {
              "color": "white"
             }
            },
            "header": {
             "fill": {
              "color": "#C8D4E3"
             },
             "line": {
              "color": "white"
             }
            },
            "type": "table"
           }
          ]
         },
         "layout": {
          "annotationdefaults": {
           "arrowcolor": "#2a3f5f",
           "arrowhead": 0,
           "arrowwidth": 1
          },
          "autotypenumbers": "strict",
          "coloraxis": {
           "colorbar": {
            "outlinewidth": 0,
            "ticks": ""
           }
          },
          "colorscale": {
           "diverging": [
            [
             0,
             "#8e0152"
            ],
            [
             0.1,
             "#c51b7d"
            ],
            [
             0.2,
             "#de77ae"
            ],
            [
             0.3,
             "#f1b6da"
            ],
            [
             0.4,
             "#fde0ef"
            ],
            [
             0.5,
             "#f7f7f7"
            ],
            [
             0.6,
             "#e6f5d0"
            ],
            [
             0.7,
             "#b8e186"
            ],
            [
             0.8,
             "#7fbc41"
            ],
            [
             0.9,
             "#4d9221"
            ],
            [
             1,
             "#276419"
            ]
           ],
           "sequential": [
            [
             0,
             "#0d0887"
            ],
            [
             0.1111111111111111,
             "#46039f"
            ],
            [
             0.2222222222222222,
             "#7201a8"
            ],
            [
             0.3333333333333333,
             "#9c179e"
            ],
            [
             0.4444444444444444,
             "#bd3786"
            ],
            [
             0.5555555555555556,
             "#d8576b"
            ],
            [
             0.6666666666666666,
             "#ed7953"
            ],
            [
             0.7777777777777778,
             "#fb9f3a"
            ],
            [
             0.8888888888888888,
             "#fdca26"
            ],
            [
             1,
             "#f0f921"
            ]
           ],
           "sequentialminus": [
            [
             0,
             "#0d0887"
            ],
            [
             0.1111111111111111,
             "#46039f"
            ],
            [
             0.2222222222222222,
             "#7201a8"
            ],
            [
             0.3333333333333333,
             "#9c179e"
            ],
            [
             0.4444444444444444,
             "#bd3786"
            ],
            [
             0.5555555555555556,
             "#d8576b"
            ],
            [
             0.6666666666666666,
             "#ed7953"
            ],
            [
             0.7777777777777778,
             "#fb9f3a"
            ],
            [
             0.8888888888888888,
             "#fdca26"
            ],
            [
             1,
             "#f0f921"
            ]
           ]
          },
          "colorway": [
           "#636efa",
           "#EF553B",
           "#00cc96",
           "#ab63fa",
           "#FFA15A",
           "#19d3f3",
           "#FF6692",
           "#B6E880",
           "#FF97FF",
           "#FECB52"
          ],
          "font": {
           "color": "#2a3f5f"
          },
          "geo": {
           "bgcolor": "white",
           "lakecolor": "white",
           "landcolor": "#E5ECF6",
           "showlakes": true,
           "showland": true,
           "subunitcolor": "white"
          },
          "hoverlabel": {
           "align": "left"
          },
          "hovermode": "closest",
          "mapbox": {
           "style": "light"
          },
          "paper_bgcolor": "white",
          "plot_bgcolor": "#E5ECF6",
          "polar": {
           "angularaxis": {
            "gridcolor": "white",
            "linecolor": "white",
            "ticks": ""
           },
           "bgcolor": "#E5ECF6",
           "radialaxis": {
            "gridcolor": "white",
            "linecolor": "white",
            "ticks": ""
           }
          },
          "scene": {
           "xaxis": {
            "backgroundcolor": "#E5ECF6",
            "gridcolor": "white",
            "gridwidth": 2,
            "linecolor": "white",
            "showbackground": true,
            "ticks": "",
            "zerolinecolor": "white"
           },
           "yaxis": {
            "backgroundcolor": "#E5ECF6",
            "gridcolor": "white",
            "gridwidth": 2,
            "linecolor": "white",
            "showbackground": true,
            "ticks": "",
            "zerolinecolor": "white"
           },
           "zaxis": {
            "backgroundcolor": "#E5ECF6",
            "gridcolor": "white",
            "gridwidth": 2,
            "linecolor": "white",
            "showbackground": true,
            "ticks": "",
            "zerolinecolor": "white"
           }
          },
          "shapedefaults": {
           "line": {
            "color": "#2a3f5f"
           }
          },
          "ternary": {
           "aaxis": {
            "gridcolor": "white",
            "linecolor": "white",
            "ticks": ""
           },
           "baxis": {
            "gridcolor": "white",
            "linecolor": "white",
            "ticks": ""
           },
           "bgcolor": "#E5ECF6",
           "caxis": {
            "gridcolor": "white",
            "linecolor": "white",
            "ticks": ""
           }
          },
          "title": {
           "x": 0.05
          },
          "xaxis": {
           "automargin": true,
           "gridcolor": "white",
           "linecolor": "white",
           "ticks": "",
           "title": {
            "standoff": 15
           },
           "zerolinecolor": "white",
           "zerolinewidth": 2
          },
          "yaxis": {
           "automargin": true,
           "gridcolor": "white",
           "linecolor": "white",
           "ticks": "",
           "title": {
            "standoff": 15
           },
           "zerolinecolor": "white",
           "zerolinewidth": 2
          }
         }
        },
        "width": 500
       }
      }
     },
     "metadata": {},
     "output_type": "display_data"
    },
    {
     "name": "stdout",
     "output_type": "stream",
     "text": [
      "0.29016318917274475\n"
     ]
    }
   ],
   "source": [
    "fig = go.Figure()\n",
    "fig.update_layout(\n",
    "    autosize=False,\n",
    "    width=500,\n",
    "    height=500,\n",
    ")\n",
    "# fig.add_trace(go.Scatter3d(x=X[train_idxs, 0], y=X[train_idxs, 1], z=y[train_idxs].flatten(), **TRAIN_MARKER, name=\"Training\"))\n",
    "# fig.add_trace(go.Scatter3d(x=X[val_idxs, 0], y=X[val_idxs, 1], z=y[val_idxs].flatten(), **VAL_MARKER, name=\"Validation\"))\n",
    "fig.add_trace(go.Scatter3d(x=X[test_idxs, 0], y=X[test_idxs, 1], z=y[test_idxs].flatten(), **TEST_MARKER, name=\"Testing\"))\n",
    "fig.add_trace(go.Scatter3d(x=X[test_idxs, 0], y=X[test_idxs, 1], z=y_pred.flatten(), **TEST_PRED, name=\"Predictions\"))\n",
    "fig.show()\n",
    "print(mean_absolute_percentage_error(y[test_idxs], y_pred, sample_weight=y[test_idxs]))"
   ]
  },
  {
   "cell_type": "code",
   "execution_count": 10,
   "metadata": {},
   "outputs": [],
   "source": [
    "training_dataset = PairwiseAugmentedDataset(X[train_idxs], y[train_idxs], how='full')\n",
    "validation_dataset = PairwiseAnchoredDataset(X[train_idxs], y[train_idxs], X[val_idxs], y[val_idxs], how='full')\n",
    "# for metrics reported in the pairwise space\n",
    "testing_dataset = PairwiseAnchoredDataset(X[train_idxs], y[train_idxs], X[test_idxs], y[test_idxs], how='full')\n",
    "# for metrics reported in the absolute space\n",
    "predict_dataset = PairwiseInferenceDataset(X[train_idxs], y[train_idxs], X[test_idxs], how='full')\n",
    "train_loader = torch.utils.data.DataLoader(training_dataset, batch_size=64, shuffle=True)\n",
    "val_loader = torch.utils.data.DataLoader(validation_dataset, batch_size=64)\n",
    "test_loader = torch.utils.data.DataLoader(testing_dataset, batch_size=64)\n",
    "predict_loader = torch.utils.data.DataLoader(predict_dataset, batch_size=4)"
   ]
  },
  {
   "cell_type": "code",
   "execution_count": 11,
   "metadata": {},
   "outputs": [],
   "source": [
    "npr = NPR(2, 50, 3)\n",
    "early_stopping = EarlyStopping(monitor=\"validation/loss\")\n",
    "model_checkpoint = ModelCheckpoint(monitor=\"validation/loss\")"
   ]
  },
  {
   "cell_type": "code",
   "execution_count": 12,
   "metadata": {},
   "outputs": [
    {
     "name": "stderr",
     "output_type": "stream",
     "text": [
      "GPU available: True (cuda), used: True\n",
      "TPU available: False, using: 0 TPU cores\n",
      "HPU available: False, using: 0 HPUs\n",
      "LOCAL_RANK: 0 - CUDA_VISIBLE_DEVICES: [0]\n",
      "\n",
      "  | Name | Type       | Params | Mode \n",
      "--------------------------------------------\n",
      "0 | fnn  | Sequential | 5.4 K  | train\n",
      "--------------------------------------------\n",
      "5.4 K     Trainable params\n",
      "0         Non-trainable params\n",
      "5.4 K     Total params\n",
      "0.022     Total estimated model params size (MB)\n",
      "8         Modules in train mode\n",
      "0         Modules in eval mode\n"
     ]
    },
    {
     "name": "stdout",
     "output_type": "stream",
     "text": [
      "Sanity Checking DataLoader 0:   0%|          | 0/2 [00:00<?, ?it/s]"
     ]
    },
    {
     "name": "stderr",
     "output_type": "stream",
     "text": [
      "/home/jackson/neural-pairwise-regression/.venv/lib/python3.12/site-packages/lightning/pytorch/trainer/connectors/data_connector.py:425: PossibleUserWarning:\n",
      "\n",
      "The 'val_dataloader' does not have many workers which may be a bottleneck. Consider increasing the value of the `num_workers` argument` to `num_workers=15` in the `DataLoader` to improve performance.\n",
      "\n"
     ]
    },
    {
     "name": "stdout",
     "output_type": "stream",
     "text": [
      "                                                                            \r"
     ]
    },
    {
     "name": "stderr",
     "output_type": "stream",
     "text": [
      "/home/jackson/neural-pairwise-regression/.venv/lib/python3.12/site-packages/lightning/pytorch/trainer/connectors/data_connector.py:425: PossibleUserWarning:\n",
      "\n",
      "The 'train_dataloader' does not have many workers which may be a bottleneck. Consider increasing the value of the `num_workers` argument` to `num_workers=15` in the `DataLoader` to improve performance.\n",
      "\n"
     ]
    },
    {
     "name": "stdout",
     "output_type": "stream",
     "text": [
      "Epoch 34: 100%|██████████| 225/225 [00:02<00:00, 109.58it/s, v_num=7, training/loss=0.00612, validation/loss=0.00605]\n"
     ]
    }
   ],
   "source": [
    "trainer = lightning.Trainer(max_epochs=50, log_every_n_steps=1, callbacks=[early_stopping, model_checkpoint])\n",
    "trainer.fit(npr, train_loader, val_loader)"
   ]
  },
  {
   "cell_type": "code",
   "execution_count": 13,
   "metadata": {},
   "outputs": [],
   "source": [
    "npr = NPR.load_from_checkpoint(model_checkpoint.best_model_path)  # reload best model based on early stopping"
   ]
  },
  {
   "cell_type": "code",
   "execution_count": 14,
   "metadata": {},
   "outputs": [
    {
     "name": "stderr",
     "output_type": "stream",
     "text": [
      "LOCAL_RANK: 0 - CUDA_VISIBLE_DEVICES: [0]\n",
      "/home/jackson/neural-pairwise-regression/.venv/lib/python3.12/site-packages/lightning/pytorch/trainer/connectors/data_connector.py:425: PossibleUserWarning:\n",
      "\n",
      "The 'test_dataloader' does not have many workers which may be a bottleneck. Consider increasing the value of the `num_workers` argument` to `num_workers=15` in the `DataLoader` to improve performance.\n",
      "\n"
     ]
    },
    {
     "name": "stdout",
     "output_type": "stream",
     "text": [
      "Testing DataLoader 0: 100%|██████████| 188/188 [00:00<00:00, 279.15it/s]\n",
      "────────────────────────────────────────────────────────────────────────────────────────────────────────────────────────\n",
      "       Test metric             DataLoader 0\n",
      "────────────────────────────────────────────────────────────────────────────────────────────────────────────────────────\n",
      "      testing/loss          0.19617216289043427\n",
      "────────────────────────────────────────────────────────────────────────────────────────────────────────────────────────\n"
     ]
    },
    {
     "data": {
      "text/plain": [
       "[{'testing/loss': 0.19617216289043427}]"
      ]
     },
     "execution_count": 14,
     "metadata": {},
     "output_type": "execute_result"
    }
   ],
   "source": [
    "trainer.test(npr, test_loader)"
   ]
  },
  {
   "cell_type": "code",
   "execution_count": 15,
   "metadata": {},
   "outputs": [
    {
     "name": "stderr",
     "output_type": "stream",
     "text": [
      "GPU available: True (cuda), used: True\n",
      "TPU available: False, using: 0 TPU cores\n",
      "HPU available: False, using: 0 HPUs\n",
      "LOCAL_RANK: 0 - CUDA_VISIBLE_DEVICES: [0]\n",
      "/home/jackson/neural-pairwise-regression/.venv/lib/python3.12/site-packages/lightning/pytorch/trainer/connectors/data_connector.py:425: PossibleUserWarning:\n",
      "\n",
      "The 'predict_dataloader' does not have many workers which may be a bottleneck. Consider increasing the value of the `num_workers` argument` to `num_workers=15` in the `DataLoader` to improve performance.\n",
      "\n"
     ]
    },
    {
     "name": "stdout",
     "output_type": "stream",
     "text": [
      "Predicting DataLoader 0: 100%|██████████| 3000/3000 [00:05<00:00, 584.56it/s]\n"
     ]
    }
   ],
   "source": [
    "y_pred, y_stdev = predict(npr, predict_loader, how=\"all\")"
   ]
  },
  {
   "cell_type": "code",
   "execution_count": 21,
   "metadata": {},
   "outputs": [
    {
     "data": {
      "application/vnd.plotly.v1+json": {
       "config": {
        "plotlyServerURL": "https://plot.ly"
       },
       "data": [
        {
         "marker": {
          "color": "red",
          "opacity": 0.2,
          "size": 4
         },
         "mode": "markers",
         "name": "Training",
         "type": "scatter3d",
         "x": {
          "bdata": "UXMEP2b/BD91JUo/w+QbPwCn6TxWXrU+ob4tP60uJT8wx0k+dgHcPvAabD0IQbM+B8wRP4kwaz8Cq/Y+Ml50P1DlDj0Z8FQ/m+16PzgthT5CO0E/WM6VPoCmMT/o1lA/JWYuPxZgnz7eoD4/IPdbPYLwvj58GZ0+FhA4P4BDMT0JiwU/KlmmPmbdnD7EWYM+ZOKSPnZ8nj6Yu5g9XLt7PuCH7TxTPg0/7O1/P4Cnqj7uo50+058fP4iguj6Wk8o+LBgxPw4j7D5O9KU+cNgMPYBj8Ts4fdM9vIeEPtxPjz4lpGo/YmbwPkCMpj3vA1M/kql5P3+wBj+wkUI9IOJ3PX+PLj+wqO4+ZNmgPs7GQz9cyp8+sYp5P+gw9j5AJ+I9lLYuP9h7Iz7wPgY+mPm7PbgQNz7uR/Y+Yg6FPiDvWD/otpg+HJ+ePmhc1j524DU/APxEPnxelD6WV0c/eNiiPvC6zD3+Q10/OqfZPoDdhDvAJ0E8wcQUP+Tn+j4NyRw/1mtrP0p0CD9AOwg+porRPrE6Wz+TR2s/PTw4P8Q6dT+yPtM+iAjpPgT7Pz+cf24/3t0DP/yxAD9EEW4+3FLXPnBmbj7h1DA/qBTZPqDEaT2a6RE/qG/ePcG3cT8I8ak+",
          "dtype": "f4"
         },
         "y": {
          "bdata": "vPATPsQqkj4EHp0+AGHrPbJrdj/gwyE9KKTZPuwmJj6YyzI+4uXVPnhyKj7I+h4/wA8gPsD5kz6Asi0/cNMKPlaReD9M3S8+DKtPPlC3dj5oCtk+jjY7P0gnKz7KrNw+IPPQPcimpj0I7jA+SAv2PfjYdz6UWqw+atPZPmBl8D34qJw9aj3MPjUSPj+k5JA+/hkOP6i0dT5I6sk+Wc8RP96svT5a04I+UOtlPWgmEj61F00/sIDcPTwTQT6EO3k/mF/UPhwbfz7y7vM+1O9OPjIu8j7/1TE/BCNcPvsgbz+o7WY+9CQWPrCIcT8ChNA+smi+PqAuyT5SuF4/y3QYP2DjKT5RAm0/c+MtPwDo3TtAwDc9cvj9Pu6JuD5Kf14/bhXpPqSEAj5YBG4/451vP7IJdT928no/Ix5rP4DyWj7yKdQ+TEddPqr6kD5gWNA9bCUdPq6fcj8Whd8+km+GPvh1/T6cDSU+ltnaPs89Kj/fj1g/7G8RPpkiKz/E3GI+aDz7PgT0qD4kOgI+K/R/P0SBij68LxM+wIApPoAxxz1ZciE/PRx6P1Bq7z6AFKc+CBJ/PozX1j6vGzU/yuD/Piqynj4ayME+cE0FPplBUT9YMv8+UEmiPbRm2T7OWYk+",
          "dtype": "f4"
         },
         "z": {
          "bdata": "sAlHv4/RGr+L/aE+V51yv3JgQED9d50+ULFYvg5YUr93tIs/bndtPvowBz+a3r4/Gx5qv/0jkD/SMDo/6gqEP/ekRkAJ/eY+hMiPPyD/hT+Q+Zc+sKEUQAmSFb8jR0w/hXg1v+ZJID8eR2y+Mm7rPhigqj42X3k/ICYVPSzowj5tMFe/tVp+P5+bEkA0MpA/7C/WP+Y7Sj8io4M/uqzyP4pAJD/QiEK/9MZ/Pw3ABD/GZSNA2Wptv9QbqT7udzRASLEovqhuq77i6Jk/+M3JPoPoOj+XtgtA9BOCP8/AWUCkhII/Rx4Dv+OsUUCbuk0/fu+0P1hY076UEClAVsTDP150J79AGQFAgGj8P+w4KL7VbBs/4EjeP3RPhL4WgEJAENDkvQbDgD8Yc11AQBhTQP9Gb0Ao8g5AoN1ZQPbxHD/WsZk/7nNBP9Q8DD2IgAi/hvqIP+plW0BnngQ/yuNEP//muT9kDis/SGOVPvX3rT9HbQ9AdP5vvwljIz+g1VW/YfjMPzgWE78FSGw/znk3QKjbQT8zWHA/HufWvs9QgT/UcYQ/5ZsYQGd/wD4vvp4/0tgkv7RreL4rcB1Avj0HP957nz/eqIO+vpJJvoCAHEDA6Hi+t05IP0iBvz8t5y4/",
          "dtype": "f4"
         }
        },
        {
         "marker": {
          "color": "green",
          "opacity": 0.2,
          "size": 4
         },
         "mode": "markers",
         "name": "Validation",
         "type": "scatter3d",
         "x": {
          "bdata": "GmdMPzBVHT2YHo0+IHTlPqim+T4u3iw/iON8PjR39T4esqc+8LeVPtWcWj8gE1I/LtDKPnBh7j0Mfls++3hyP165nD4YQ98+aIP/PnqAPT/wh2o+iivOPtqUxz40p1I+JDKsPuMmLD/MXXM+osuLPnC6aD4gQJk+",
          "dtype": "f4"
         },
         "y": {
          "bdata": "DJciPuU1QD/grRk/OMgtPiLdFD8wEs0+5lWzPkPCDz/G0UE/9P9CPhhy6z78/tE+gMFiP0gKfT6ltRI//mnJPhFoXD+igvw+oKZGPuQvHT5OUmk/ubpYPwTrCz4tEHY/hclCP8Qhez6Savw+lvhsP2ClrD22Q6Q+",
          "dtype": "f4"
         },
         "z": {
          "bdata": "3yg4Pucw/z8ofvE/lYSvvurzpj7djZS+8MKkPxj3nD5/7g1Ah+RTP1rwkz/ZWEg/ZeMUQHBKfD9xyvw/UI62P18yN0CPisc+do8jv3DFkL5JUF1AbIIEQJQUoj1YNHFAPA4LQMfiGr9PZ9Y/kNhYQOKpfT+G/3w/",
          "dtype": "f4"
         }
        },
        {
         "marker": {
          "color": "blue",
          "opacity": 0.2,
          "size": 4
         },
         "mode": "markers",
         "name": "Testing",
         "type": "scatter3d",
         "x": {
          "bdata": "rhhlP15kCT8izyQ/MVNsP/dAKz9Gy0U/FT5uP5zjVT9lz3s/BrYPPweaWT8SWzw/IQ4JP/YVaD8spB8/KSUgP0oYaj8P0Sw/2/8VP9h5Gj+6XDQ/sS4nPy+Wbj8rZlw/w2ljP8HWaj9PMEY/4dp5P0ZvDj8aeBA//vwzP7UNNj8B6gk/XsBJPxEtRj+oyiU/uO0FP/bNET9gKkY/kt55P0pmWj/epUk/Cw5cP4hkED9DPn4/9mMZPwl4FT9qQxY/yiBhP+sSVT8=",
          "dtype": "f4"
         },
         "y": {
          "bdata": "BBZMP+6VAj/xNlg/3DJhP2MEBD8h6kI/5pUAP4BpUT/cNn8/9aQ3P2+EMj9bTxs/vyJmPw3HcD8/6ik/j51IPxnzED8j4WQ/+RZ5Pw/iGT9iugY/ffxDP5jlYz8R42A/XQk6PxmBWj+q01c/36c+P2goVD8wBE4/jjI8PzVWWj/x8lk/kE5pP291Cz/dnmM/xK0DP3PEZj/DtzE/ro4aP4XNaj8o/w4/6KNjP3FtHz+yDEU/vL9LP4EFRT83kxY/G/N2P4WNTz8=",
          "dtype": "f4"
         },
         "z": {
          "bdata": "EDErQDggCL7w/p0//KtNQIAmmrsGj9E/4lPWPxxzGUDj0H5At3cRPz77+T+7qzc/svLBP5+eXkCyGbg+mXxiP/D96D+QE9A/tpbrP9iFuT2ctGk+ufViPy4nU0CYhzhAEVcUQNKQQ0DMugJA32wqQMgUjD8pXXY/UTKBP3euzz9CkKA/FNkgQOvbTD8DYb0/gHGQvUaWuT+Rfa0/+uoFQCyGQkA2UHQ/eJw7QBjdOz5wfTFAIlRnP9AcRz9Auhs90WJeQFarFUA=",
          "dtype": "f4"
         }
        },
        {
         "error_z": {
          "array": [
           0.11877013705667286,
           0.08139968503915308,
           0.13834874757461474,
           0.12998369176388497,
           0.08081284150284547,
           0.1283418923905425,
           0.06191808642712457,
           0.1363732842031224,
           0.14664665157634368,
           0.09728324778170867,
           0.10643573081956598,
           0.07973382945908444,
           0.1021669271008183,
           0.1507788525807957,
           0.09891571762706058,
           0.12413321634312274,
           0.07233508428759956,
           0.14985241685380016,
           0.18257460802545455,
           0.09020527750685305,
           0.06244578654899829,
           0.1147637273144619,
           0.1304463738352935,
           0.14691204331114777,
           0.10737807735480182,
           0.1255212502518005,
           0.16053543289064498,
           0.10106573769546151,
           0.11627214225275982,
           0.11773024787507003,
           0.12691440743516363,
           0.1645847046719137,
           0.1005475158218652,
           0.18562528880368737,
           0.0675798451333164,
           0.1535316783425946,
           0.07862850399784241,
           0.14700535715759921,
           0.10597833985190022,
           0.07844641618522018,
           0.161335735103867,
           0.07146429997655696,
           0.15047442277936382,
           0.0756841118601589,
           0.10379493794356649,
           0.13040577153376612,
           0.1163999507528096,
           0.07975595949934393,
           0.16713793061071688,
           0.13501877039385035
          ],
          "type": "data",
          "visible": true
         },
         "marker": {
          "color": "blue",
          "opacity": 0.4,
          "size": 4,
          "symbol": "diamond"
         },
         "mode": "markers",
         "name": "Prediction",
         "type": "scatter3d",
         "x": {
          "bdata": "rhhlP15kCT8izyQ/MVNsP/dAKz9Gy0U/FT5uP5zjVT9lz3s/BrYPPweaWT8SWzw/IQ4JP/YVaD8spB8/KSUgP0oYaj8P0Sw/2/8VP9h5Gj+6XDQ/sS4nPy+Wbj8rZlw/w2ljP8HWaj9PMEY/4dp5P0ZvDj8aeBA//vwzP7UNNj8B6gk/XsBJPxEtRj+oyiU/uO0FP/bNET9gKkY/kt55P0pmWj/epUk/Cw5cP4hkED9DPn4/9mMZPwl4FT9qQxY/yiBhP+sSVT8=",
          "dtype": "f4"
         },
         "y": {
          "bdata": "BBZMP+6VAj/xNlg/3DJhP2MEBD8h6kI/5pUAP4BpUT/cNn8/9aQ3P2+EMj9bTxs/vyJmPw3HcD8/6ik/j51IPxnzED8j4WQ/+RZ5Pw/iGT9iugY/ffxDP5jlYz8R42A/XQk6PxmBWj+q01c/36c+P2goVD8wBE4/jjI8PzVWWj/x8lk/kE5pP291Cz/dnmM/xK0DP3PEZj/DtzE/ro4aP4XNaj8o/w4/6KNjP3FtHz+yDEU/vL9LP4EFRT83kxY/G/N2P4WNTz8=",
          "dtype": "f4"
         },
         "z": [
          2.1176493878165883,
          -0.14945943849161267,
          0.9923427609105905,
          2.4984902530908584,
          -0.026068731024861336,
          1.2591630985339484,
          1.5986783549189567,
          1.810176165898641,
          3.1440865486860274,
          0.5277023810893298,
          1.590230017900467,
          0.6078144542872905,
          1.4513201574484507,
          2.5668004135290783,
          0.29553111276278893,
          0.7344357699155808,
          1.6564953327178955,
          1.2473355365296206,
          1.5694466973344485,
          0.05826246546736608,
          0.20327028101310135,
          0.7134878732264042,
          2.576507806777954,
          2.1300581241647403,
          1.8979011754194894,
          2.3959604769945146,
          1.50179443359375,
          2.440458928545316,
          1.0232787484923997,
          0.8887760125100612,
          0.7804315129915873,
          1.2096792601048947,
          1.2051986339191596,
          1.788998335103194,
          0.7206433393061161,
          1.1749179216722647,
          -0.08037080513313413,
          1.302438530822595,
          1.0873988608519236,
          2.08768161435922,
          2.1901379312078157,
          0.8450567414363225,
          2.151512481768926,
          0.1523756190513571,
          2.5960016697645187,
          0.7767992903788884,
          0.6891613023976485,
          0.007095831042776505,
          2.476378614703814,
          1.7709482689698537
         ]
        }
       ],
       "layout": {
        "autosize": false,
        "height": 500,
        "template": {
         "data": {
          "bar": [
           {
            "error_x": {
             "color": "#2a3f5f"
            },
            "error_y": {
             "color": "#2a3f5f"
            },
            "marker": {
             "line": {
              "color": "#E5ECF6",
              "width": 0.5
             },
             "pattern": {
              "fillmode": "overlay",
              "size": 10,
              "solidity": 0.2
             }
            },
            "type": "bar"
           }
          ],
          "barpolar": [
           {
            "marker": {
             "line": {
              "color": "#E5ECF6",
              "width": 0.5
             },
             "pattern": {
              "fillmode": "overlay",
              "size": 10,
              "solidity": 0.2
             }
            },
            "type": "barpolar"
           }
          ],
          "carpet": [
           {
            "aaxis": {
             "endlinecolor": "#2a3f5f",
             "gridcolor": "white",
             "linecolor": "white",
             "minorgridcolor": "white",
             "startlinecolor": "#2a3f5f"
            },
            "baxis": {
             "endlinecolor": "#2a3f5f",
             "gridcolor": "white",
             "linecolor": "white",
             "minorgridcolor": "white",
             "startlinecolor": "#2a3f5f"
            },
            "type": "carpet"
           }
          ],
          "choropleth": [
           {
            "colorbar": {
             "outlinewidth": 0,
             "ticks": ""
            },
            "type": "choropleth"
           }
          ],
          "contour": [
           {
            "colorbar": {
             "outlinewidth": 0,
             "ticks": ""
            },
            "colorscale": [
             [
              0,
              "#0d0887"
             ],
             [
              0.1111111111111111,
              "#46039f"
             ],
             [
              0.2222222222222222,
              "#7201a8"
             ],
             [
              0.3333333333333333,
              "#9c179e"
             ],
             [
              0.4444444444444444,
              "#bd3786"
             ],
             [
              0.5555555555555556,
              "#d8576b"
             ],
             [
              0.6666666666666666,
              "#ed7953"
             ],
             [
              0.7777777777777778,
              "#fb9f3a"
             ],
             [
              0.8888888888888888,
              "#fdca26"
             ],
             [
              1,
              "#f0f921"
             ]
            ],
            "type": "contour"
           }
          ],
          "contourcarpet": [
           {
            "colorbar": {
             "outlinewidth": 0,
             "ticks": ""
            },
            "type": "contourcarpet"
           }
          ],
          "heatmap": [
           {
            "colorbar": {
             "outlinewidth": 0,
             "ticks": ""
            },
            "colorscale": [
             [
              0,
              "#0d0887"
             ],
             [
              0.1111111111111111,
              "#46039f"
             ],
             [
              0.2222222222222222,
              "#7201a8"
             ],
             [
              0.3333333333333333,
              "#9c179e"
             ],
             [
              0.4444444444444444,
              "#bd3786"
             ],
             [
              0.5555555555555556,
              "#d8576b"
             ],
             [
              0.6666666666666666,
              "#ed7953"
             ],
             [
              0.7777777777777778,
              "#fb9f3a"
             ],
             [
              0.8888888888888888,
              "#fdca26"
             ],
             [
              1,
              "#f0f921"
             ]
            ],
            "type": "heatmap"
           }
          ],
          "histogram": [
           {
            "marker": {
             "pattern": {
              "fillmode": "overlay",
              "size": 10,
              "solidity": 0.2
             }
            },
            "type": "histogram"
           }
          ],
          "histogram2d": [
           {
            "colorbar": {
             "outlinewidth": 0,
             "ticks": ""
            },
            "colorscale": [
             [
              0,
              "#0d0887"
             ],
             [
              0.1111111111111111,
              "#46039f"
             ],
             [
              0.2222222222222222,
              "#7201a8"
             ],
             [
              0.3333333333333333,
              "#9c179e"
             ],
             [
              0.4444444444444444,
              "#bd3786"
             ],
             [
              0.5555555555555556,
              "#d8576b"
             ],
             [
              0.6666666666666666,
              "#ed7953"
             ],
             [
              0.7777777777777778,
              "#fb9f3a"
             ],
             [
              0.8888888888888888,
              "#fdca26"
             ],
             [
              1,
              "#f0f921"
             ]
            ],
            "type": "histogram2d"
           }
          ],
          "histogram2dcontour": [
           {
            "colorbar": {
             "outlinewidth": 0,
             "ticks": ""
            },
            "colorscale": [
             [
              0,
              "#0d0887"
             ],
             [
              0.1111111111111111,
              "#46039f"
             ],
             [
              0.2222222222222222,
              "#7201a8"
             ],
             [
              0.3333333333333333,
              "#9c179e"
             ],
             [
              0.4444444444444444,
              "#bd3786"
             ],
             [
              0.5555555555555556,
              "#d8576b"
             ],
             [
              0.6666666666666666,
              "#ed7953"
             ],
             [
              0.7777777777777778,
              "#fb9f3a"
             ],
             [
              0.8888888888888888,
              "#fdca26"
             ],
             [
              1,
              "#f0f921"
             ]
            ],
            "type": "histogram2dcontour"
           }
          ],
          "mesh3d": [
           {
            "colorbar": {
             "outlinewidth": 0,
             "ticks": ""
            },
            "type": "mesh3d"
           }
          ],
          "parcoords": [
           {
            "line": {
             "colorbar": {
              "outlinewidth": 0,
              "ticks": ""
             }
            },
            "type": "parcoords"
           }
          ],
          "pie": [
           {
            "automargin": true,
            "type": "pie"
           }
          ],
          "scatter": [
           {
            "fillpattern": {
             "fillmode": "overlay",
             "size": 10,
             "solidity": 0.2
            },
            "type": "scatter"
           }
          ],
          "scatter3d": [
           {
            "line": {
             "colorbar": {
              "outlinewidth": 0,
              "ticks": ""
             }
            },
            "marker": {
             "colorbar": {
              "outlinewidth": 0,
              "ticks": ""
             }
            },
            "type": "scatter3d"
           }
          ],
          "scattercarpet": [
           {
            "marker": {
             "colorbar": {
              "outlinewidth": 0,
              "ticks": ""
             }
            },
            "type": "scattercarpet"
           }
          ],
          "scattergeo": [
           {
            "marker": {
             "colorbar": {
              "outlinewidth": 0,
              "ticks": ""
             }
            },
            "type": "scattergeo"
           }
          ],
          "scattergl": [
           {
            "marker": {
             "colorbar": {
              "outlinewidth": 0,
              "ticks": ""
             }
            },
            "type": "scattergl"
           }
          ],
          "scattermap": [
           {
            "marker": {
             "colorbar": {
              "outlinewidth": 0,
              "ticks": ""
             }
            },
            "type": "scattermap"
           }
          ],
          "scattermapbox": [
           {
            "marker": {
             "colorbar": {
              "outlinewidth": 0,
              "ticks": ""
             }
            },
            "type": "scattermapbox"
           }
          ],
          "scatterpolar": [
           {
            "marker": {
             "colorbar": {
              "outlinewidth": 0,
              "ticks": ""
             }
            },
            "type": "scatterpolar"
           }
          ],
          "scatterpolargl": [
           {
            "marker": {
             "colorbar": {
              "outlinewidth": 0,
              "ticks": ""
             }
            },
            "type": "scatterpolargl"
           }
          ],
          "scatterternary": [
           {
            "marker": {
             "colorbar": {
              "outlinewidth": 0,
              "ticks": ""
             }
            },
            "type": "scatterternary"
           }
          ],
          "surface": [
           {
            "colorbar": {
             "outlinewidth": 0,
             "ticks": ""
            },
            "colorscale": [
             [
              0,
              "#0d0887"
             ],
             [
              0.1111111111111111,
              "#46039f"
             ],
             [
              0.2222222222222222,
              "#7201a8"
             ],
             [
              0.3333333333333333,
              "#9c179e"
             ],
             [
              0.4444444444444444,
              "#bd3786"
             ],
             [
              0.5555555555555556,
              "#d8576b"
             ],
             [
              0.6666666666666666,
              "#ed7953"
             ],
             [
              0.7777777777777778,
              "#fb9f3a"
             ],
             [
              0.8888888888888888,
              "#fdca26"
             ],
             [
              1,
              "#f0f921"
             ]
            ],
            "type": "surface"
           }
          ],
          "table": [
           {
            "cells": {
             "fill": {
              "color": "#EBF0F8"
             },
             "line": {
              "color": "white"
             }
            },
            "header": {
             "fill": {
              "color": "#C8D4E3"
             },
             "line": {
              "color": "white"
             }
            },
            "type": "table"
           }
          ]
         },
         "layout": {
          "annotationdefaults": {
           "arrowcolor": "#2a3f5f",
           "arrowhead": 0,
           "arrowwidth": 1
          },
          "autotypenumbers": "strict",
          "coloraxis": {
           "colorbar": {
            "outlinewidth": 0,
            "ticks": ""
           }
          },
          "colorscale": {
           "diverging": [
            [
             0,
             "#8e0152"
            ],
            [
             0.1,
             "#c51b7d"
            ],
            [
             0.2,
             "#de77ae"
            ],
            [
             0.3,
             "#f1b6da"
            ],
            [
             0.4,
             "#fde0ef"
            ],
            [
             0.5,
             "#f7f7f7"
            ],
            [
             0.6,
             "#e6f5d0"
            ],
            [
             0.7,
             "#b8e186"
            ],
            [
             0.8,
             "#7fbc41"
            ],
            [
             0.9,
             "#4d9221"
            ],
            [
             1,
             "#276419"
            ]
           ],
           "sequential": [
            [
             0,
             "#0d0887"
            ],
            [
             0.1111111111111111,
             "#46039f"
            ],
            [
             0.2222222222222222,
             "#7201a8"
            ],
            [
             0.3333333333333333,
             "#9c179e"
            ],
            [
             0.4444444444444444,
             "#bd3786"
            ],
            [
             0.5555555555555556,
             "#d8576b"
            ],
            [
             0.6666666666666666,
             "#ed7953"
            ],
            [
             0.7777777777777778,
             "#fb9f3a"
            ],
            [
             0.8888888888888888,
             "#fdca26"
            ],
            [
             1,
             "#f0f921"
            ]
           ],
           "sequentialminus": [
            [
             0,
             "#0d0887"
            ],
            [
             0.1111111111111111,
             "#46039f"
            ],
            [
             0.2222222222222222,
             "#7201a8"
            ],
            [
             0.3333333333333333,
             "#9c179e"
            ],
            [
             0.4444444444444444,
             "#bd3786"
            ],
            [
             0.5555555555555556,
             "#d8576b"
            ],
            [
             0.6666666666666666,
             "#ed7953"
            ],
            [
             0.7777777777777778,
             "#fb9f3a"
            ],
            [
             0.8888888888888888,
             "#fdca26"
            ],
            [
             1,
             "#f0f921"
            ]
           ]
          },
          "colorway": [
           "#636efa",
           "#EF553B",
           "#00cc96",
           "#ab63fa",
           "#FFA15A",
           "#19d3f3",
           "#FF6692",
           "#B6E880",
           "#FF97FF",
           "#FECB52"
          ],
          "font": {
           "color": "#2a3f5f"
          },
          "geo": {
           "bgcolor": "white",
           "lakecolor": "white",
           "landcolor": "#E5ECF6",
           "showlakes": true,
           "showland": true,
           "subunitcolor": "white"
          },
          "hoverlabel": {
           "align": "left"
          },
          "hovermode": "closest",
          "mapbox": {
           "style": "light"
          },
          "paper_bgcolor": "white",
          "plot_bgcolor": "#E5ECF6",
          "polar": {
           "angularaxis": {
            "gridcolor": "white",
            "linecolor": "white",
            "ticks": ""
           },
           "bgcolor": "#E5ECF6",
           "radialaxis": {
            "gridcolor": "white",
            "linecolor": "white",
            "ticks": ""
           }
          },
          "scene": {
           "xaxis": {
            "backgroundcolor": "#E5ECF6",
            "gridcolor": "white",
            "gridwidth": 2,
            "linecolor": "white",
            "showbackground": true,
            "ticks": "",
            "zerolinecolor": "white"
           },
           "yaxis": {
            "backgroundcolor": "#E5ECF6",
            "gridcolor": "white",
            "gridwidth": 2,
            "linecolor": "white",
            "showbackground": true,
            "ticks": "",
            "zerolinecolor": "white"
           },
           "zaxis": {
            "backgroundcolor": "#E5ECF6",
            "gridcolor": "white",
            "gridwidth": 2,
            "linecolor": "white",
            "showbackground": true,
            "ticks": "",
            "zerolinecolor": "white"
           }
          },
          "shapedefaults": {
           "line": {
            "color": "#2a3f5f"
           }
          },
          "ternary": {
           "aaxis": {
            "gridcolor": "white",
            "linecolor": "white",
            "ticks": ""
           },
           "baxis": {
            "gridcolor": "white",
            "linecolor": "white",
            "ticks": ""
           },
           "bgcolor": "#E5ECF6",
           "caxis": {
            "gridcolor": "white",
            "linecolor": "white",
            "ticks": ""
           }
          },
          "title": {
           "x": 0.05
          },
          "xaxis": {
           "automargin": true,
           "gridcolor": "white",
           "linecolor": "white",
           "ticks": "",
           "title": {
            "standoff": 15
           },
           "zerolinecolor": "white",
           "zerolinewidth": 2
          },
          "yaxis": {
           "automargin": true,
           "gridcolor": "white",
           "linecolor": "white",
           "ticks": "",
           "title": {
            "standoff": 15
           },
           "zerolinecolor": "white",
           "zerolinewidth": 2
          }
         }
        },
        "width": 500
       }
      }
     },
     "metadata": {},
     "output_type": "display_data"
    }
   ],
   "source": [
    "fig = go.Figure()\n",
    "fig.update_layout(\n",
    "    autosize=False,\n",
    "    width=500,\n",
    "    height=500,\n",
    ")\n",
    "fig.add_trace(go.Scatter3d(x=X[train_idxs, 0], y=X[train_idxs, 1], z=y[train_idxs].flatten(), **TRAIN_MARKER, name=\"Training\"))\n",
    "fig.add_trace(go.Scatter3d(x=X[val_idxs, 0], y=X[val_idxs, 1], z=y[val_idxs].flatten(), **VAL_MARKER, name=\"Validation\"))\n",
    "fig.add_trace(go.Scatter3d(x=X[test_idxs, 0], y=X[test_idxs, 1], z=y[test_idxs].flatten(), **TEST_MARKER, name=\"Testing\"))\n",
    "fig.add_trace(go.Scatter3d(x=X[test_idxs, 0], y=X[test_idxs, 1], z=y_pred, error_z=dict(\n",
    "            type='data', # value of error bar given in data coordinates\n",
    "            array=y_stdev,\n",
    "            visible=True), **TEST_PRED, name=\"Prediction\"))\n",
    "fig.show()"
   ]
  },
  {
   "cell_type": "code",
   "execution_count": 17,
   "metadata": {},
   "outputs": [
    {
     "name": "stdout",
     "output_type": "stream",
     "text": [
      "0.18970830549957213\n"
     ]
    }
   ],
   "source": [
    "print(mean_absolute_percentage_error(y[test_idxs], y_pred, sample_weight=y[test_idxs]))"
   ]
  }
 ],
 "metadata": {
  "kernelspec": {
   "display_name": ".venv",
   "language": "python",
   "name": "python3"
  },
  "language_info": {
   "codemirror_mode": {
    "name": "ipython",
    "version": 3
   },
   "file_extension": ".py",
   "mimetype": "text/x-python",
   "name": "python",
   "nbconvert_exporter": "python",
   "pygments_lexer": "ipython3",
   "version": "3.12.3"
  }
 },
 "nbformat": 4,
 "nbformat_minor": 2
}
