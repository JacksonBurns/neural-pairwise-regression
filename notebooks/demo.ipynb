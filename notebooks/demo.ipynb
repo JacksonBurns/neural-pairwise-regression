{
 "cells": [
  {
   "cell_type": "code",
   "execution_count": 1,
   "metadata": {},
   "outputs": [],
   "source": [
    "import lightning\n",
    "import torch\n",
    "import plotly.graph_objs as go"
   ]
  },
  {
   "cell_type": "code",
   "execution_count": 2,
   "metadata": {},
   "outputs": [],
   "source": [
    "from nepare.nn import NeuralPairwiseRegressor as NPR\n",
    "from nepare.data import PairwiseAugmentedDataset, PairwiseAnchoredDataset"
   ]
  },
  {
   "cell_type": "code",
   "execution_count": 21,
   "metadata": {},
   "outputs": [],
   "source": [
    "TRAIN_MARKER = dict(mode=\"markers\", marker=dict(color=\"red\", opacity=0.2, size=4))\n",
    "TRAIN_PRED = dict(mode=\"markers\", marker=dict(color=\"red\", opacity=0.4, symbol=\"diamond\", size=4))\n",
    "VAL_MARKER = dict(mode=\"markers\", marker=dict(color=\"green\", opacity=0.2, size=4))\n",
    "VAL_PRED = dict(mode=\"markers\", marker=dict(color=\"green\", opacity=0.4, symbol=\"diamond\", size=4))\n",
    "TEST_MARKER = dict(mode=\"markers\", marker=dict(color=\"blue\", opacity=0.2, size=4))\n",
    "TEST_PRED = dict(mode=\"markers\", marker=dict(color=\"blue\", opacity=0.4, symbol=\"diamond\", size=4))"
   ]
  },
  {
   "cell_type": "code",
   "execution_count": 4,
   "metadata": {},
   "outputs": [
    {
     "name": "stderr",
     "output_type": "stream",
     "text": [
      "Seed set to 1701\n"
     ]
    },
    {
     "data": {
      "text/plain": [
       "1701"
      ]
     },
     "execution_count": 4,
     "metadata": {},
     "output_type": "execute_result"
    }
   ],
   "source": [
    "SEED = 1701\n",
    "lightning.seed_everything(SEED)"
   ]
  },
  {
   "cell_type": "code",
   "execution_count": 5,
   "metadata": {},
   "outputs": [],
   "source": [
    "X = torch.rand((200, 2), dtype=torch.float32)\n",
    "y = torch.sin(8*X[:, 0]) + 3 * X[:, 1].pow(2)  # sin(x1) + 3 * x2^2\n",
    "y = y.reshape(-1, 1)"
   ]
  },
  {
   "cell_type": "code",
   "execution_count": 26,
   "metadata": {},
   "outputs": [],
   "source": [
    "train_idxs = torch.argwhere((X < 0.3).any(dim=1)).flatten()\n",
    "val_idxs = torch.argwhere((X >= 0.3).logical_and(X < 0.7).any(dim=1)).flatten()  # wrong, fix this\n",
    "test_idxs = torch.argwhere((X >= 0.7).all(dim=1)).flatten()"
   ]
  },
  {
   "cell_type": "code",
   "execution_count": 27,
   "metadata": {},
   "outputs": [
    {
     "data": {
      "application/vnd.plotly.v1+json": {
       "config": {
        "plotlyServerURL": "https://plot.ly"
       },
       "data": [
        {
         "marker": {
          "color": "red",
          "opacity": 0.2,
          "size": 4
         },
         "mode": "markers",
         "type": "scatter3d",
         "x": {
          "bdata": "GmdMPzBVHT2YHo0+IHTlPojjfD7wt5U+cGHuPQx+Wz5og/8+eoA9P/CHaj7alMc+NKdSPuMmLD/MXXM+osuLPnC6aD4gQJk+UXMEP2b/BD/D5Bs/AKfpPFZetT6tLiU/MMdJPvAabD0HzBE/iTBrPzJedD9Q5Q49GfBUP5vtej84LYU+WM6VPoCmMT8lZi4/FmCfPt6gPj8g91s9gvC+PoBDMT0JiwU/xFmDPmTikj52fJ4+mLuYPVy7ez7gh+08Uz4NP+ztfz+Ap6o+058fP4iguj4OI+w+cNgMPYBj8Ts4fdM9vIeEPtxPjz4lpGo/YmbwPkCMpj2wkUI9IOJ3PX+PLj/OxkM/XMqfPkAn4j3YeyM+8D4GPpj5uz24EDc+Yg6FPiDvWD/otpg+HJ+ePmhc1j524DU/APxEPnxelD542KI+8LrMPf5DXT+A3YQ7wCdBPMHEFD8NyRw/QDsIPrE6Wz+TR2s/PTw4P8Q6dT/e3QM/RBFuPnBmbj6oFNk+oMRpPahv3j0I8ak+",
          "dtype": "f4"
         },
         "y": {
          "bdata": "DJciPuU1QD/grRk/OMgtPuZVsz70/0I+SAp9PqW1Ej+gpkY+5C8dPk5SaT8E6ws+LRB2P8Qhez6Savw+lvhsP2ClrD22Q6Q+vPATPsQqkj4AYes9smt2P+DDIT3sJiY+mMsyPnhyKj7ADyA+wPmTPnDTCj5WkXg/TN0vPgyrTz5Qt3Y+jjY7P0gnKz4g89A9yKamPQjuMD5IC/Y9+Nh3PmBl8D34qJw9pOSQPv4ZDj+otHU+SOrJPlnPET/erL0+WtOCPlDrZT1oJhI+sIDcPTwTQT4cG38+1O9OPjIu8j7/1TE/BCNcPvsgbz+o7WY+9CQWPrCIcT9SuF4/y3QYP2DjKT4A6N07QMA3PUp/Xj+khAI+WARuP+Odbz+yCXU/Ix5rP4DyWj7yKdQ+TEddPqr6kD5gWNA9bCUdPq6fcj+Sb4Y++HX9PpwNJT7PPSo/349YP+xvET7E3GI+JDoCPkSBij68LxM+wIApPoAxxz0IEn8+rxs1Pyqynj5wTQU+mUFRP1BJoj3OWYk+",
          "dtype": "f4"
         },
         "z": {
          "bdata": "3yg4Pucw/z8ofvE/lYSvvvDCpD+H5FM/cEp8P3HK/D92jyO/cMWQvklQXUCUFKI9WDRxQMfiGr9PZ9Y/kNhYQOKpfT+G/3w/sAlHv4/RGr9XnXK/cmBAQP13nT4OWFK/d7SLP/owBz8bHmq//SOQP+oKhD/3pEZACf3mPoTIjz8g/4U/sKEUQAmSFb+FeDW/5kkgPx5HbL4ybus+GKCqPizowj5tMFe/NDKQP+wv1j/mO0o/IqODP7qs8j+KQCQ/0IhCv/TGfz8NwAQ/2Wptv9QbqT6obqu++M3JPoPoOj+XtgtA9BOCP8/AWUCkhII/Rx4Dv+OsUUCUEClAVsTDP150J7/sOCi+1WwbPxaAQkAGw4A/GHNdQEAYU0D/Rm9AoN1ZQPbxHD/WsZk/7nNBP9Q8DD2IgAi/hvqIP+plW0DK40Q//+a5P2QOKz/1960/R20PQHT+b7+g1VW/BUhsP6jbQT8zWHA/HufWvs9QgT/S2CS/K3AdQN57nz++kkm+gIAcQLdOSD8t5y4/",
          "dtype": "f4"
         }
        },
        {
         "marker": {
          "color": "green",
          "opacity": 0.2,
          "size": 4
         },
         "mode": "markers",
         "type": "scatter3d",
         "x": {
          "bdata": "XmQJP5gejT4gdOU+qKb5Pi7eLD+I43w+NHf1Ph6ypz4izyQ/1ZxaP/dAKz8gE1I/LtDKPgx+Wz77eHI/XrmcPhhD3z5og/8+FT5uP4orzj7alMc+JDKsPuMmLD/MXXM+BrYPPyBAmT4Hmlk/Els8P1FzBD9m/wQ/IQ4JP3UlSj/D5Bs/Vl61PqG+LT+tLiU/dgHcPiykHz8IQbM+B8wRPyklID9KGGo/D9EsPwKr9j7b/xU/2HkaP0I7QT+6XDQ/gKYxP7EuJz/o1lA/JWYuPxZgnz6C8L4+fBmdPhYQOD8JiwU/KlmmPmbdnD5k4pI+Rm8OP3Z8nj6Yu5g9XLt7PuCH7TxTPg0/gKeqPhp4ED/uo50+058fPwHqCT+IoLo+lpPKPiwYMT8OI+w+TvSlPoBj8Ts4fdM9ES1GP2Jm8D6oyiU/7wNTP5KpeT9/sAY/uO0FPyDidz32zRE/f48uP7Co7j5k2aA+YCpGP1zKnz6xink/6DD2PpS2Lj+S3nk/7kf2Pt6lST/otpg+iGQQPxyfnj5oXNY+9mMZP5ZXRz942KI+8LrMPTqn2T6A3YQ7wcQUP+Tn+j4NyRw/1mtrP0p0CD+mitE+sj7TPgl4FT+ICOk+BPs/P5x/bj/e3QM//LEAP2pDFj/cUtc+cGZuPuHUMD+oFNk+mukRP8G3cT8I8ak+",
          "dtype": "f4"
         },
         "y": {
          "bdata": "7pUCP+CtGT84yC0+It0UPzASzT7mVbM+Q8IPP8bRQT/xNlg/GHLrPmMEBD/8/tE+gMFiP6W1Ej/+ack+EWhcP6KC/D6gpkY+5pUAP7m6WD8E6ws+hclCP8Qhez6Savw+9aQ3P7ZDpD5vhDI/W08bP7zwEz7EKpI+vyJmPwQenT4AYes94MMhPSik2T7sJiY+4uXVPj/qKT/I+h4/wA8gPo+dSD8Z8xA/I+FkP4CyLT/5Fnk/D+IZP2gK2T5iugY/SCcrPn38Qz/KrNw+IPPQPcimpj342Hc+lFqsPmrT2T74qJw9aj3MPjUSPj/+GQ4/aChUP6i0dT5I6sk+Wc8RP96svT5a04I+aCYSPjAETj+1F00/sIDcPfHyWT88E0E+hDt5P5hf1D4cG38+8u7zPjIu8j7/1TE/b3ULP/QkFj7dnmM/AoTQPrJovj6gLsk+xK0DP8t0GD9zxGY/YOMpPlECbT9z4y0/w7cxP0DANz1y+P0+7om4Pm4V6T6ujho/dvJ6Pyj/Dj/yKdQ+cW0fP0xHXT6q+pA+vL9LPxaF3z6Sb4Y++HX9PpbZ2j7PPSo/7G8RPpkiKz/E3GI+aDz7PgT0qD4r9H8/WXIhP4EFRT89HHo/UGrvPoAUpz4IEn8+jNfWPjeTFj/K4P8+KrKePhrIwT5wTQU+WDL/PrRm2T7OWYk+",
          "dtype": "f4"
         },
         "z": {
          "bdata": "OCAIvih+8T+VhK++6vOmPt2NlL7wwqQ/GPecPn/uDUDw/p0/WvCTP4AmmrvZWEg/ZeMUQHHK/D9QjrY/XzI3QI+Kxz52jyO/4lPWP2yCBECUFKI9PA4LQMfiGr9PZ9Y/t3cRP4b/fD8++/k/u6s3P7AJR7+P0Rq/svLBP4v9oT5XnXK//XedPlCxWL4OWFK/bndtPrIZuD6a3r4/Gx5qv5l8Yj/w/eg/kBPQP9IwOj+2lus/2IW5PZD5lz6ctGk+CZIVv7n1Yj8jR0w/hXg1v+ZJID8YoKo+Nl95PyAmFT1tMFe/tVp+P5+bEkDsL9Y/yBSMP+Y7Sj8io4M/uqzyP4pAJD/QiEK/DcAEPylddj/GZSNA2Wptv0KQoD/UG6k+7nc0QEixKL6obqu+4uiZP4PoOj+XtgtA69tMP0ceA78DYb0/m7pNP37vtD9YWNO+gHGQvVbEwz9Glrk/XnQnv0AZAUCAaPw/kX2tP9VsGz/gSN4/dE+EvhDQ5L366gVAKPIOQDZQdD/WsZk/GN07Pu5zQT/UPAw9IlRnP2eeBD/K40Q//+a5P0hjlT71960/dP5vvwljIz+g1VW/YfjMPzgWE7/OeTdA1HGEP9AcRz/lmxhAZ3/APi++nj/S2CS/tGt4vkC6Gz2+PQc/3nufP96og76+kkm+wOh4vkiBvz8t5y4/",
          "dtype": "f4"
         }
        },
        {
         "marker": {
          "color": "blue",
          "opacity": 0.2,
          "size": 4
         },
         "mode": "markers",
         "type": "scatter3d",
         "x": {
          "bdata": "rhhlPzFTbD9Gy0U/nONVP2XPez/2FWg/L5ZuPytmXD/DaWM/wdZqP08wRj/h2nk//vwzP7UNNj9ewEk/SmZaPwsOXD9DPn4/yiBhP+sSVT8=",
          "dtype": "f4"
         },
         "y": {
          "bdata": "BBZMP9wyYT8h6kI/gGlRP9w2fz8Nx3A/mOVjPxHjYD9dCTo/GYFaP6rTVz/fpz4/jjI8PzVWWj+QTmk/hc1qP+ijYz+yDEU/G/N2P4WNTz8=",
          "dtype": "f4"
         },
         "z": {
          "bdata": "EDErQPyrTUAGj9E/HHMZQOPQfkCfnl5ALidTQJiHOEARVxRA0pBDQMy6AkDfbCpAUTKBP3euzz8U2SBALIZCQHicO0BwfTFA0WJeQFarFUA=",
          "dtype": "f4"
         }
        }
       ],
       "layout": {
        "template": {
         "data": {
          "bar": [
           {
            "error_x": {
             "color": "#2a3f5f"
            },
            "error_y": {
             "color": "#2a3f5f"
            },
            "marker": {
             "line": {
              "color": "#E5ECF6",
              "width": 0.5
             },
             "pattern": {
              "fillmode": "overlay",
              "size": 10,
              "solidity": 0.2
             }
            },
            "type": "bar"
           }
          ],
          "barpolar": [
           {
            "marker": {
             "line": {
              "color": "#E5ECF6",
              "width": 0.5
             },
             "pattern": {
              "fillmode": "overlay",
              "size": 10,
              "solidity": 0.2
             }
            },
            "type": "barpolar"
           }
          ],
          "carpet": [
           {
            "aaxis": {
             "endlinecolor": "#2a3f5f",
             "gridcolor": "white",
             "linecolor": "white",
             "minorgridcolor": "white",
             "startlinecolor": "#2a3f5f"
            },
            "baxis": {
             "endlinecolor": "#2a3f5f",
             "gridcolor": "white",
             "linecolor": "white",
             "minorgridcolor": "white",
             "startlinecolor": "#2a3f5f"
            },
            "type": "carpet"
           }
          ],
          "choropleth": [
           {
            "colorbar": {
             "outlinewidth": 0,
             "ticks": ""
            },
            "type": "choropleth"
           }
          ],
          "contour": [
           {
            "colorbar": {
             "outlinewidth": 0,
             "ticks": ""
            },
            "colorscale": [
             [
              0,
              "#0d0887"
             ],
             [
              0.1111111111111111,
              "#46039f"
             ],
             [
              0.2222222222222222,
              "#7201a8"
             ],
             [
              0.3333333333333333,
              "#9c179e"
             ],
             [
              0.4444444444444444,
              "#bd3786"
             ],
             [
              0.5555555555555556,
              "#d8576b"
             ],
             [
              0.6666666666666666,
              "#ed7953"
             ],
             [
              0.7777777777777778,
              "#fb9f3a"
             ],
             [
              0.8888888888888888,
              "#fdca26"
             ],
             [
              1,
              "#f0f921"
             ]
            ],
            "type": "contour"
           }
          ],
          "contourcarpet": [
           {
            "colorbar": {
             "outlinewidth": 0,
             "ticks": ""
            },
            "type": "contourcarpet"
           }
          ],
          "heatmap": [
           {
            "colorbar": {
             "outlinewidth": 0,
             "ticks": ""
            },
            "colorscale": [
             [
              0,
              "#0d0887"
             ],
             [
              0.1111111111111111,
              "#46039f"
             ],
             [
              0.2222222222222222,
              "#7201a8"
             ],
             [
              0.3333333333333333,
              "#9c179e"
             ],
             [
              0.4444444444444444,
              "#bd3786"
             ],
             [
              0.5555555555555556,
              "#d8576b"
             ],
             [
              0.6666666666666666,
              "#ed7953"
             ],
             [
              0.7777777777777778,
              "#fb9f3a"
             ],
             [
              0.8888888888888888,
              "#fdca26"
             ],
             [
              1,
              "#f0f921"
             ]
            ],
            "type": "heatmap"
           }
          ],
          "histogram": [
           {
            "marker": {
             "pattern": {
              "fillmode": "overlay",
              "size": 10,
              "solidity": 0.2
             }
            },
            "type": "histogram"
           }
          ],
          "histogram2d": [
           {
            "colorbar": {
             "outlinewidth": 0,
             "ticks": ""
            },
            "colorscale": [
             [
              0,
              "#0d0887"
             ],
             [
              0.1111111111111111,
              "#46039f"
             ],
             [
              0.2222222222222222,
              "#7201a8"
             ],
             [
              0.3333333333333333,
              "#9c179e"
             ],
             [
              0.4444444444444444,
              "#bd3786"
             ],
             [
              0.5555555555555556,
              "#d8576b"
             ],
             [
              0.6666666666666666,
              "#ed7953"
             ],
             [
              0.7777777777777778,
              "#fb9f3a"
             ],
             [
              0.8888888888888888,
              "#fdca26"
             ],
             [
              1,
              "#f0f921"
             ]
            ],
            "type": "histogram2d"
           }
          ],
          "histogram2dcontour": [
           {
            "colorbar": {
             "outlinewidth": 0,
             "ticks": ""
            },
            "colorscale": [
             [
              0,
              "#0d0887"
             ],
             [
              0.1111111111111111,
              "#46039f"
             ],
             [
              0.2222222222222222,
              "#7201a8"
             ],
             [
              0.3333333333333333,
              "#9c179e"
             ],
             [
              0.4444444444444444,
              "#bd3786"
             ],
             [
              0.5555555555555556,
              "#d8576b"
             ],
             [
              0.6666666666666666,
              "#ed7953"
             ],
             [
              0.7777777777777778,
              "#fb9f3a"
             ],
             [
              0.8888888888888888,
              "#fdca26"
             ],
             [
              1,
              "#f0f921"
             ]
            ],
            "type": "histogram2dcontour"
           }
          ],
          "mesh3d": [
           {
            "colorbar": {
             "outlinewidth": 0,
             "ticks": ""
            },
            "type": "mesh3d"
           }
          ],
          "parcoords": [
           {
            "line": {
             "colorbar": {
              "outlinewidth": 0,
              "ticks": ""
             }
            },
            "type": "parcoords"
           }
          ],
          "pie": [
           {
            "automargin": true,
            "type": "pie"
           }
          ],
          "scatter": [
           {
            "fillpattern": {
             "fillmode": "overlay",
             "size": 10,
             "solidity": 0.2
            },
            "type": "scatter"
           }
          ],
          "scatter3d": [
           {
            "line": {
             "colorbar": {
              "outlinewidth": 0,
              "ticks": ""
             }
            },
            "marker": {
             "colorbar": {
              "outlinewidth": 0,
              "ticks": ""
             }
            },
            "type": "scatter3d"
           }
          ],
          "scattercarpet": [
           {
            "marker": {
             "colorbar": {
              "outlinewidth": 0,
              "ticks": ""
             }
            },
            "type": "scattercarpet"
           }
          ],
          "scattergeo": [
           {
            "marker": {
             "colorbar": {
              "outlinewidth": 0,
              "ticks": ""
             }
            },
            "type": "scattergeo"
           }
          ],
          "scattergl": [
           {
            "marker": {
             "colorbar": {
              "outlinewidth": 0,
              "ticks": ""
             }
            },
            "type": "scattergl"
           }
          ],
          "scattermap": [
           {
            "marker": {
             "colorbar": {
              "outlinewidth": 0,
              "ticks": ""
             }
            },
            "type": "scattermap"
           }
          ],
          "scattermapbox": [
           {
            "marker": {
             "colorbar": {
              "outlinewidth": 0,
              "ticks": ""
             }
            },
            "type": "scattermapbox"
           }
          ],
          "scatterpolar": [
           {
            "marker": {
             "colorbar": {
              "outlinewidth": 0,
              "ticks": ""
             }
            },
            "type": "scatterpolar"
           }
          ],
          "scatterpolargl": [
           {
            "marker": {
             "colorbar": {
              "outlinewidth": 0,
              "ticks": ""
             }
            },
            "type": "scatterpolargl"
           }
          ],
          "scatterternary": [
           {
            "marker": {
             "colorbar": {
              "outlinewidth": 0,
              "ticks": ""
             }
            },
            "type": "scatterternary"
           }
          ],
          "surface": [
           {
            "colorbar": {
             "outlinewidth": 0,
             "ticks": ""
            },
            "colorscale": [
             [
              0,
              "#0d0887"
             ],
             [
              0.1111111111111111,
              "#46039f"
             ],
             [
              0.2222222222222222,
              "#7201a8"
             ],
             [
              0.3333333333333333,
              "#9c179e"
             ],
             [
              0.4444444444444444,
              "#bd3786"
             ],
             [
              0.5555555555555556,
              "#d8576b"
             ],
             [
              0.6666666666666666,
              "#ed7953"
             ],
             [
              0.7777777777777778,
              "#fb9f3a"
             ],
             [
              0.8888888888888888,
              "#fdca26"
             ],
             [
              1,
              "#f0f921"
             ]
            ],
            "type": "surface"
           }
          ],
          "table": [
           {
            "cells": {
             "fill": {
              "color": "#EBF0F8"
             },
             "line": {
              "color": "white"
             }
            },
            "header": {
             "fill": {
              "color": "#C8D4E3"
             },
             "line": {
              "color": "white"
             }
            },
            "type": "table"
           }
          ]
         },
         "layout": {
          "annotationdefaults": {
           "arrowcolor": "#2a3f5f",
           "arrowhead": 0,
           "arrowwidth": 1
          },
          "autotypenumbers": "strict",
          "coloraxis": {
           "colorbar": {
            "outlinewidth": 0,
            "ticks": ""
           }
          },
          "colorscale": {
           "diverging": [
            [
             0,
             "#8e0152"
            ],
            [
             0.1,
             "#c51b7d"
            ],
            [
             0.2,
             "#de77ae"
            ],
            [
             0.3,
             "#f1b6da"
            ],
            [
             0.4,
             "#fde0ef"
            ],
            [
             0.5,
             "#f7f7f7"
            ],
            [
             0.6,
             "#e6f5d0"
            ],
            [
             0.7,
             "#b8e186"
            ],
            [
             0.8,
             "#7fbc41"
            ],
            [
             0.9,
             "#4d9221"
            ],
            [
             1,
             "#276419"
            ]
           ],
           "sequential": [
            [
             0,
             "#0d0887"
            ],
            [
             0.1111111111111111,
             "#46039f"
            ],
            [
             0.2222222222222222,
             "#7201a8"
            ],
            [
             0.3333333333333333,
             "#9c179e"
            ],
            [
             0.4444444444444444,
             "#bd3786"
            ],
            [
             0.5555555555555556,
             "#d8576b"
            ],
            [
             0.6666666666666666,
             "#ed7953"
            ],
            [
             0.7777777777777778,
             "#fb9f3a"
            ],
            [
             0.8888888888888888,
             "#fdca26"
            ],
            [
             1,
             "#f0f921"
            ]
           ],
           "sequentialminus": [
            [
             0,
             "#0d0887"
            ],
            [
             0.1111111111111111,
             "#46039f"
            ],
            [
             0.2222222222222222,
             "#7201a8"
            ],
            [
             0.3333333333333333,
             "#9c179e"
            ],
            [
             0.4444444444444444,
             "#bd3786"
            ],
            [
             0.5555555555555556,
             "#d8576b"
            ],
            [
             0.6666666666666666,
             "#ed7953"
            ],
            [
             0.7777777777777778,
             "#fb9f3a"
            ],
            [
             0.8888888888888888,
             "#fdca26"
            ],
            [
             1,
             "#f0f921"
            ]
           ]
          },
          "colorway": [
           "#636efa",
           "#EF553B",
           "#00cc96",
           "#ab63fa",
           "#FFA15A",
           "#19d3f3",
           "#FF6692",
           "#B6E880",
           "#FF97FF",
           "#FECB52"
          ],
          "font": {
           "color": "#2a3f5f"
          },
          "geo": {
           "bgcolor": "white",
           "lakecolor": "white",
           "landcolor": "#E5ECF6",
           "showlakes": true,
           "showland": true,
           "subunitcolor": "white"
          },
          "hoverlabel": {
           "align": "left"
          },
          "hovermode": "closest",
          "mapbox": {
           "style": "light"
          },
          "paper_bgcolor": "white",
          "plot_bgcolor": "#E5ECF6",
          "polar": {
           "angularaxis": {
            "gridcolor": "white",
            "linecolor": "white",
            "ticks": ""
           },
           "bgcolor": "#E5ECF6",
           "radialaxis": {
            "gridcolor": "white",
            "linecolor": "white",
            "ticks": ""
           }
          },
          "scene": {
           "xaxis": {
            "backgroundcolor": "#E5ECF6",
            "gridcolor": "white",
            "gridwidth": 2,
            "linecolor": "white",
            "showbackground": true,
            "ticks": "",
            "zerolinecolor": "white"
           },
           "yaxis": {
            "backgroundcolor": "#E5ECF6",
            "gridcolor": "white",
            "gridwidth": 2,
            "linecolor": "white",
            "showbackground": true,
            "ticks": "",
            "zerolinecolor": "white"
           },
           "zaxis": {
            "backgroundcolor": "#E5ECF6",
            "gridcolor": "white",
            "gridwidth": 2,
            "linecolor": "white",
            "showbackground": true,
            "ticks": "",
            "zerolinecolor": "white"
           }
          },
          "shapedefaults": {
           "line": {
            "color": "#2a3f5f"
           }
          },
          "ternary": {
           "aaxis": {
            "gridcolor": "white",
            "linecolor": "white",
            "ticks": ""
           },
           "baxis": {
            "gridcolor": "white",
            "linecolor": "white",
            "ticks": ""
           },
           "bgcolor": "#E5ECF6",
           "caxis": {
            "gridcolor": "white",
            "linecolor": "white",
            "ticks": ""
           }
          },
          "title": {
           "x": 0.05
          },
          "xaxis": {
           "automargin": true,
           "gridcolor": "white",
           "linecolor": "white",
           "ticks": "",
           "title": {
            "standoff": 15
           },
           "zerolinecolor": "white",
           "zerolinewidth": 2
          },
          "yaxis": {
           "automargin": true,
           "gridcolor": "white",
           "linecolor": "white",
           "ticks": "",
           "title": {
            "standoff": 15
           },
           "zerolinecolor": "white",
           "zerolinewidth": 2
          }
         }
        }
       }
      }
     },
     "metadata": {},
     "output_type": "display_data"
    }
   ],
   "source": [
    "fig = go.Figure()\n",
    "fig.add_trace(go.Scatter3d(x=X[train_idxs, 0], y=X[train_idxs, 1], z=y[train_idxs].flatten(), **TRAIN_MARKER))\n",
    "fig.add_trace(go.Scatter3d(x=X[val_idxs, 0], y=X[val_idxs, 1], z=y[val_idxs].flatten(), **VAL_MARKER))\n",
    "fig.add_trace(go.Scatter3d(x=X[test_idxs, 0], y=X[test_idxs, 1], z=y[test_idxs].flatten(), **TEST_MARKER))\n",
    "fig.show()"
   ]
  },
  {
   "cell_type": "code",
   "execution_count": 9,
   "metadata": {},
   "outputs": [],
   "source": [
    "training_dataset = PairwiseAugmentedDataset(X[train_idxs], y[train_idxs], how='full')\n",
    "validation_dataset = PairwiseAnchoredDataset(X[train_idxs], y[train_idxs], X[val_idxs], y[val_idxs], how='full')\n",
    "testing_dataset = PairwiseAnchoredDataset(X[train_idxs], y[train_idxs], X[test_idxs], y[test_idxs], how='full')"
   ]
  }
 ],
 "metadata": {
  "kernelspec": {
   "display_name": ".venv",
   "language": "python",
   "name": "python3"
  },
  "language_info": {
   "codemirror_mode": {
    "name": "ipython",
    "version": 3
   },
   "file_extension": ".py",
   "mimetype": "text/x-python",
   "name": "python",
   "nbconvert_exporter": "python",
   "pygments_lexer": "ipython3",
   "version": "3.12.3"
  }
 },
 "nbformat": 4,
 "nbformat_minor": 2
}
