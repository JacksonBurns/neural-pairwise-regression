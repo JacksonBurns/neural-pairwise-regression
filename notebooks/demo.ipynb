{
 "cells": [
  {
   "cell_type": "code",
   "execution_count": 1,
   "metadata": {},
   "outputs": [],
   "source": [
    "from statistics import mean, stdev"
   ]
  },
  {
   "cell_type": "code",
   "execution_count": null,
   "metadata": {},
   "outputs": [],
   "source": [
    "import lightning\n",
    "from lightning.pytorch.callbacks.early_stopping import EarlyStopping\n",
    "from lightning.pytorch.callbacks.model_checkpoint import ModelCheckpoint\n",
    "import torch\n",
    "import plotly.graph_objs as go\n",
    "from sklearn.metrics import mean_absolute_percentage_error"
   ]
  },
  {
   "cell_type": "code",
   "execution_count": 3,
   "metadata": {},
   "outputs": [],
   "source": [
    "from nepare.nn import NeuralPairwiseRegressor as NPR, FeedforwardNeuralNetwork as FNN\n",
    "from nepare.data import PairwiseAugmentedDataset, PairwiseAnchoredDataset, PairwiseInferenceDataset"
   ]
  },
  {
   "cell_type": "code",
   "execution_count": 4,
   "metadata": {},
   "outputs": [],
   "source": [
    "TRAIN_MARKER = dict(mode=\"markers\", marker=dict(color=\"red\", opacity=0.2, size=4))\n",
    "TRAIN_PRED = dict(mode=\"markers\", marker=dict(color=\"red\", opacity=0.4, symbol=\"diamond\", size=4))\n",
    "VAL_MARKER = dict(mode=\"markers\", marker=dict(color=\"green\", opacity=0.2, size=4))\n",
    "VAL_PRED = dict(mode=\"markers\", marker=dict(color=\"green\", opacity=0.4, symbol=\"diamond\", size=4))\n",
    "TEST_MARKER = dict(mode=\"markers\", marker=dict(color=\"blue\", opacity=0.2, size=4))\n",
    "TEST_PRED = dict(mode=\"markers\", marker=dict(color=\"blue\", opacity=0.4, symbol=\"diamond\", size=4))"
   ]
  },
  {
   "cell_type": "code",
   "execution_count": null,
   "metadata": {},
   "outputs": [],
   "source": [
    "SEED = 1701\n",
    "lightning.seed_everything(SEED)"
   ]
  },
  {
   "cell_type": "code",
   "execution_count": 6,
   "metadata": {},
   "outputs": [],
   "source": [
    "X = torch.rand((200, 2), dtype=torch.float32)\n",
    "y = torch.sin(8*X[:, 0]) + 3 * X[:, 1].pow(2)  # sin(x1) + 3 * x2^2\n",
    "y = y.reshape(-1, 1)"
   ]
  },
  {
   "cell_type": "code",
   "execution_count": 7,
   "metadata": {},
   "outputs": [],
   "source": [
    "train_idxs = torch.argwhere((X < 0.5).any(dim=1)).flatten()\n",
    "val_idxs = train_idxs[0:int(len(train_idxs)*0.2)]\n",
    "train_idxs = train_idxs[int(len(train_idxs)*0.2):]\n",
    "test_idxs = torch.argwhere((X >= 0.5).all(dim=1)).flatten()"
   ]
  },
  {
   "cell_type": "code",
   "execution_count": null,
   "metadata": {},
   "outputs": [],
   "source": [
    "fig = go.Figure()\n",
    "fig.add_trace(go.Scatter3d(x=X[train_idxs, 0], y=X[train_idxs, 1], z=y[train_idxs].flatten(), **TRAIN_MARKER))\n",
    "fig.add_trace(go.Scatter3d(x=X[val_idxs, 0], y=X[val_idxs, 1], z=y[val_idxs].flatten(), **VAL_MARKER))\n",
    "fig.add_trace(go.Scatter3d(x=X[test_idxs, 0], y=X[test_idxs, 1], z=y[test_idxs].flatten(), **TEST_MARKER))\n",
    "fig.show()"
   ]
  },
  {
   "cell_type": "code",
   "execution_count": null,
   "metadata": {},
   "outputs": [],
   "source": [
    "training_dataset = torch.utils.data.TensorDataset(X[train_idxs], y[train_idxs])\n",
    "validation_dataset = torch.utils.data.TensorDataset(X[val_idxs], y[val_idxs])\n",
    "testing_dataset = torch.utils.data.TensorDataset(X[test_idxs], y[test_idxs])\n",
    "predict_dataset = torch.utils.data.TensorDataset(X[test_idxs])\n",
    "train_loader = torch.utils.data.DataLoader(training_dataset, batch_size=8, shuffle=True)\n",
    "val_loader = torch.utils.data.DataLoader(validation_dataset, batch_size=8)\n",
    "test_loader = torch.utils.data.DataLoader(testing_dataset, batch_size=8)\n",
    "predict_loader = torch.utils.data.DataLoader(predict_dataset, batch_size=4)\n",
    "fnn = FNN(2, 50, 3)\n",
    "early_stopping = EarlyStopping(monitor=\"validation/loss\")\n",
    "model_checkpoint = ModelCheckpoint(monitor=\"validation/loss\")\n",
    "trainer = lightning.Trainer(max_epochs=50, log_every_n_steps=1, callbacks=[early_stopping, model_checkpoint])\n",
    "trainer.fit(fnn, train_loader, val_loader)\n",
    "fnn = FNN.load_from_checkpoint(model_checkpoint.best_model_path)  # reload best model based on early stopping\n",
    "trainer.test(fnn, test_loader)\n",
    "y_pred = torch.vstack(trainer.predict(fnn, predict_loader)).numpy()\n"
   ]
  },
  {
   "cell_type": "code",
   "execution_count": null,
   "metadata": {},
   "outputs": [],
   "source": [
    "fig = go.Figure()\n",
    "fig.add_trace(go.Scatter3d(x=X[train_idxs, 0], y=X[train_idxs, 1], z=y[train_idxs].flatten(), **TRAIN_MARKER))\n",
    "fig.add_trace(go.Scatter3d(x=X[val_idxs, 0], y=X[val_idxs, 1], z=y[val_idxs].flatten(), **VAL_MARKER))\n",
    "fig.add_trace(go.Scatter3d(x=X[test_idxs, 0], y=X[test_idxs, 1], z=y[test_idxs].flatten(), **TEST_MARKER))\n",
    "fig.add_trace(go.Scatter3d(x=X[test_idxs, 0], y=X[test_idxs, 1], z=y_pred.flatten(), **TEST_PRED))\n",
    "fig.show()\n",
    "print(mean_absolute_percentage_error(y[test_idxs], y_pred, sample_weight=y[test_idxs]))"
   ]
  },
  {
   "cell_type": "code",
   "execution_count": null,
   "metadata": {},
   "outputs": [],
   "source": [
    "y[test_idxs].flatten()"
   ]
  },
  {
   "cell_type": "code",
   "execution_count": null,
   "metadata": {},
   "outputs": [],
   "source": [
    "y_pred"
   ]
  },
  {
   "cell_type": "code",
   "execution_count": 12,
   "metadata": {},
   "outputs": [],
   "source": [
    "training_dataset = PairwiseAugmentedDataset(X[train_idxs], y[train_idxs], how='full')\n",
    "validation_dataset = PairwiseAnchoredDataset(X[train_idxs], y[train_idxs], X[val_idxs], y[val_idxs], how='full')\n",
    "# for metrics reported in the pairwise space\n",
    "testing_dataset = PairwiseAnchoredDataset(X[train_idxs], y[train_idxs], X[test_idxs], y[test_idxs], how='full')\n",
    "# for metrics reported in the absolute space\n",
    "predict_dataset = PairwiseInferenceDataset(X[train_idxs], y[train_idxs], X[test_idxs], how='full')\n",
    "train_loader = torch.utils.data.DataLoader(training_dataset, batch_size=64, shuffle=True)\n",
    "val_loader = torch.utils.data.DataLoader(validation_dataset, batch_size=64)\n",
    "test_loader = torch.utils.data.DataLoader(testing_dataset, batch_size=64)\n",
    "predict_loader = torch.utils.data.DataLoader(predict_dataset, batch_size=4)"
   ]
  },
  {
   "cell_type": "code",
   "execution_count": 13,
   "metadata": {},
   "outputs": [],
   "source": [
    "npr = NPR(2, 50, 3)\n",
    "early_stopping = EarlyStopping(monitor=\"validation/loss\")\n",
    "model_checkpoint = ModelCheckpoint(monitor=\"validation/loss\")"
   ]
  },
  {
   "cell_type": "code",
   "execution_count": null,
   "metadata": {},
   "outputs": [],
   "source": [
    "trainer = lightning.Trainer(max_epochs=50, log_every_n_steps=1, callbacks=[early_stopping, model_checkpoint])\n",
    "trainer.fit(npr, train_loader, val_loader)"
   ]
  },
  {
   "cell_type": "code",
   "execution_count": 15,
   "metadata": {},
   "outputs": [],
   "source": [
    "npr = NPR.load_from_checkpoint(model_checkpoint.best_model_path)  # reload best model based on early stopping"
   ]
  },
  {
   "cell_type": "code",
   "execution_count": null,
   "metadata": {},
   "outputs": [],
   "source": [
    "trainer.test(npr, test_loader)"
   ]
  },
  {
   "cell_type": "code",
   "execution_count": null,
   "metadata": {},
   "outputs": [],
   "source": [
    "test_pred = torch.vstack(trainer.predict(npr, predict_loader))  # refactor this and the below cells into the nepare.inference.predict function"
   ]
  },
  {
   "cell_type": "code",
   "execution_count": 18,
   "metadata": {},
   "outputs": [],
   "source": [
    "# do the collation in Python-land for simplicity, sacrificing speed for now\n",
    "absolute_predictions = {idx: [] for idx in range(predict_loader.dataset.Xs[1].shape[0])}\n",
    "for pair, prediction in zip(predict_loader.dataset.pairs, test_pred):\n",
    "    # for a pair of inputs i,j the network predicts delta_i,j in that order\n",
    "    # map back to the actual values here\n",
    "    if pair.src_2 == 1:  # inference point is in position two\n",
    "        # y_1 - y_2 = f(x_1,x_2) -> y_1 - f(x_1,x_2) = y_2\n",
    "        _pred = predict_loader.dataset.y_anchors[pair.idx_1] - prediction\n",
    "        absolute_predictions[pair.idx_2].append(_pred.item())\n",
    "    else:\n",
    "        # y_1 - y_2 = f(x_1,x_2) -> y_1 = f(x_1,x_2) + y_2\n",
    "        _pred = prediction + predict_loader.dataset.y_anchors[pair.idx_2]\n",
    "        absolute_predictions[pair.idx_1].append(_pred.item())"
   ]
  },
  {
   "cell_type": "code",
   "execution_count": null,
   "metadata": {},
   "outputs": [],
   "source": [
    "y_pred = []\n",
    "y_stdev = []\n",
    "for idx, preds in absolute_predictions.items():\n",
    "    print(f\"Index {idx}: actual={y[test_idxs][idx].item():.3f}, predicted={mean(preds):.3f}+/-{stdev(preds):.3f}\")\n",
    "    y_pred.append(mean(preds))\n",
    "    y_stdev.append(stdev(preds))"
   ]
  },
  {
   "cell_type": "code",
   "execution_count": null,
   "metadata": {},
   "outputs": [],
   "source": [
    "fig = go.Figure()\n",
    "fig.add_trace(go.Scatter3d(x=X[train_idxs, 0], y=X[train_idxs, 1], z=y[train_idxs].flatten(), **TRAIN_MARKER))\n",
    "fig.add_trace(go.Scatter3d(x=X[val_idxs, 0], y=X[val_idxs, 1], z=y[val_idxs].flatten(), **VAL_MARKER))\n",
    "fig.add_trace(go.Scatter3d(x=X[test_idxs, 0], y=X[test_idxs, 1], z=y[test_idxs].flatten(), **TEST_MARKER))\n",
    "fig.add_trace(go.Scatter3d(x=X[test_idxs, 0], y=X[test_idxs, 1], z=y_pred, error_z=dict(\n",
    "            type='data', # value of error bar given in data coordinates\n",
    "            array=y_stdev,\n",
    "            visible=True), **TEST_PRED))\n",
    "fig.show()"
   ]
  },
  {
   "cell_type": "code",
   "execution_count": null,
   "metadata": {},
   "outputs": [],
   "source": [
    "print(mean_absolute_percentage_error(y[test_idxs], y_pred, sample_weight=y[test_idxs]))"
   ]
  }
 ],
 "metadata": {
  "kernelspec": {
   "display_name": ".venv",
   "language": "python",
   "name": "python3"
  },
  "language_info": {
   "codemirror_mode": {
    "name": "ipython",
    "version": 3
   },
   "file_extension": ".py",
   "mimetype": "text/x-python",
   "name": "python",
   "nbconvert_exporter": "python",
   "pygments_lexer": "ipython3",
   "version": "3.12.3"
  }
 },
 "nbformat": 4,
 "nbformat_minor": 2
}
